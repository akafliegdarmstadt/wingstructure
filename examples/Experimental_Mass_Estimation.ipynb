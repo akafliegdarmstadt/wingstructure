{
 "cells": [
  {
   "cell_type": "code",
   "execution_count": 1,
   "metadata": {
    "collapsed": false
   },
   "outputs": [],
   "source": [
    "%matplotlib inline\n",
    "from matplotlib import pyplot as plt\n",
    "from wingstructure import Wing, LiftAnalysis, LiftAndMomentAnalysis\n",
    "import numpy as np\n",
    "import copy\n",
    "from wingstructure.structure import WingSection"
   ]
  },
  {
   "cell_type": "markdown",
   "metadata": {},
   "source": [
    "## wing definition"
   ]
  },
  {
   "cell_type": "code",
   "execution_count": 5,
   "metadata": {
    "collapsed": false
   },
   "outputs": [
    {
     "data": {
      "image/png": "[encoded data removed]",
      "text/plain": [
       "<Figure size 432x288 with 1 Axes>"
      ]
     },
     "metadata": {},
     "output_type": "display_data"
    }
   ],
   "source": [
    "span_positions = [0, 2, 5, 7]\n",
    "chord_lengths = [1, 0.9, 0.6, 0.3]\n",
    "offsets = [0, 0.1, 0.4, 0.7]\n",
    "twists = [0]*4\n",
    "airfoils = ['ah93157']*4\n",
    "\n",
    "wing = Wing.create_from_planform(span_positions, chord_lengths, offsets, twists, airfoils);\n",
    "wing.set_root_pos(0.7)\n",
    "wing.set_airbrake(1,2.3)\n",
    "\n",
    "wing.set_flap('QR', 2, 5, (0.3,0.2))\n",
    "wing.set_flap('QR2', 5, 7, (0.2,0.2))\n",
    "wing.plot()\n",
    "\n",
    "coords = np.loadtxt('airfoils/ah93157.dat', skiprows=1)"
   ]
  },
  {
   "cell_type": "code",
   "execution_count": 6,
   "metadata": {
    "collapsed": false
   },
   "outputs": [],
   "source": [
    "skins = ( \n",
    "            {\n",
    "                'thickness': 2e-3, #m\n",
    "                'rho': 30 # kg/m^3\n",
    "            },\n",
    "            {\n",
    "                'thickness': 10e-3, #m\n",
    "                'rho': 120, # kg/m^3\n",
    "                'chord-bounds': (0.1, 0.3), #bounds/chord_length\n",
    "                'span-bounds': (0, 4), # m halfspanwidth\n",
    "            },\n",
    "            {\n",
    "                'thickness': 5e-3, #m\n",
    "                'rho': 120, # kg/m^3\n",
    "                'chord-bounds': (0.1, 0.3), #bounds/chord_length\n",
    "                'span-bounds': (4, 7), # m halfspanwidth\n",
    "            },\n",
    "            {\n",
    "                'thickness': 10e-3, #m\n",
    "                'rho': 30, # kg/m^3\n",
    "                'chord-bounds': (0.5, 0.7),\n",
    "            },\n",
    "            {\n",
    "                'thickness': 1.5e-3, #m\n",
    "                'rho': 30 #kg/m^3\n",
    "            },\n",
    "            {\n",
    "                'thickness': 1.5e-3, #m\n",
    "                'rho': 30 #kg/m^3\n",
    "            },\n",
    "        )\n",
    "\n",
    "spar = {\n",
    "            'flange_thickness': 10e-3, #m\n",
    "            'position': 0.4, # position/chord_length\n",
    "            'flange_width': 0.07, # width/chord_length\n",
    "            'flange_rho': 30, #kg/m^3\n",
    "            'web_position': 0.45, # position/chord_length\n",
    "            'web_thickness': 7e-3, #m\n",
    "            'web_rho': 30, #kg/m^3\n",
    "        }\n",
    "\n",
    "trailing_web = {\n",
    "            'thickness': 10e-3, #m\n",
    "            'offset': 3e-3, #m\n",
    "            'rho': 30, #kg/m^3\n",
    "        }\n",
    "\n",
    "wingsec = WingSection(wing, {'ah93157':coords}, skins, spar, trailing_web)"
   ]
  },
  {
   "cell_type": "code",
   "execution_count": 7,
   "metadata": {
    "collapsed": false
   },
   "outputs": [
    {
     "name": "stderr",
     "output_type": "stream",
     "text": [
      "TopologyException: assigned depths do not match at 0.11048917756321722 -0.025352355966609709\n"
     ]
    },
    {
     "ename": "ValueError",
     "evalue": "No Shapely geometry can be created from null value",
     "output_type": "error",
     "traceback": [
      "\u001b[0;31m---------------------------------------------------------------------------\u001b[0m",
      "\u001b[0;31mValueError\u001b[0m                                Traceback (most recent call last)",
      "\u001b[0;32m<ipython-input-7-6fcbfd83e582>\u001b[0m in \u001b[0;36m<module>\u001b[0;34m()\u001b[0m\n\u001b[0;32m----> 1\u001b[0;31m \u001b[0mwingsec\u001b[0m\u001b[0;34m.\u001b[0m\u001b[0mupdate_geometry\u001b[0m\u001b[0;34m(\u001b[0m\u001b[0mwing\u001b[0m\u001b[0;34m.\u001b[0m\u001b[0mroot_pos\u001b[0m\u001b[0;34m)\u001b[0m\u001b[0;34m\u001b[0m\u001b[0m\n\u001b[0m",
      "\u001b[0;32m~/Programmieren/wingstructure/wingstructure/structure.py\u001b[0m in \u001b[0;36mupdate_geometry\u001b[0;34m(self, span_pos)\u001b[0m\n\u001b[1;32m     67\u001b[0m                 \u001b[0;31m#print('create skin_{}'.format(ii))\u001b[0m\u001b[0;34m\u001b[0m\u001b[0;34m\u001b[0m\u001b[0m\n\u001b[1;32m     68\u001b[0m                 \u001b[0mself\u001b[0m\u001b[0;34m.\u001b[0m\u001b[0minter2\u001b[0m \u001b[0;34m=\u001b[0m \u001b[0mself\u001b[0m\u001b[0;34m.\u001b[0m\u001b[0minterior\u001b[0m\u001b[0;34m\u001b[0m\u001b[0m\n\u001b[0;32m---> 69\u001b[0;31m                 \u001b[0mtmp_interior\u001b[0m \u001b[0;34m=\u001b[0m \u001b[0mself\u001b[0m\u001b[0;34m.\u001b[0m\u001b[0minterior\u001b[0m\u001b[0;34m.\u001b[0m\u001b[0mparallel_offset\u001b[0m\u001b[0;34m(\u001b[0m\u001b[0mskin\u001b[0m\u001b[0;34m[\u001b[0m\u001b[0;34m'thickness'\u001b[0m\u001b[0;34m]\u001b[0m\u001b[0;34m,\u001b[0m \u001b[0mside\u001b[0m\u001b[0;34m=\u001b[0m\u001b[0mself\u001b[0m\u001b[0;34m.\u001b[0m\u001b[0m_get_inside_direction\u001b[0m\u001b[0;34m(\u001b[0m\u001b[0mself\u001b[0m\u001b[0;34m.\u001b[0m\u001b[0minterior\u001b[0m\u001b[0;34m)\u001b[0m\u001b[0;34m)\u001b[0m\u001b[0;34m\u001b[0m\u001b[0m\n\u001b[0m\u001b[1;32m     70\u001b[0m \u001b[0;34m\u001b[0m\u001b[0m\n\u001b[1;32m     71\u001b[0m                 \u001b[0;32mif\u001b[0m \u001b[0mtmp_interior\u001b[0m\u001b[0;34m.\u001b[0m\u001b[0mtype\u001b[0m \u001b[0;34m==\u001b[0m \u001b[0;34m'MultiLineString'\u001b[0m\u001b[0;34m:\u001b[0m\u001b[0;34m\u001b[0m\u001b[0m\n",
      "\u001b[0;32m~/.anaconda3/lib/python3.6/site-packages/shapely/geometry/linestring.py\u001b[0m in \u001b[0;36mparallel_offset\u001b[0;34m(self, distance, side, resolution, join_style, mitre_limit)\u001b[0m\n\u001b[1;32m    144\u001b[0m         \u001b[0;32mtry\u001b[0m\u001b[0;34m:\u001b[0m\u001b[0;34m\u001b[0m\u001b[0m\n\u001b[1;32m    145\u001b[0m             return geom_factory(self.impl['parallel_offset'](\n\u001b[0;32m--> 146\u001b[0;31m                 self, distance, resolution, join_style, mitre_limit, side))\n\u001b[0m\u001b[1;32m    147\u001b[0m         \u001b[0;32mexcept\u001b[0m \u001b[0mOSError\u001b[0m\u001b[0;34m:\u001b[0m\u001b[0;34m\u001b[0m\u001b[0m\n\u001b[1;32m    148\u001b[0m             \u001b[0;32mraise\u001b[0m \u001b[0mTopologicalError\u001b[0m\u001b[0;34m(\u001b[0m\u001b[0;34m)\u001b[0m\u001b[0;34m\u001b[0m\u001b[0m\n",
      "\u001b[0;32m~/.anaconda3/lib/python3.6/site-packages/shapely/geometry/base.py\u001b[0m in \u001b[0;36mgeom_factory\u001b[0;34m(g, parent)\u001b[0m\n\u001b[1;32m     74\u001b[0m     \u001b[0;31m# Abstract geometry factory for use with topological methods below\u001b[0m\u001b[0;34m\u001b[0m\u001b[0;34m\u001b[0m\u001b[0m\n\u001b[1;32m     75\u001b[0m     \u001b[0;32mif\u001b[0m \u001b[0;32mnot\u001b[0m \u001b[0mg\u001b[0m\u001b[0;34m:\u001b[0m\u001b[0;34m\u001b[0m\u001b[0m\n\u001b[0;32m---> 76\u001b[0;31m         \u001b[0;32mraise\u001b[0m \u001b[0mValueError\u001b[0m\u001b[0;34m(\u001b[0m\u001b[0;34m\"No Shapely geometry can be created from null value\"\u001b[0m\u001b[0;34m)\u001b[0m\u001b[0;34m\u001b[0m\u001b[0m\n\u001b[0m\u001b[1;32m     77\u001b[0m     \u001b[0mob\u001b[0m \u001b[0;34m=\u001b[0m \u001b[0mBaseGeometry\u001b[0m\u001b[0;34m(\u001b[0m\u001b[0;34m)\u001b[0m\u001b[0;34m\u001b[0m\u001b[0m\n\u001b[1;32m     78\u001b[0m     \u001b[0mgeom_type\u001b[0m \u001b[0;34m=\u001b[0m \u001b[0mgeometry_type_name\u001b[0m\u001b[0;34m(\u001b[0m\u001b[0mg\u001b[0m\u001b[0;34m)\u001b[0m\u001b[0;34m\u001b[0m\u001b[0m\n",
      "\u001b[0;31mValueError\u001b[0m: No Shapely geometry can be created from null value"
     ]
    }
   ],
   "source": [
    "wingsec.update_geometry(wing.root_pos)"
   ]
  },
  {
   "cell_type": "code",
   "execution_count": 8,
   "metadata": {
    "collapsed": false
   },
   "outputs": [
    {
     "data": {
      "image/png": "[encoded data removed]",
      "text/plain": [
       "<Figure size 432x288 with 1 Axes>"
      ]
     },
     "metadata": {},
     "output_type": "display_data"
    }
   ],
   "source": [
    "wingsec.plot()"
   ]
  },
  {
   "cell_type": "code",
   "execution_count": 9,
   "metadata": {
    "collapsed": false
   },
   "outputs": [
    {
     "data": {
      "text/plain": [
       "(0.4825, -0.03748676881549507, 0.6755, 0.10777121509244642)"
      ]
     },
     "execution_count": 9,
     "metadata": {},
     "output_type": "execute_result"
    }
   ],
   "source": [
    "wingsec.inter.bounds"
   ]
  },
  {
   "cell_type": "code",
   "execution_count": 10,
   "metadata": {
    "collapsed": false
   },
   "outputs": [
    {
     "ename": "AttributeError",
     "evalue": "'Wing' object has no attribute 'span_width'",
     "output_type": "error",
     "traceback": [
      "\u001b[0;31m---------------------------------------------------------------------------\u001b[0m",
      "\u001b[0;31mAttributeError\u001b[0m                            Traceback (most recent call last)",
      "\u001b[0;32m<ipython-input-10-8f478e33152a>\u001b[0m in \u001b[0;36m<module>\u001b[0;34m()\u001b[0m\n\u001b[1;32m      3\u001b[0m \u001b[0mvolume\u001b[0m \u001b[0;34m=\u001b[0m \u001b[0;36m0.0\u001b[0m\u001b[0;34m\u001b[0m\u001b[0m\n\u001b[1;32m      4\u001b[0m \u001b[0;34m\u001b[0m\u001b[0m\n\u001b[0;32m----> 5\u001b[0;31m \u001b[0;32mfor\u001b[0m \u001b[0mii\u001b[0m\u001b[0;34m,\u001b[0m\u001b[0my\u001b[0m \u001b[0;32min\u001b[0m \u001b[0menumerate\u001b[0m\u001b[0;34m(\u001b[0m\u001b[0mnp\u001b[0m\u001b[0;34m.\u001b[0m\u001b[0mlinspace\u001b[0m\u001b[0;34m(\u001b[0m\u001b[0mwing\u001b[0m\u001b[0;34m.\u001b[0m\u001b[0mroot_pos\u001b[0m\u001b[0;34m,\u001b[0m \u001b[0mwing\u001b[0m\u001b[0;34m.\u001b[0m\u001b[0mspan_width\u001b[0m\u001b[0;34m(\u001b[0m\u001b[0;34m)\u001b[0m\u001b[0;34m/\u001b[0m\u001b[0;36m2\u001b[0m\u001b[0;34m,\u001b[0m \u001b[0;36m5\u001b[0m\u001b[0;34m)\u001b[0m\u001b[0;34m)\u001b[0m\u001b[0;34m:\u001b[0m\u001b[0;34m\u001b[0m\u001b[0m\n\u001b[0m\u001b[1;32m      6\u001b[0m     \u001b[0mprint\u001b[0m\u001b[0;34m(\u001b[0m\u001b[0;34m'\\nSchnitt: {}'\u001b[0m\u001b[0;34m.\u001b[0m\u001b[0mformat\u001b[0m\u001b[0;34m(\u001b[0m\u001b[0mii\u001b[0m\u001b[0;34m)\u001b[0m\u001b[0;34m)\u001b[0m\u001b[0;34m\u001b[0m\u001b[0m\n\u001b[1;32m      7\u001b[0m     \u001b[0mwingsec\u001b[0m\u001b[0;34m.\u001b[0m\u001b[0mupdate_geometry\u001b[0m\u001b[0;34m(\u001b[0m\u001b[0my\u001b[0m\u001b[0;34m)\u001b[0m\u001b[0;34m\u001b[0m\u001b[0m\n",
      "\u001b[0;31mAttributeError\u001b[0m: 'Wing' object has no attribute 'span_width'"
     ]
    }
   ],
   "source": [
    "last = None\n",
    "\n",
    "volume = 0.0\n",
    "\n",
    "for ii,y in enumerate(np.linspace(wing.root_pos, wing.span_width()/2, 5)):\n",
    "    print('\\nSchnitt: {}'.format(ii))\n",
    "    wingsec.update_geometry(y)\n",
    "    current = wingsec.area\n",
    "    if last:\n",
    "        volume += (current+last)/2 * (y-ylast)\n",
    "    last = current\n",
    "    ylast = y\n",
    "    plt.figure(ii)\n",
    "    wingsec.plot()"
   ]
  },
  {
   "cell_type": "code",
   "execution_count": 15,
   "metadata": {
    "collapsed": false
   },
   "outputs": [
    {
     "data": {
      "image/svg+xml": [
       "<svg xmlns=\"http://www.w3.org/2000/svg\" xmlns:xlink=\"http://www.w3.org/1999/xlink\" width=\"100.0\" height=\"100.0\" viewBox=\"-0.5 -0.5 2.0 2.0\" preserveAspectRatio=\"xMinYMin meet\"><g transform=\"matrix(1,0,0,-1,0,1.0)\"><circle cx=\"0.5\" cy=\"0.5\" r=\"0.06\" stroke=\"#555555\" stroke-width=\"0.02\" fill=\"#66cc99\" opacity=\"0.6\" /></g></svg>"
      ],
      "text/plain": [
       "<shapely.geometry.point.Point at 0x7fbebec406d8>"
      ]
     },
     "execution_count": 15,
     "metadata": {},
     "output_type": "execute_result"
    }
   ],
   "source": [
    "from shapely.geometry import LineString, Polygon\n",
    "\n",
    "LineString([[0,0],[1,1]]).intersection(LineString([[0,1],[1,0]]))"
   ]
  },
  {
   "cell_type": "code",
   "execution_count": 9,
   "metadata": {
    "collapsed": false
   },
   "outputs": [
    {
     "data": {
      "text/plain": [
       "(0.7071067811865476, 1.4142135623730951)"
      ]
     },
     "execution_count": 9,
     "metadata": {},
     "output_type": "execute_result"
    }
   ],
   "source": [
    "line = LineString(([0,0],[1,1]))\n",
    "poly = Polygon([[0,0],[1,0],[0,1]])\n",
    "poly.intersection(line).length, line.length"
   ]
  },
  {
   "cell_type": "code",
   "execution_count": 10,
   "metadata": {
    "collapsed": false
   },
   "outputs": [
    {
     "data": {
      "text/plain": [
       "[(0.0, 0.0), (1.0, 1.0)]"
      ]
     },
     "execution_count": 10,
     "metadata": {},
     "output_type": "execute_result"
    }
   ],
   "source": [
    "line.coords[0:2]"
   ]
  },
  {
   "cell_type": "code",
   "execution_count": 10,
   "metadata": {
    "collapsed": false
   },
   "outputs": [],
   "source": []
  },
  {
   "cell_type": "code",
   "execution_count": null,
   "metadata": {
    "collapsed": false
   },
   "outputs": [],
   "source": []
  }
 ],
 "metadata": {
  "kernelspec": {
   "display_name": "Python 3",
   "language": "python",
   "name": "python3"
  },
  "language_info": {
   "codemirror_mode": {
    "name": "ipython",
    "version": 3
   },
   "file_extension": ".py",
   "mimetype": "text/x-python",
   "name": "python",
   "nbconvert_exporter": "python",
   "pygments_lexer": "ipython3",
   "version": "3.6.5"
  }
 },
 "nbformat": 4,
 "nbformat_minor": 2
}
