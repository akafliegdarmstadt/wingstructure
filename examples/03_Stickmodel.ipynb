{
 "cells": [
  {
   "cell_type": "markdown",
   "metadata": {},
   "source": [
    "# Stickmodel Demo\n",
    "\n",
    "stickmodel can be used to calculate internal forces and moments for statically determinate bar problems"
   ]
  },
  {
   "cell_type": "code",
   "execution_count": 1,
   "metadata": {},
   "outputs": [],
   "source": [
    "import numpy as np\n",
    "from matplotlib import pyplot as plt\n",
    "from wingstructure.structure.stickmodel import solve_equilibrium"
   ]
  },
  {
   "cell_type": "markdown",
   "metadata": {},
   "source": [
    "## define bar"
   ]
  },
  {
   "cell_type": "code",
   "execution_count": 21,
   "metadata": {},
   "outputs": [
    {
     "data": {
      "image/png": "[encoded data removed]",
      "text/plain": [
       "<Figure size 432x288 with 1 Axes>"
      ]
     },
     "metadata": {
      "needs_background": "light"
     },
     "output_type": "display_data"
    }
   ],
   "source": [
    "# straight bar with two segments\n",
    "nodes = np.array([[0,0,0], [0,1,0], [0,2,0]], dtype=np.float)\n",
    "\n",
    "def display_bar(anotate=False):\n",
    "    plt.plot(nodes[:,1], nodes[:, 2], 'o-')\n",
    "    plt.axis('equal')\n",
    "    plt.axis('off')\n",
    "    \n",
    "    if not anotate:\n",
    "        return\n",
    "    \n",
    "    for i, node in enumerate(nodes):\n",
    "        plt.annotate(f'node-{i}', node[1:]-np.array([0.1, 0.1]))\n",
    "        \n",
    "display_bar(True)\n",
    "plt.xlim(-0.5, 2.5);"
   ]
  },
  {
   "cell_type": "markdown",
   "metadata": {},
   "source": [
    "## define loads"
   ]
  },
  {
   "cell_type": "code",
   "execution_count": 20,
   "metadata": {},
   "outputs": [
    {
     "data": {
      "image/png": "[encoded data removed]",
      "text/plain": [
       "<Figure size 432x288 with 1 Axes>"
      ]
     },
     "metadata": {
      "needs_background": "light"
     },
     "output_type": "display_data"
    }
   ],
   "source": [
    "forces = np.array([\n",
    "    [0, 0.5, 0, 0, 1, 1, 0],\n",
    "    [0, 1.5, 0, 0, 0, 2, 1]\n",
    "])\n",
    "\n",
    "\n",
    "\n",
    "force_display_params = {\n",
    "    'head_width':0.07, \n",
    "    'head_length':0.1,\n",
    "    'linewidth':2.5\n",
    "}\n",
    "\n",
    "def display_force(ax, start, vec, color='k'):\n",
    "    if (vec==0.0).all():\n",
    "        return\n",
    "    else:\n",
    "        ax.arrow(*start, *vec, fc=color, ec=color, **force_display_params)\n",
    "    \n",
    "def display_forces(fac=0.3):\n",
    "    ax = plt.gca()\n",
    "    for force in forces:\n",
    "        display_force(ax, force[1:3], (fac*force[4:6]))\n",
    "        \n",
    "display_bar()\n",
    "display_forces(fac=0.1)\n",
    "plt.xlim(-0.5, 2.5);"
   ]
  },
  {
   "cell_type": "markdown",
   "metadata": {},
   "source": [
    "## calculate equilibrium\n",
    "\n",
    "*solve_equilibrium* calculates state of equilibrium"
   ]
  },
  {
   "cell_type": "code",
   "execution_count": 22,
   "metadata": {},
   "outputs": [
    {
     "data": {
      "image/png": "[encoded data removed]",
      "text/plain": [
       "<Figure size 432x288 with 1 Axes>"
      ]
     },
     "metadata": {
      "needs_background": "light"
     },
     "output_type": "display_data"
    }
   ],
   "source": [
    "sol = solve_equilibrium(nodes, forces, prescribed={2:np.zeros(6)})\n",
    "\n",
    "def display_sol(fac=0.3):\n",
    "    ax = plt.gca()\n",
    "    for i in range(nodes.shape[0]-1):\n",
    "        display_force(ax, nodes[i, 1:], fac*np.array([sol[i, 1], 0.0]), color=f'C0{i+1}')\n",
    "        display_force(ax, nodes[i, 1:], fac*np.array([0.0, sol[i, 2]]), color=f'C0{i+1}')\n",
    "        display_force(ax, nodes[i+1, 1:], -fac*np.array([sol[i+1, 1], 0.0]), color=f'C0{i+1}')\n",
    "        display_force(ax, nodes[i+1, 1:], -fac*np.array([0.0, sol[i+1, 2]]), color=f'C0{i+1}')\n",
    "\n",
    "display_bar()\n",
    "display_forces(fac=0.1)\n",
    "display_sol(fac=0.1)\n",
    "plt.xlim(-0.5, 2.5);"
   ]
  },
  {
   "cell_type": "code",
   "execution_count": null,
   "metadata": {},
   "outputs": [],
   "source": []
  }
 ],
 "metadata": {
  "kernelspec": {
   "display_name": "Python 3",
   "language": "python",
   "name": "python3"
  },
  "language_info": {
   "codemirror_mode": {
    "name": "ipython",
    "version": 3
   },
   "file_extension": ".py",
   "mimetype": "text/x-python",
   "name": "python",
   "nbconvert_exporter": "python",
   "pygments_lexer": "ipython3",
   "version": "3.7.3"
  }
 },
 "nbformat": 4,
 "nbformat_minor": 4
}
