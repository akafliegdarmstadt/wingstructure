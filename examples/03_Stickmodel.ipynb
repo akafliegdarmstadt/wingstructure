{
 "cells": [
  {
   "cell_type": "markdown",
   "metadata": {},
   "source": [
    "# Stickmodel Demo\n",
    "\n",
    "stickmodel can be used to calculate internal forces and moments for statically determinate bar problems"
   ]
  },
  {
   "cell_type": "code",
   "execution_count": 1,
   "metadata": {},
   "outputs": [],
   "source": [
    "import numpy as np\n",
    "from matplotlib import pyplot as plt\n",
    "from wingstructure.structure.stickmodel import solve_equilibrium"
   ]
  },
  {
   "cell_type": "markdown",
   "metadata": {},
   "source": [
    "## define bar"
   ]
  },
  {
   "cell_type": "code",
   "execution_count": 2,
   "metadata": {},
   "outputs": [
    {
     "data": {
      "image/png": "[encoded data removed]",
      "text/plain": [
       "<Figure size 432x288 with 1 Axes>"
      ]
     },
     "metadata": {
      "needs_background": "light"
     },
     "output_type": "display_data"
    }
   ],
   "source": [
    "# straight bar with two segments\n",
    "nodes = np.array([[0,0,0], [0,1,0], [0,2,0]], dtype=np.float)\n",
    "\n",
    "def display_bar(nodes, anotate=False):\n",
    "    plt.plot(nodes[:,1], nodes[:, 2], 'o-')\n",
    "    plt.axis('equal')\n",
    "    plt.axis('off')\n",
    "    \n",
    "    if not anotate:\n",
    "        return\n",
    "    \n",
    "    for i, node in enumerate(nodes):\n",
    "        plt.annotate(f'node-{i}', node[1:]-np.array([0.1, 0.1]))\n",
    "        \n",
    "display_bar(nodes, True)\n",
    "plt.xlim(-0.5, 2.5);"
   ]
  },
  {
   "cell_type": "markdown",
   "metadata": {},
   "source": [
    "## define loads"
   ]
  },
  {
   "cell_type": "code",
   "execution_count": 3,
   "metadata": {},
   "outputs": [
    {
     "data": {
      "image/png": "[encoded data removed]",
      "text/plain": [
       "<Figure size 432x288 with 1 Axes>"
      ]
     },
     "metadata": {
      "needs_background": "light"
     },
     "output_type": "display_data"
    }
   ],
   "source": [
    "forces = np.array([\n",
    "    [0, 0.5, 0, 0, 1, 1, 0],\n",
    "    [0, 1.5, 0, 0, 0, 2, 1]\n",
    "])\n",
    "\n",
    "def display_force(ax, start, vec, color='k', arrow_size=1.0):\n",
    "    if (vec==0.0).all():\n",
    "        return\n",
    "    else:\n",
    "        ax.arrow(*start, *vec, fc=color, ec=color, head_width=arrow_size*0.07,\n",
    "                 head_length=arrow_size*0.1, linewidth=2.5*arrow_size)\n",
    "    \n",
    "def display_forces(forces, fac=0.3, arrow_size=1.0):\n",
    "    ax = plt.gca()\n",
    "    for force in forces:\n",
    "        display_force(ax, force[1:3], (fac*force[4:6]), arrow_size=arrow_size)\n",
    "        \n",
    "display_bar(nodes)\n",
    "display_forces(forces, fac=0.1)\n",
    "plt.xlim(-0.5, 2.5);"
   ]
  },
  {
   "cell_type": "markdown",
   "metadata": {},
   "source": [
    "## calculate equilibrium\n",
    "\n",
    "*solve_equilibrium* calculates state of equilibrium"
   ]
  },
  {
   "cell_type": "code",
   "execution_count": 4,
   "metadata": {},
   "outputs": [
    {
     "data": {
      "image/png": "[encoded data removed]",
      "text/plain": [
       "<Figure size 432x288 with 1 Axes>"
      ]
     },
     "metadata": {
      "needs_background": "light"
     },
     "output_type": "display_data"
    }
   ],
   "source": [
    "sol = solve_equilibrium(nodes, forces, prescribed={2:np.zeros(6)})\n",
    "\n",
    "def display_sol(nodes, sol, fac=0.3):\n",
    "    ax = plt.gca()\n",
    "    for i in range(nodes.shape[0]-1):\n",
    "        display_force(ax, nodes[i, 1:], fac*np.array([sol[i, 1], 0.0]), color=f'C0{i+1}')\n",
    "        display_force(ax, nodes[i, 1:], fac*np.array([0.0, sol[i, 2]]), color=f'C0{i+1}')\n",
    "        display_force(ax, nodes[i+1, 1:], -fac*np.array([sol[i+1, 1], 0.0]), color=f'C0{i+1}')\n",
    "        display_force(ax, nodes[i+1, 1:], -fac*np.array([0.0, sol[i+1, 2]]), color=f'C0{i+1}')\n",
    "\n",
    "display_bar(nodes)\n",
    "display_forces(forces, fac=0.1)\n",
    "display_sol(nodes, sol, fac=0.1)\n",
    "plt.xlim(-0.5, 2.5);"
   ]
  },
  {
   "cell_type": "markdown",
   "metadata": {},
   "source": [
    "# more complex model"
   ]
  },
  {
   "cell_type": "code",
   "execution_count": 32,
   "metadata": {},
   "outputs": [
    {
     "data": {
      "image/png": "[encoded data removed]",
      "text/plain": [
       "<Figure size 432x288 with 1 Axes>"
      ]
     },
     "metadata": {
      "needs_background": "light"
     },
     "output_type": "display_data"
    }
   ],
   "source": [
    "n = 10\n",
    "l = 3.0\n",
    "nodes = np.vstack((np.zeros(n), np.linspace(0, l, n), np.zeros(n))).T\n",
    "\n",
    "forces = np.zeros((n-1, 7))\n",
    "\n",
    "# point of attack for forces\n",
    "el_mid_pts = nodes[:-1, :] + np.diff(nodes, axis=0)/2\n",
    "forces[:, 0:3] = el_mid_pts\n",
    "\n",
    "# magnitudes of forces, only z value\n",
    "forces[:, 5] = np.cos(el_mid_pts[:,1]*np.pi/2/l)\n",
    "\n",
    "# element force is acting on\n",
    "forces[:,-1] = range(n-1)\n",
    "\n",
    "\n",
    "display_bar(nodes)\n",
    "display_forces(forces, fac=0.3)"
   ]
  },
  {
   "cell_type": "code",
   "execution_count": 34,
   "metadata": {},
   "outputs": [
    {
     "data": {
      "text/plain": [
       "[<matplotlib.lines.Line2D at 0x7f67057b5668>]"
      ]
     },
     "execution_count": 34,
     "metadata": {},
     "output_type": "execute_result"
    },
    {
     "data": {
      "image/png": "[encoded data removed]",
      "text/plain": [
       "<Figure size 432x288 with 1 Axes>"
      ]
     },
     "metadata": {
      "needs_background": "light"
     },
     "output_type": "display_data"
    }
   ],
   "source": [
    "sol1 = np.cumsum(forces[::-1, 5])\n",
    "\n",
    "sol2 = solve_equilibrium(nodes, forces, prescribed={n-1:np.zeros(6)})\n",
    "\n",
    "plt.plot(nodes[:-1,1][::-1], sol1)\n",
    "plt.plot(nodes[:, 1], sol2[:, 2], '--')"
   ]
  },
  {
   "cell_type": "code",
   "execution_count": null,
   "metadata": {},
   "outputs": [],
   "source": []
  }
 ],
 "metadata": {
  "kernelspec": {
   "display_name": "Python 3",
   "language": "python",
   "name": "python3"
  },
  "language_info": {
   "codemirror_mode": {
    "name": "ipython",
    "version": 3
   },
   "file_extension": ".py",
   "mimetype": "text/x-python",
   "name": "python",
   "nbconvert_exporter": "python",
   "pygments_lexer": "ipython3",
   "version": "3.7.3"
  }
 },
 "nbformat": 4,
 "nbformat_minor": 4
}
