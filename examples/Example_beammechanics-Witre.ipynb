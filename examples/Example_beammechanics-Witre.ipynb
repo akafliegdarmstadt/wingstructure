{
 "cells": [
  {
   "cell_type": "code",
   "execution_count": 1,
   "metadata": {},
   "outputs": [
    {
     "data": {
      "application/vnd.jupyter.widget-view+json": {
       "model_id": "21f3c985966344f8891917fa09c2db98",
       "version_major": 2,
       "version_minor": 0
      },
      "text/plain": [
       "FigureCanvasNbAgg()"
      ]
     },
     "metadata": {},
     "output_type": "display_data"
    },
    {
     "data": {
      "application/vnd.jupyter.widget-view+json": {
       "model_id": "be1c817dd985449aad419f4f495af7e5",
       "version_major": 2,
       "version_minor": 0
      },
      "text/plain": [
       "interactive(children=(FloatSlider(value=0.0, description='Qy', max=5.0, min=-5.0), FloatSlider(value=0.0, desc…"
      ]
     },
     "metadata": {},
     "output_type": "display_data"
    },
    {
     "data": {
      "text/plain": [
       "<function __main__.plotdistri(Qy, Qz, T)>"
      ]
     },
     "execution_count": 1,
     "metadata": {},
     "output_type": "execute_result"
    }
   ],
   "source": [
    "import numpy as np\n",
    "from wingstructure.structure import beammechanics as beam\n",
    "%matplotlib ipympl\n",
    "from matplotlib import pyplot as plt\n",
    "\n",
    "# creating test geometry\n",
    "\n",
    "geometry_section = np.load('contour.npy')\n",
    "\n",
    "youngsmoduli_left = np.ones(len(geometry_section[0])-1)*12.5*10**9\n",
    "youngsmoduli_middle = np.ones(len(geometry_section[1])-1)*12.5*10*9\n",
    "youngsmoduli_right = np.ones(len(geometry_section[2])-1)*12.5*10**9\n",
    "\n",
    "shearmoduli_left = np.ones(len(geometry_section[0])-1)*19.6*10**9\n",
    "shearmoduli_middle = np.ones(len(geometry_section[1])-1)*19.6*10**9\n",
    "shearmoduli_right = np.ones(len(geometry_section[2])-1)*19.6*10**9\n",
    "\n",
    "thicknesses_left = np.ones(len(geometry_section[0])-1)*0.003\n",
    "thicknesses_middle = np.ones(len(geometry_section[1])-1)*0.003\n",
    "thicknesses_right = np.ones(len(geometry_section[2])-1)*0.003\n",
    "\n",
    "youngsmoduli_section = youngsmoduli_left, youngsmoduli_middle, youngsmoduli_right\n",
    "shearmoduli_section = shearmoduli_left, shearmoduli_middle, shearmoduli_right\n",
    "thicknesses_section = thicknesses_left, thicknesses_middle, thicknesses_right\n",
    "\n",
    "generate_testsection = lambda : beam.Crosssection(geometry_section, youngsmoduli_section, shearmoduli_section, thicknesses_section)\n",
    "testsections = [generate_testsection()]*60\n",
    "\n",
    "geol = testsections[0].geometries[0]\n",
    "geom = testsections[0].geometries[1]\n",
    "geor = testsections[0].geometries[2]\n",
    "\n",
    "\n",
    "def plotdistri(Qy, Qz, T):\n",
    "    \n",
    "    Q = [Qy,Qz]\n",
    "    Q_new = beam.transform(np.array((Q)), testsections[0].Θ)\n",
    "    shearflow = testsections[0].shearflow_total(Q_new, T)\n",
    "    shearflow = np.array(shearflow)/30\n",
    "    \n",
    "    plt.clf()\n",
    "    \n",
    "    shearflow_plot = testsections[0].plot_around_profil(shearflow)\n",
    "\n",
    "    shearflow_plot_left = shearflow_plot[0]\n",
    "    shearflow_plot_middle = shearflow_plot[1]\n",
    "    shearflow_plot_right = shearflow_plot[2]\n",
    "    \n",
    "    center = testsections[0].shearcenter()\n",
    "    t4 = testsections[0].t4_point()\n",
    "    \n",
    "    plt.plot(geol[:,0], geol[:,1])\n",
    "    plt.plot(geom[:,0], geom[:,1])\n",
    "    plt.plot(geor[:,0], geor[:,1])\n",
    "    plt.plot(center[0], center[1], 'o')\n",
    "    plt.plot(t4[0], t4[1], 'x')\n",
    "    plt.axis('equal')\n",
    "    \n",
    "    \n",
    "    plt.plot(shearflow_plot_left[:,0], shearflow_plot_left[:,1], 'orange')\n",
    "    plt.plot(shearflow_plot_middle[:,0], shearflow_plot_middle[:,1], 'orange')\n",
    "    plt.plot(shearflow_plot_right[:,0], shearflow_plot_right[:,1], 'orange')\n",
    "\n",
    "    plt.arrow(t4[0], t4[1], 0, -Qz/10, linewidth=2, color='red')\n",
    "    plt.arrow(t4[0], t4[1], -Qy/10, 0, linewidth=2, color='red')\n",
    "\n",
    "\n",
    "\n",
    "    line1 = np.array((shearflow_plot_left[0], shearflow_plot_right[0]))\n",
    "    plt.plot(line1[:,0], line1[:,1], 'orange')\n",
    "\n",
    "    line2 = np.array((shearflow_plot_left[-1], shearflow_plot_right[-1]))\n",
    "    plt.plot(line2[:,0], line2[:,1], 'orange')\n",
    "    \n",
    "    \n",
    "\n",
    "from ipywidgets import interact, interactive, fixed, interact_manual, FloatSlider\n",
    "import ipywidgets as widgets\n",
    "\n",
    "plt.figure()\n",
    "\n",
    "\n",
    "Q_y_slider = FloatSlider(value=0.0, min=-5, max=5)\n",
    "Q_z_slider = FloatSlider(value=0.0, min=-5, max=5)\n",
    "T_slider = FloatSlider(value=0.0, min=-5, max=5)\n",
    "\n",
    "interact(plotdistri, Qy=Q_y_slider, Qz=Q_z_slider, T=T_slider)"
   ]
  },
  {
   "cell_type": "code",
   "execution_count": null,
   "metadata": {},
   "outputs": [],
   "source": []
  }
 ],
 "metadata": {
  "kernelspec": {
   "display_name": "Python 3",
   "language": "python",
   "name": "python3"
  },
  "language_info": {
   "codemirror_mode": {
    "name": "ipython",
    "version": 3
   },
   "file_extension": ".py",
   "mimetype": "text/x-python",
   "name": "python",
   "nbconvert_exporter": "python",
   "pygments_lexer": "ipython3",
   "version": "3.7.1"
  }
 },
 "nbformat": 4,
 "nbformat_minor": 2
}
