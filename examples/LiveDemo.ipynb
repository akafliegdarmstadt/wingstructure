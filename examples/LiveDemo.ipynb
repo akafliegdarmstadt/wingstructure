{
 "cells": [
  {
   "cell_type": "markdown",
   "metadata": {},
   "source": [
    "**Imports**"
   ]
  },
  {
   "cell_type": "code",
   "execution_count": 11,
   "metadata": {},
   "outputs": [],
   "source": [
    "%matplotlib ipympl\n",
    "from ipywidgets import interact, interactive, ToggleButton, IntSlider, FloatSlider, Output\n",
    "import ipywidgets as widgets\n",
    "from matplotlib import pyplot as plt\n",
    "from wingstructure import data, aero"
   ]
  },
  {
   "cell_type": "markdown",
   "metadata": {},
   "source": [
    "# Airfoil definition"
   ]
  },
  {
   "cell_type": "code",
   "execution_count": 12,
   "metadata": {},
   "outputs": [
    {
     "data": {
      "application/vnd.jupyter.widget-view+json": {
       "model_id": "1cb3a54d2b454ca8beb038af0c19f5c9",
       "version_major": 2,
       "version_minor": 0
      },
      "text/plain": [
       "FigureCanvasNbAgg()"
      ]
     },
     "metadata": {},
     "output_type": "display_data"
    }
   ],
   "source": [
    "# create wing object\n",
    "wing = data.Wing()\n",
    "\n",
    "# add sections to wing\n",
    "wing.add_section(data.Point(0.0, 0.0, 0.0), 1.0, 0.0)\n",
    "wing.add_section(data.Point(0.05, 4.25, 0.0), 0.7, 0.0)\n",
    "wing.add_section(data.Point(0.1, 7.75, 0.0), 0.35, 0.0)\n",
    "\n",
    "# set fuselage with (=root of wing) to zero\n",
    "wing.set_root_pos(0.0)\n",
    "\n",
    "# define spoiler position\n",
    "wing.set_spoiler(1.5, 2.9)\n",
    "\n",
    "# define control-surfaces\n",
    "wing.set_flap('flap', 1, 2.8,[0.7,0.7])\n",
    "wing.set_flap('flap2', 4.25, 7, [0.7,0.8])\n",
    "\n",
    "# display simple wing\n",
    "plt.figure(figsize=(8,5))\n",
    "wing.plot()"
   ]
  },
  {
   "cell_type": "markdown",
   "metadata": {},
   "source": [
    "# Lift calculation"
   ]
  },
  {
   "cell_type": "code",
   "execution_count": 13,
   "metadata": {
    "slideshow": {
     "slide_type": "skip"
    }
   },
   "outputs": [],
   "source": [
    "class liftplotter:\n",
    "    def __init__(self):\n",
    "        \n",
    "        self.liftana = aero.LiftAnalysis(wing=wing)\n",
    "        \n",
    "        self.fig = plt.figure()\n",
    "        \n",
    "        self.ax = plt.gca()\n",
    "        \n",
    "        plt.ylabel('lokaler Auftriebsbeiwert $c_l$')\n",
    "        plt.xlabel('Spannweitenposition y in m')\n",
    "        \n",
    "        plt.ylim(-1.7, 2.1)\n",
    "        \n",
    "        res = self._calc(0.0)\n",
    "        plt.grid()\n",
    "        \n",
    "        self.line = self.ax.plot(self.liftana.calc_ys, res[1])[0]\n",
    "        \n",
    "        self.text = plt.text(8, -1.7, r'$\\alpha = {}^\\circ$'.format(res[0]),\n",
    "                             horizontalalignment='right')\n",
    "    \n",
    "    def _calc(self, C_L, aileron_l=0.0, aileron_r=0.0, spoiler=False):\n",
    "        \n",
    "        flap = {'flap2': [aileron_l, aileron_r]}\n",
    "    \n",
    "        res = self.liftana.calculate(C_L, air_brake=spoiler, flap_deflections=flap)\n",
    "        \n",
    "        return res\n",
    "    \n",
    "    def plotdistri(self,C_L, spoiler=False, aileron_l=0.0, aileron_r=0.0):\n",
    "        \n",
    "        res = self._calc(C_L, spoiler, aileron_l, aileron_r)\n",
    "        \n",
    "        self.line.set_ydata(res[1])\n",
    "        self.text.set_text(r'$\\alpha = {:.2f}^\\circ$'.format(res[0]))"
   ]
  },
  {
   "cell_type": "code",
   "execution_count": 14,
   "metadata": {
    "slideshow": {
     "slide_type": "slide"
    }
   },
   "outputs": [
    {
     "name": "stderr",
     "output_type": "stream",
     "text": [
      "/home/jonathan/Programmieren/wingstructure/wingstructure/aero/analysis.py:33: UserWarning: No airfoil database defined, using default airfoil.\n",
      "  warn('No airfoil database defined, using default airfoil.')\n"
     ]
    },
    {
     "data": {
      "application/vnd.jupyter.widget-view+json": {
       "model_id": "9dbd541a486d4fdfb033ea376566c9a2",
       "version_major": 2,
       "version_minor": 0
      },
      "text/plain": [
       "FigureCanvasNbAgg()"
      ]
     },
     "metadata": {},
     "output_type": "display_data"
    },
    {
     "data": {
      "application/vnd.jupyter.widget-view+json": {
       "model_id": "f4e7e5469a58464fada16e78a238bd81",
       "version_major": 2,
       "version_minor": 0
      },
      "text/plain": [
       "interactive(children=(FloatSlider(value=0.0, description='C_L', max=1.5, min=-1.0), FloatSlider(value=0.0, des…"
      ]
     },
     "metadata": {},
     "output_type": "display_data"
    }
   ],
   "source": [
    "lp = liftplotter()\n",
    "\n",
    "def pltfun(C_L, aileron_l, aileron_r, spoiler):\n",
    "    \n",
    "    lp.plotdistri(C_L, aileron_l, aileron_r, spoiler)\n",
    "\n",
    "lift_slider = FloatSlider(value=0.0, min=-1.0, max=1.5)\n",
    "spoiler_button = ToggleButton(value=False, description='spoiler')\n",
    "aileron_slider_l = FloatSlider(value=0.0, min=-8, max=9)\n",
    "aileron_slider_r = FloatSlider(value=0.0, min=-8, max=9)\n",
    "    \n",
    "interact(pltfun, \n",
    "         C_L=lift_slider, \n",
    "         aileron_l=aileron_slider_l,\n",
    "         aileron_r=aileron_slider_r,\n",
    "         spoiler=spoiler_button);"
   ]
  },
  {
   "cell_type": "code",
   "execution_count": 15,
   "metadata": {},
   "outputs": [
    {
     "data": {
      "application/vnd.jupyter.widget-view+json": {
       "model_id": "3971b95b75e94e00a1660b36ebfc9901",
       "version_major": 2,
       "version_minor": 0
      },
      "text/plain": [
       "Output()"
      ]
     },
     "metadata": {},
     "output_type": "display_data"
    },
    {
     "data": {
      "application/vnd.jupyter.widget-view+json": {
       "model_id": "30b37e4dc680477590820accf1ade234",
       "version_major": 2,
       "version_minor": 0
      },
      "text/plain": [
       "interactive(children=(IntSlider(value=20, description='Holmdicke', max=35, min=10), FloatSlider(value=1.0, des…"
      ]
     },
     "metadata": {},
     "output_type": "display_data"
    }
   ],
   "source": [
    "from wingstructure import structure\n",
    "import collections as col\n",
    "\n",
    "# Material Definition\n",
    "Material = col.namedtuple('Material', ['ρ'])\n",
    "\n",
    "fabric = Material(ρ=0.3e3)\n",
    "foam = Material(ρ=0.18e3)\n",
    "\n",
    "# load airfoil.dat file\n",
    "coords = np.loadtxt('airfoils/ah93157.dat', skiprows=1)*1.2\n",
    "\n",
    "# initialize base for section analysis\n",
    "secbase = structure.SectionBase(coords)\n",
    "\n",
    "# add shell layers\n",
    "out = structure.Layer(fabric, 2e-3)\n",
    "core = structure.Layer(fabric, 5e-3)\n",
    "inner = structure.Layer(fabric, 2e-3)\n",
    "secbase.append(out)\n",
    "secbase.append(core)\n",
    "secbase.append(inner)\n",
    "\n",
    "# add spar\n",
    "spar = structure.ISpar({'flange': fabric, 'web': fabric}, 0.5, 0.3, 3e-2, 0.8, 5e-3)\n",
    "secbase.append(spar)\n",
    "\n",
    "w = widgets.Output()\n",
    "\n",
    "ma = structure.MassAnalysis(secbase)\n",
    "\n",
    "display(w)\n",
    "\n",
    "class secshow:\n",
    "    def __init__(self, secbase, ma):\n",
    "        self.w = widgets.Output()\n",
    "        self.secbase = secbase\n",
    "        self.ma = ma\n",
    "        \n",
    "    def showding(self,t, t2, t3, p, p2):\n",
    "        self.secbase.features[1].thickness=t2*1e-3\n",
    "        self.secbase.features[3].flangethickness = t*1e-3\n",
    "        self.secbase.features[3].webthickness = t3*1e-3\n",
    "        self.secbase.features[3].midpos = p\n",
    "        self.secbase.features[3].webpos = p2\n",
    "        massprops = self.ma.massproperties\n",
    "        with w:\n",
    "            w.clear_output(wait=True)\n",
    "            display(self.secbase)\n",
    "            display('Masse/Länge: {:4f} kg/m'.format(massprops[1]))\n",
    "\n",
    "showding = secshow(secbase, ma)\n",
    "\n",
    "shellthickness_slider = FloatSlider(value=1, min=0.5, max=25, step=2.5, description='Balsadicke')\n",
    "flangethickness_slider = IntSlider(value=20, min=10, max=35, description='Holmdicke')\n",
    "webthickness_slider = IntSlider(value=3, min=1, max=15, description='Stegbreite')\n",
    "sparpos_slider = FloatSlider(value=0.5, min=0.3, max=0.7, step=0.05, description='Holmposition')\n",
    "webpos_slider = FloatSlider(value=0.5, min=0.0, max=1.0, step=0.05, description='Stegposition')\n",
    "\n",
    "interact(showding.showding, t=flangethickness_slider, t2=shellthickness_slider, \n",
    "         t3=webthickness_slider, p=sparpos_slider, p2=webpos_slider);"
   ]
  },
  {
   "cell_type": "code",
   "execution_count": 5,
   "metadata": {},
   "outputs": [
    {
     "data": {
      "application/vnd.jupyter.widget-view+json": {
       "model_id": "",
       "version_major": 2,
       "version_minor": 0
      },
      "text/plain": [
       "FigureCanvasNbAgg()"
      ]
     },
     "metadata": {},
     "output_type": "display_data"
    },
    {
     "data": {
      "application/vnd.jupyter.widget-view+json": {
       "model_id": "94ffbac05e524f15bcc75da3967093f7",
       "version_major": 2,
       "version_minor": 0
      },
      "text/plain": [
       "interactive(children=(FloatSlider(value=0.0, description='Qy', max=5.0, min=-5.0), FloatSlider(value=0.0, desc…"
      ]
     },
     "metadata": {},
     "output_type": "display_data"
    },
    {
     "data": {
      "text/plain": [
       "<function __main__.plotdistri(Qy, Qz, T)>"
      ]
     },
     "execution_count": 5,
     "metadata": {},
     "output_type": "execute_result"
    }
   ],
   "source": [
    "import numpy as np\n",
    "from wingstructure.structure import beammechanics as beam\n",
    "%matplotlib ipympl\n",
    "from matplotlib import pyplot as plt\n",
    "\n",
    "# creating test geometry\n",
    "\n",
    "geometry_section = np.load('contour.npy')\n",
    "\n",
    "youngsmoduli_left = np.ones(len(geometry_section[0])-1)*12.5*10**9\n",
    "youngsmoduli_middle = np.ones(len(geometry_section[1])-1)*12.5*10*9\n",
    "youngsmoduli_right = np.ones(len(geometry_section[2])-1)*12.5*10**9\n",
    "\n",
    "shearmoduli_left = np.ones(len(geometry_section[0])-1)*19.6*10**9\n",
    "shearmoduli_middle = np.ones(len(geometry_section[1])-1)*19.6*10**9\n",
    "shearmoduli_right = np.ones(len(geometry_section[2])-1)*19.6*10**9\n",
    "\n",
    "thicknesses_left = np.ones(len(geometry_section[0])-1)*0.003\n",
    "thicknesses_middle = np.ones(len(geometry_section[1])-1)*0.003\n",
    "thicknesses_right = np.ones(len(geometry_section[2])-1)*0.003\n",
    "\n",
    "youngsmoduli_section = youngsmoduli_left, youngsmoduli_middle, youngsmoduli_right\n",
    "shearmoduli_section = shearmoduli_left, shearmoduli_middle, shearmoduli_right\n",
    "thicknesses_section = thicknesses_left, thicknesses_middle, thicknesses_right\n",
    "\n",
    "generate_testsection = lambda : beam.Crosssection(geometry_section, youngsmoduli_section, shearmoduli_section, thicknesses_section)\n",
    "testsections = [generate_testsection()]*60\n",
    "\n",
    "geol = testsections[0].geometries[0]\n",
    "geom = testsections[0].geometries[1]\n",
    "geor = testsections[0].geometries[2]\n",
    "\n",
    "\n",
    "def plotdistri(Qy, Qz, T):\n",
    "    \n",
    "    Q = [Qy,Qz]\n",
    "    Q_new = beam.transform(np.array((Q)), testsections[0].Θ)\n",
    "    shearflow = testsections[0].shearflow_total(Q_new, T)\n",
    "    shearflow = np.array(shearflow)/30\n",
    "    \n",
    "    plt.clf()\n",
    "    \n",
    "    shearflow_plot = testsections[0].plot_around_profil(shearflow)\n",
    "\n",
    "    shearflow_plot_left = shearflow_plot[0]\n",
    "    shearflow_plot_middle = shearflow_plot[1]\n",
    "    shearflow_plot_right = shearflow_plot[2]\n",
    "    \n",
    "    center = testsections[0].shearcenter()\n",
    "    t4 = testsections[0].t4_point()\n",
    "    \n",
    "    plt.plot(geol[:,0], geol[:,1])\n",
    "    plt.plot(geom[:,0], geom[:,1])\n",
    "    plt.plot(geor[:,0], geor[:,1])\n",
    "    plt.plot(center[0], center[1], 'o')\n",
    "    plt.plot(t4[0], t4[1], 'x')\n",
    "    plt.axis('equal')\n",
    "    \n",
    "    \n",
    "    plt.plot(shearflow_plot_left[:,0], shearflow_plot_left[:,1], 'orange')\n",
    "    plt.plot(shearflow_plot_middle[:,0], shearflow_plot_middle[:,1], 'orange')\n",
    "    plt.plot(shearflow_plot_right[:,0], shearflow_plot_right[:,1], 'orange')\n",
    "\n",
    "    plt.arrow(t4[0], t4[1], 0, -Qz/10, linewidth=2, color='red')\n",
    "    plt.arrow(t4[0], t4[1], -Qy/10, 0, linewidth=2, color='red')\n",
    "\n",
    "\n",
    "\n",
    "    line1 = np.array((shearflow_plot_left[0], shearflow_plot_right[0]))\n",
    "    plt.plot(line1[:,0], line1[:,1], 'orange')\n",
    "\n",
    "    line2 = np.array((shearflow_plot_left[-1], shearflow_plot_right[-1]))\n",
    "    plt.plot(line2[:,0], line2[:,1], 'orange')\n",
    "    \n",
    "    \n",
    "\n",
    "from ipywidgets import interact, interactive, fixed, interact_manual, FloatSlider\n",
    "import ipywidgets as widgets\n",
    "\n",
    "plt.figure()\n",
    "\n",
    "\n",
    "Q_y_slider = FloatSlider(value=0.0, min=-5, max=5)\n",
    "Q_z_slider = FloatSlider(value=0.0, min=-5, max=5)\n",
    "T_slider = FloatSlider(value=0.0, min=-5, max=5)\n",
    "\n",
    "interact(plotdistri, Qy=Q_y_slider, Qz=Q_z_slider, T=T_slider)"
   ]
  },
  {
   "cell_type": "code",
   "execution_count": null,
   "metadata": {},
   "outputs": [],
   "source": []
  }
 ],
 "metadata": {
  "kernelspec": {
   "display_name": "Python 3",
   "language": "python",
   "name": "python3"
  },
  "language_info": {
   "codemirror_mode": {
    "name": "ipython",
    "version": 3
   },
   "file_extension": ".py",
   "mimetype": "text/x-python",
   "name": "python",
   "nbconvert_exporter": "python",
   "pygments_lexer": "ipython3",
   "version": "3.6.8"
  }
 },
 "nbformat": 4,
 "nbformat_minor": 2
}
