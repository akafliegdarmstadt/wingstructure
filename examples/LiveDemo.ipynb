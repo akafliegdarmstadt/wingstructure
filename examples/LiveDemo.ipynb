{
 "cells": [
  {
   "cell_type": "code",
   "execution_count": 1,
   "metadata": {},
   "outputs": [],
   "source": [
    "%matplotlib ipympl\n",
    "from ipywidgets import interact, interactive, ToggleButton, FloatSlider\n",
    "import ipywidgets as widgets\n",
    "from matplotlib import pyplot as plt\n",
    "from wingstructure import data, aero"
   ]
  },
  {
   "cell_type": "code",
   "execution_count": 2,
   "metadata": {},
   "outputs": [
    {
     "data": {
      "application/vnd.jupyter.widget-view+json": {
       "model_id": "d0417b82e1244ec9a50c3e1f46481f55",
       "version_major": 2,
       "version_minor": 0
      },
      "text/plain": [
       "FigureCanvasNbAgg()"
      ]
     },
     "metadata": {},
     "output_type": "display_data"
    }
   ],
   "source": [
    "# create wing object\n",
    "wing = data.Wing()\n",
    "\n",
    "# add sections to wing\n",
    "wing.add_section(data.Point(0.0, 0.0, 0.0), 1.0, 0.0)\n",
    "wing.add_section(data.Point(0.05, 4.25, 0.0), 0.7, 0.0)\n",
    "wing.add_section(data.Point(0.1, 7.75, 0.0), 0.35, 0.0)\n",
    "\n",
    "# set fuselage with (=root of wing) to zero\n",
    "wing.set_root_pos(0.0)\n",
    "\n",
    "# define spoiler position\n",
    "wing.set_spoiler(1.5, 2.9)\n",
    "\n",
    "# define control-surfaces\n",
    "wing.set_flap('flap', 1, 2.8,[0.7,0.7])\n",
    "wing.set_flap('flap2', 4.25, 7, [0.7,0.8])\n",
    "\n",
    "# display simple wing\n",
    "plt.figure(figsize=(8,5))\n",
    "wing.plot()"
   ]
  },
  {
   "cell_type": "code",
   "execution_count": 3,
   "metadata": {
    "slideshow": {
     "slide_type": "skip"
    }
   },
   "outputs": [],
   "source": [
    "class liftplotter:\n",
    "    def __init__(self):\n",
    "        \n",
    "        self.liftana = aero.LiftAnalysis(wing=wing)\n",
    "        \n",
    "        self.fig = plt.figure()\n",
    "        \n",
    "        self.ax = plt.gca()\n",
    "        \n",
    "        plt.ylabel('lokaler Auftriebsbeiwert $c_l$')\n",
    "        plt.xlabel('Spannweitenposition y in m')\n",
    "        \n",
    "        plt.ylim(-1.7, 2.1)\n",
    "        \n",
    "        res = self._calc(0.0)\n",
    "        plt.grid()\n",
    "        \n",
    "        self.line = self.ax.plot(self.liftana.calc_ys, res[1])[0]\n",
    "        \n",
    "        self.text = plt.text(8, -1.7, r'$\\alpha = {}^\\circ$'.format(res[0]),\n",
    "                             horizontalalignment='right')\n",
    "    \n",
    "    def _calc(self, C_L, aileron_l=0.0, aileron_r=0.0, spoiler=False):\n",
    "        \n",
    "        flap = {'flap2': [aileron_l, aileron_r]}\n",
    "    \n",
    "        res = self.liftana.calculate(C_L, air_brake=spoiler, flap_deflections=flap)\n",
    "        \n",
    "        return res\n",
    "    \n",
    "    def plotdistri(self,C_L, spoiler=False, aileron_l=0.0, aileron_r=0.0):\n",
    "        \n",
    "        res = self._calc(C_L, spoiler, aileron_l, aileron_r)\n",
    "        \n",
    "        self.line.set_ydata(res[1])\n",
    "        self.text.set_text(r'$\\alpha = {:.2f}^\\circ$'.format(res[0]))"
   ]
  },
  {
   "cell_type": "code",
   "execution_count": 5,
   "metadata": {
    "slideshow": {
     "slide_type": "slide"
    }
   },
   "outputs": [
    {
     "name": "stderr",
     "output_type": "stream",
     "text": [
      "/home/jonathan/Programmieren/wingstructure/wingstructure/aero/analysis.py:33: UserWarning: No airfoil database defined, using default airfoil.\n",
      "  warn('No airfoil database defined, using default airfoil.')\n"
     ]
    },
    {
     "data": {
      "application/vnd.jupyter.widget-view+json": {
       "model_id": "9e12a51419a44164a57b6f79932e1f7a",
       "version_major": 2,
       "version_minor": 0
      },
      "text/plain": [
       "FigureCanvasNbAgg()"
      ]
     },
     "metadata": {},
     "output_type": "display_data"
    },
    {
     "data": {
      "application/vnd.jupyter.widget-view+json": {
       "model_id": "452449a5b46f4875af15d9c14eadd613",
       "version_major": 2,
       "version_minor": 0
      },
      "text/plain": [
       "interactive(children=(FloatSlider(value=0.0, description='C_L', max=1.5, min=-1.0), FloatSlider(value=0.0, des…"
      ]
     },
     "metadata": {},
     "output_type": "display_data"
    }
   ],
   "source": [
    "lp = liftplotter()\n",
    "\n",
    "def pltfun(C_L, aileron_l, aileron_r, spoiler):\n",
    "    \n",
    "    lp.plotdistri(C_L, aileron_l, aileron_r, spoiler)\n",
    "\n",
    "lift_slider = FloatSlider(value=0.0, min=-1.0, max=1.5)\n",
    "spoiler_button = ToggleButton(value=False, description='spoiler')\n",
    "aileron_slider_l = FloatSlider(value=0.0, min=-8, max=9)\n",
    "aileron_slider_r = FloatSlider(value=0.0, min=-8, max=9)\n",
    "    \n",
    "interact(pltfun, \n",
    "         C_L=lift_slider, \n",
    "         aileron_l=aileron_slider_l,\n",
    "         aileron_r=aileron_slider_r,\n",
    "         spoiler=spoiler_button);"
   ]
  },
  {
   "cell_type": "code",
   "execution_count": 6,
   "metadata": {},
   "outputs": [],
   "source": [
    "from wingstructure.structure import section"
   ]
  },
  {
   "cell_type": "code",
   "execution_count": 10,
   "metadata": {},
   "outputs": [
    {
     "data": {
      "image/svg+xml": [
       "<svg xmlns=\"http://www.w3.org/2000/svg\" xmlns:xlink=\"http://www.w3.org/1999/xlink\" width=\"100.0\" height=\"100.0\" viewBox=\"-0.039896 -0.081196 1.0798919999999999 0.236842\" preserveAspectRatio=\"xMinYMin meet\"><g transform=\"matrix(1,0,0,-1,0,0.07445)\"><polyline fill=\"none\" stroke=\"#66cc99\" stroke-width=\"0.021597839999999997\" points=\"1.0,-0.00221 0.99124,0.00018 0.97859,0.00326 0.9618,0.00711 0.94302,0.01149 0.92371,0.01612 0.9043,0.02092 0.88486,0.02584 0.8654,0.03089 0.84592,0.03606 0.82641,0.04134 0.80686,0.04672 0.78725,0.05218 0.76758,0.05769 0.74797,0.06318 0.72855,0.06856 0.70932,0.07374 0.69025,0.07869 0.67128,0.08336 0.65236,0.08773 0.63345,0.09179 0.61452,0.09553 0.59556,0.09894 0.57653,0.10204 0.55746,0.1048 0.53831,0.10725 0.51912,0.10938 0.49987,0.1112 0.48058,0.11271 0.46126,0.11391 0.44191,0.11479 0.42256,0.11538 0.4032,0.11565 0.38386,0.11561 0.36453,0.11525 0.34523,0.11458 0.32598,0.11358 0.30679,0.11226 0.28766,0.11059 0.26863,0.10858 0.24973,0.10621 0.23098,0.10347 0.21237,0.10033 0.19395,0.09679 0.17573,0.09283 0.15777,0.08842 0.14011,0.08356 0.12281,0.07823 0.10595,0.07241 0.0896,0.06612 0.07388,0.05934 0.05894,0.05207 0.04501,0.0444 0.03256,0.03656 0.02223,0.02906 0.01443,0.02244 0.00893,0.01688 0.00514,0.01223 0.00256,0.00824 0.00092,0.0047 0.0001,0.00147 0.0001,-0.00155 0.00094,-0.00462 0.00275,-0.00765 0.00557,-0.01058 0.00953,-0.01341 0.01491,-0.01621 0.02219,-0.01906 0.03205,-0.02197 0.04489,-0.02486 0.06042,-0.02753 0.07777,-0.02987 0.09618,-0.03185 0.11521,-0.03351 0.13463,-0.03491 0.15429,-0.03609 0.17413,-0.0371 0.1941,-0.03796 0.21414,-0.03869 0.23426,-0.0393 0.25442,-0.03981 0.27462,-0.04022 0.29486,-0.04055 0.31514,-0.04081 0.33544,-0.04099 0.35577,-0.04112 0.37612,-0.04118 0.39649,-0.0412 0.41687,-0.04117 0.43725,-0.04109 0.45762,-0.04097 0.47799,-0.0408 0.49834,-0.04058 0.51867,-0.0403 0.53897,-0.03996 0.55923,-0.03955 0.57946,-0.03906 0.59965,-0.03848 0.61979,-0.03781 0.63988,-0.03703 0.65991,-0.03613 0.67987,-0.03509 0.69974,-0.03389 0.71952,-0.03253 0.73917,-0.03097 0.75866,-0.02919 0.77795,-0.02715 0.79703,-0.02482 0.81595,-0.02213 0.83491,-0.01905 0.85411,-0.01562 0.8735,-0.01201 0.89232,-0.00868 0.91048,-0.00593 0.92814,-0.00385 0.94541,-0.00252 0.96226,-0.00196 0.97822,-0.00206 0.99105,-0.00225 1.0,-0.00221\" opacity=\"0.8\" /></g></svg>"
      ],
      "text/plain": [
       "<wingstructure.structure.section.SectionBase at 0x7f4daff14a90>"
      ]
     },
     "execution_count": 10,
     "metadata": {},
     "output_type": "execute_result"
    }
   ],
   "source": [
    "import numpy as np\n",
    "\n",
    "coords = np.loadtxt('airfoils/ah93157.dat',skiprows=1)\n",
    "\n",
    "secbase = section.SectionBase(coords)\n",
    "secbase"
   ]
  },
  {
   "cell_type": "code",
   "execution_count": null,
   "metadata": {},
   "outputs": [],
   "source": []
  }
 ],
 "metadata": {
  "kernelspec": {
   "display_name": "Python 3",
   "language": "python",
   "name": "python3"
  },
  "language_info": {
   "codemirror_mode": {
    "name": "ipython",
    "version": 3
   },
   "file_extension": ".py",
   "mimetype": "text/x-python",
   "name": "python",
   "nbconvert_exporter": "python",
   "pygments_lexer": "ipython3",
   "version": "3.6.8"
  }
 },
 "nbformat": 4,
 "nbformat_minor": 2
}
