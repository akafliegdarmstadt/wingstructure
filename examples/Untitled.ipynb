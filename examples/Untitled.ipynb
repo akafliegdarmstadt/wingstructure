{
 "cells": [
  {
   "cell_type": "code",
   "execution_count": 14,
   "metadata": {},
   "outputs": [],
   "source": [
    "%matplotlib inline\n",
    "import numpy as np\n",
    "from matplotlib import pyplot as plt"
   ]
  },
  {
   "cell_type": "code",
   "execution_count": 15,
   "metadata": {},
   "outputs": [],
   "source": [
    "lam = 6 # Streckung\n",
    "    \n",
    "b = 15 # m Spannweite\n",
    "c = b/lam # Flügeltiefe\n",
    "y_li = [0,b/2] # Stüzstellen\n",
    "c_li = [c]*2\n",
    "alpha = 1 # Grad\n",
    "\n",
    "dcl = 2*np.pi\n",
    "N_M = 7"
   ]
  },
  {
   "cell_type": "code",
   "execution_count": 41,
   "metadata": {},
   "outputs": [
    {
     "name": "stdout",
     "output_type": "stream",
     "text": [
      "error\n"
     ]
    },
    {
     "name": "stderr",
     "output_type": "stream",
     "text": [
      "/home/jonathan/.anaconda3/lib/python3.6/site-packages/ipykernel_launcher.py:55: RuntimeWarning: divide by zero encountered in double_scalars\n"
     ]
    },
    {
     "ename": "LinAlgError",
     "evalue": "Singular matrix",
     "output_type": "error",
     "traceback": [
      "\u001b[0;31m---------------------------------------------------------------------------\u001b[0m",
      "\u001b[0;31mLinAlgError\u001b[0m                               Traceback (most recent call last)",
      "\u001b[0;32m<ipython-input-41-622ff0b17f05>\u001b[0m in \u001b[0;36m<module>\u001b[0;34m()\u001b[0m\n\u001b[1;32m     59\u001b[0m \u001b[0;34m\u001b[0m\u001b[0m\n\u001b[1;32m     60\u001b[0m \u001b[0;31m# calculation of local circulation\u001b[0m\u001b[0;34m\u001b[0m\u001b[0;34m\u001b[0m\u001b[0m\n\u001b[0;32m---> 61\u001b[0;31m \u001b[0mgamma_ar\u001b[0m \u001b[0;34m=\u001b[0m \u001b[0mnp\u001b[0m\u001b[0;34m.\u001b[0m\u001b[0mdot\u001b[0m\u001b[0;34m(\u001b[0m\u001b[0mnp\u001b[0m\u001b[0;34m.\u001b[0m\u001b[0mlinalg\u001b[0m\u001b[0;34m.\u001b[0m\u001b[0minv\u001b[0m\u001b[0;34m(\u001b[0m\u001b[0mB\u001b[0m\u001b[0;34m)\u001b[0m\u001b[0;34m,\u001b[0m\u001b[0malpha\u001b[0m\u001b[0;34m)\u001b[0m\u001b[0;34m\u001b[0m\u001b[0m\n\u001b[0m\u001b[1;32m     62\u001b[0m \u001b[0;34m\u001b[0m\u001b[0m\n\u001b[1;32m     63\u001b[0m \u001b[0;31m# lift coefficient for whole wing\u001b[0m\u001b[0;34m\u001b[0m\u001b[0;34m\u001b[0m\u001b[0m\n",
      "\u001b[0;32m~/.anaconda3/lib/python3.6/site-packages/numpy/linalg/linalg.py\u001b[0m in \u001b[0;36minv\u001b[0;34m(a)\u001b[0m\n\u001b[1;32m    526\u001b[0m     \u001b[0msignature\u001b[0m \u001b[0;34m=\u001b[0m \u001b[0;34m'D->D'\u001b[0m \u001b[0;32mif\u001b[0m \u001b[0misComplexType\u001b[0m\u001b[0;34m(\u001b[0m\u001b[0mt\u001b[0m\u001b[0;34m)\u001b[0m \u001b[0;32melse\u001b[0m \u001b[0;34m'd->d'\u001b[0m\u001b[0;34m\u001b[0m\u001b[0m\n\u001b[1;32m    527\u001b[0m     \u001b[0mextobj\u001b[0m \u001b[0;34m=\u001b[0m \u001b[0mget_linalg_error_extobj\u001b[0m\u001b[0;34m(\u001b[0m\u001b[0m_raise_linalgerror_singular\u001b[0m\u001b[0;34m)\u001b[0m\u001b[0;34m\u001b[0m\u001b[0m\n\u001b[0;32m--> 528\u001b[0;31m     \u001b[0mainv\u001b[0m \u001b[0;34m=\u001b[0m \u001b[0m_umath_linalg\u001b[0m\u001b[0;34m.\u001b[0m\u001b[0minv\u001b[0m\u001b[0;34m(\u001b[0m\u001b[0ma\u001b[0m\u001b[0;34m,\u001b[0m \u001b[0msignature\u001b[0m\u001b[0;34m=\u001b[0m\u001b[0msignature\u001b[0m\u001b[0;34m,\u001b[0m \u001b[0mextobj\u001b[0m\u001b[0;34m=\u001b[0m\u001b[0mextobj\u001b[0m\u001b[0;34m)\u001b[0m\u001b[0;34m\u001b[0m\u001b[0m\n\u001b[0m\u001b[1;32m    529\u001b[0m     \u001b[0;32mreturn\u001b[0m \u001b[0mwrap\u001b[0m\u001b[0;34m(\u001b[0m\u001b[0mainv\u001b[0m\u001b[0;34m.\u001b[0m\u001b[0mastype\u001b[0m\u001b[0;34m(\u001b[0m\u001b[0mresult_t\u001b[0m\u001b[0;34m,\u001b[0m \u001b[0mcopy\u001b[0m\u001b[0;34m=\u001b[0m\u001b[0;32mFalse\u001b[0m\u001b[0;34m)\u001b[0m\u001b[0;34m)\u001b[0m\u001b[0;34m\u001b[0m\u001b[0m\n\u001b[1;32m    530\u001b[0m \u001b[0;34m\u001b[0m\u001b[0m\n",
      "\u001b[0;32m~/.anaconda3/lib/python3.6/site-packages/numpy/linalg/linalg.py\u001b[0m in \u001b[0;36m_raise_linalgerror_singular\u001b[0;34m(err, flag)\u001b[0m\n\u001b[1;32m     87\u001b[0m \u001b[0;34m\u001b[0m\u001b[0m\n\u001b[1;32m     88\u001b[0m \u001b[0;32mdef\u001b[0m \u001b[0m_raise_linalgerror_singular\u001b[0m\u001b[0;34m(\u001b[0m\u001b[0merr\u001b[0m\u001b[0;34m,\u001b[0m \u001b[0mflag\u001b[0m\u001b[0;34m)\u001b[0m\u001b[0;34m:\u001b[0m\u001b[0;34m\u001b[0m\u001b[0m\n\u001b[0;32m---> 89\u001b[0;31m     \u001b[0;32mraise\u001b[0m \u001b[0mLinAlgError\u001b[0m\u001b[0;34m(\u001b[0m\u001b[0;34m\"Singular matrix\"\u001b[0m\u001b[0;34m)\u001b[0m\u001b[0;34m\u001b[0m\u001b[0m\n\u001b[0m\u001b[1;32m     90\u001b[0m \u001b[0;34m\u001b[0m\u001b[0m\n\u001b[1;32m     91\u001b[0m \u001b[0;32mdef\u001b[0m \u001b[0m_raise_linalgerror_nonposdef\u001b[0m\u001b[0;34m(\u001b[0m\u001b[0merr\u001b[0m\u001b[0;34m,\u001b[0m \u001b[0mflag\u001b[0m\u001b[0;34m)\u001b[0m\u001b[0;34m:\u001b[0m\u001b[0;34m\u001b[0m\u001b[0m\n",
      "\u001b[0;31mLinAlgError\u001b[0m: Singular matrix"
     ]
    }
   ],
   "source": [
    "# calculate wingspan\n",
    "b = 2*max(y_li)\n",
    "\n",
    "# calculate wing area\n",
    "S = 2 * np.trapz(y=c_li, x=y_li)\n",
    "\n",
    "# calculate aspect ratio\n",
    "AR = b ** 2 / S\n",
    "\n",
    "# number of grid points\n",
    "if N_M is None:\n",
    "    N_M = int(round(AR)*4-1)  # has to be uneven, not more than 4*aspect ratio\n",
    "\n",
    "# grid point indices\n",
    "v_ar = np.arange(1,N_M)\n",
    "\n",
    "# create thetas\n",
    "theta_ar = v_ar * np.pi / (N_M + 1)\n",
    "\n",
    "# array of grid points\n",
    "y_ar = b/2 * np.cos(theta_ar)\n",
    "\n",
    "# chord depthes\n",
    "chord_ar = np.interp(np.abs(y_ar), y_li, c_li)\n",
    "\n",
    "# distribute lift slope over wing\n",
    "if not isinstance(dcl,np.ndarray):\n",
    "    dcl *= np.ones(N_M)\n",
    "elif len(dcl) != N_M:\n",
    "    dcl = np.interp(y_ar,y_li,dcl)\n",
    "\n",
    "# distribute aoa over wing\n",
    "if not isinstance(alpha, np.ndarray) or len(alpha)==1:\n",
    "    alpha = np.ones(N_M)*alpha\n",
    "elif len(alpha) == len(y_li):\n",
    "    # interpolate\n",
    "    alpha = np.interp(y_ar, y_li, alpha, left=alpha[0], right=0)\n",
    "else:\n",
    "    print('error') #TODO error handling\n",
    "\n",
    "#v_ar = np.arange(1, N_M + 1)\n",
    "\n",
    "# calculate thetas\n",
    "theta_ar = np.array(np.linspace(0,np.pi,N_M))\n",
    "\n",
    "# create empyt matrix (N_MxN_M) for multhoppcoefficients\n",
    "B = np.zeros((N_M, N_M))\n",
    "\n",
    "# calculation of multhopp coefficients\n",
    "for v,y_v,theta_v,c,dcl_v in zip(v_ar,y_ar,theta_ar,chord_ar,dcl):\n",
    "    for n,theta_n in zip(v_ar,theta_ar):\n",
    "\n",
    "        # diagonal elements\n",
    "        if(v==n):\n",
    "            B[v-1,v-1]= (N_M+1)/(4*np.sin(theta_v))+2*b/(dcl_v*c)\n",
    "        # non diagonal elements\n",
    "        else:\n",
    "            B[v-1,n-1]=-((1-(-1.)**(v-n))/2*(np.sin(theta_n)/((N_M+1)*(np.cos(theta_n)-np.cos(theta_v))**2)))\n",
    "\n",
    "# calculation of local circulation\n",
    "gamma_ar = np.dot(np.linalg.inv(B),alpha)\n",
    "\n",
    "# lift coefficient for whole wing\n",
    "C_A = np.pi*AR/(N_M+1)*sum(gamma_ar*np.sin(v_ar*np.pi/(N_M+1)))\n",
    "\n",
    "# induced angle\n",
    "a_ind = np.zeros(N_M)\n",
    "\n",
    "for v in range(N_M):\n",
    "    part1 = (N_M+1)/(4*np.sin((v+1)*np.pi/(N_M+1)))*gamma_ar[v]\n",
    "\n",
    "    part2 = 0\n",
    "\n",
    "    for j in range(N_M):\n",
    "        if j == v:\n",
    "            continue\n",
    "        part2 += B[v,j]*gamma_ar[j]\n",
    "\n",
    "    a_ind[v] = part1 + part2 # should be a subtraction, but only works with addition\n",
    "\n",
    "# calculate induced drag\n",
    "C_Wi = np.pi*AR/(N_M+1) * sum(gamma_ar*a_ind*np.sin(v_ar*np.pi/(N_M+1)))\n",
    "\n",
    "# Oswald-factor\n",
    "k = C_A**2/(np.pi*AR*C_Wi)\n",
    "\n",
    "# local lift coefficient\n",
    "c_a_li = 2*b/(chord_ar)*gamma_ar\n",
    "\n",
    "# calculate effective aoa\n",
    "a_eff = alpha-a_ind\n"
   ]
  },
  {
   "cell_type": "code",
   "execution_count": 42,
   "metadata": {},
   "outputs": [
    {
     "data": {
      "text/plain": [
       "array([1, 2, 3, 4, 5, 6])"
      ]
     },
     "execution_count": 42,
     "metadata": {},
     "output_type": "execute_result"
    }
   ],
   "source": [
    "v_ar"
   ]
  },
  {
   "cell_type": "code",
   "execution_count": 40,
   "metadata": {},
   "outputs": [
    {
     "data": {
      "text/plain": [
       "array([ 1.00000000e+00,  8.66025404e-01,  5.00000000e-01,  6.12323400e-17,\n",
       "       -5.00000000e-01, -8.66025404e-01, -1.00000000e+00])"
      ]
     },
     "execution_count": 40,
     "metadata": {},
     "output_type": "execute_result"
    }
   ],
   "source": [
    "np.cos()"
   ]
  },
  {
   "cell_type": "code",
   "execution_count": null,
   "metadata": {},
   "outputs": [],
   "source": []
  }
 ],
 "metadata": {
  "kernelspec": {
   "display_name": "Python 3",
   "language": "python",
   "name": "python3"
  },
  "language_info": {
   "codemirror_mode": {
    "name": "ipython",
    "version": 3
   },
   "file_extension": ".py",
   "mimetype": "text/x-python",
   "name": "python",
   "nbconvert_exporter": "python",
   "pygments_lexer": "ipython3",
   "version": "3.6.5"
  }
 },
 "nbformat": 4,
 "nbformat_minor": 2
}
