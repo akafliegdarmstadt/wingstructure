{
 "cells": [
  {
   "cell_type": "code",
   "execution_count": 15,
   "metadata": {},
   "outputs": [
    {
     "name": "stdout",
     "output_type": "stream",
     "text": [
      "Populating the interactive namespace from numpy and matplotlib\n"
     ]
    }
   ],
   "source": [
    "import numpy as np\n",
    "from wingstructure.structure import beammechanics as beam\n",
    "%pylab inline"
   ]
  },
  {
   "cell_type": "code",
   "execution_count": 22,
   "metadata": {},
   "outputs": [],
   "source": [
    "# load geometry and define material for one section\n",
    "\n",
    "import collections as col\n",
    "\n",
    "LineIdealisation = col.namedtuple('LineIdealisation', 'geometry, thickness, youngsmoduli, shearmoduli')\n",
    "\n",
    "geometry_section = np.load('contour.npy')\n",
    "\n",
    "youngsmoduli_right = np.random.randint(1, 2, len(geometry_section[0])-1)*10**11\n",
    "youngsmoduli_middle = np.random.randint(1, 2, len(geometry_section[1])-1)*10**11\n",
    "youngsmoduli_left = np.random.randint(1, 2, len(geometry_section[2])-1)*10**11\n",
    "\n",
    "shearmoduli_right = np.random.randint(1, 2, len(geometry_section[0])-1)*3*10**10\n",
    "shearmoduli_middle = np.random.randint(1, 2, len(geometry_section[1])-1)*3*10**10\n",
    "shearmoduli_left = np.random.randint(1, 2, len(geometry_section[2])-1)*3*10**10\n",
    "\n",
    "thicknesses_right = 0.001*np.random.randint(2, 5, len(geometry_section[0])-1)\n",
    "thicknesses_middle = 0.001*np.random.randint(7, 10, len(geometry_section[1])-1)\n",
    "thicknesses_left = 0.001*np.random.randint(2, 5, len(geometry_section[2])-1)\n",
    "\n",
    "youngsmoduli_section = youngsmoduli_right, youngsmoduli_middle, youngsmoduli_left\n",
    "shearmoduli_section = shearmoduli_right, shearmoduli_middle, shearmoduli_left\n",
    "thicknesses_section = thicknesses_right, thicknesses_middle, thicknesses_left\n",
    "\n",
    "li  = LineIdealisation(geometry_section, \n",
    "                         thicknesses_section,\n",
    "                         youngsmoduli_section,\n",
    "                         shearmoduli_section);"
   ]
  },
  {
   "cell_type": "code",
   "execution_count": 23,
   "metadata": {},
   "outputs": [],
   "source": [
    "generate_testsection = lambda : beam.Crosssection(li.geometry, li.youngsmoduli, li.shearmoduli, li.thickness)\n",
    "testsections = [generate_testsection()]*60"
   ]
  },
  {
   "cell_type": "code",
   "execution_count": 25,
   "metadata": {},
   "outputs": [],
   "source": [
    "# import lift data\n",
    "\n",
    "import pickle as pkl\n",
    "\n",
    "with open('export.pkl', 'rb') as afile:\n",
    "\n",
    "    y, c, c_l, c_m = pkl.load(afile)\n",
    "    # position, chord of wing, lift coefficient, moment coefficient\n",
    "    \n",
    "y = y[59:119] # halfspan\n",
    "c = c[59:118]\n",
    "c_l = c_l[59:118] # last one not because of equal length with distance\n",
    "c_m = c_m[59:118] # is there a better way?\n",
    "\n",
    "ρ = 1.225\n",
    "v = 60 # random\n",
    "c = 0.632 # constant"
   ]
  },
  {
   "cell_type": "code",
   "execution_count": 34,
   "metadata": {},
   "outputs": [
    {
     "data": {
      "text/plain": [
       "array([[  0.        , 386.14297529],\n",
       "       [  0.        , 387.39589822],\n",
       "       [  0.        , 387.47929419],\n",
       "       [  0.        , 386.73923086],\n",
       "       [  0.        , 385.04891582],\n",
       "       [  0.        , 382.52844864],\n",
       "       [  0.        , 378.84941057],\n",
       "       [  0.        , 374.04872736],\n",
       "       [  0.        , 367.38027442],\n",
       "       [  0.        , 358.67703397],\n",
       "       [  0.        , 345.73463145],\n",
       "       [  0.        , 327.18817782],\n",
       "       [  0.        , 289.40145493],\n",
       "       [  0.        , 195.24968185],\n",
       "       [  0.        , 159.6080622 ],\n",
       "       [  0.        , 144.26666552],\n",
       "       [  0.        , 136.11378841],\n",
       "       [  0.        , 134.22838113],\n",
       "       [  0.        , 137.64084962],\n",
       "       [  0.        , 147.42753545],\n",
       "       [  0.        , 175.12953131],\n",
       "       [  0.        , 253.94345526],\n",
       "       [  0.        , 280.47914692],\n",
       "       [  0.        , 289.19358079],\n",
       "       [  0.        , 292.57539631],\n",
       "       [  0.        , 292.0110233 ],\n",
       "       [  0.        , 289.4864417 ],\n",
       "       [  0.        , 285.21709447],\n",
       "       [  0.        , 279.81770116],\n",
       "       [  0.        , 273.21917219],\n",
       "       [  0.        , 266.95572936],\n",
       "       [  0.        , 261.83014179],\n",
       "       [  0.        , 255.84496951],\n",
       "       [  0.        , 249.16523693],\n",
       "       [  0.        , 241.93538065],\n",
       "       [  0.        , 234.18344364],\n",
       "       [  0.        , 225.97352334],\n",
       "       [  0.        , 217.30215893],\n",
       "       [  0.        , 208.18108511],\n",
       "       [  0.        , 198.56963212],\n",
       "       [  0.        , 188.33146807],\n",
       "       [  0.        , 180.37993967],\n",
       "       [  0.        , 171.82282831],\n",
       "       [  0.        , 162.70029182],\n",
       "       [  0.        , 153.08727515],\n",
       "       [  0.        , 143.02353315],\n",
       "       [  0.        , 132.52573592],\n",
       "       [  0.        , 121.5992921 ],\n",
       "       [  0.        , 110.20796419],\n",
       "       [  0.        ,  99.54112452],\n",
       "       [  0.        ,  88.70856224],\n",
       "       [  0.        ,  77.34527317],\n",
       "       [  0.        ,  65.57282534],\n",
       "       [  0.        ,  53.55879377],\n",
       "       [  0.        ,  41.52379745],\n",
       "       [  0.        ,  29.85557145],\n",
       "       [  0.        ,  19.06517758],\n",
       "       [  0.        ,   9.9574336 ],\n",
       "       [  0.        ,   3.33888124]])"
      ]
     },
     "execution_count": 34,
     "metadata": {},
     "output_type": "execute_result"
    }
   ],
   "source": [
    "# calculate shearforce and torsional moment\n",
    "\n",
    "distance = []\n",
    "for i in range(0,len(y)-1):\n",
    "    distance_i = y[i+1] - y[i]\n",
    "    distance.append(distance_i)\n",
    "    \n",
    "lift = beam.lift(ρ, v, c_l, c)\n",
    "moment = beam.moment(ρ, v, c_m, c)\n",
    "\n",
    "Q = np.array((zeros(59), lift*distance)).T # shearforce\n",
    "T = moment*distance # torsional moment\n",
    "Q"
   ]
  },
  {
   "cell_type": "code",
   "execution_count": 30,
   "metadata": {},
   "outputs": [],
   "source": [
    "# calculate twistangle for every section\n",
    "\n",
    "twistangle = []\n",
    "for i in range(0,len(testsections)-1):\n",
    "    twist_i = testsections[i].twist(Q[i],T[i])*distance[i]\n",
    "    twistangle.append(twist_i)\n",
    "    \n",
    "endangle = sum(twistangle)*180/pi"
   ]
  },
  {
   "cell_type": "code",
   "execution_count": 31,
   "metadata": {},
   "outputs": [],
   "source": [
    "geol = testsections[0].geometries[0]\n",
    "geom = testsections[0].geometries[1]\n",
    "geor = testsections[0].geometries[2]"
   ]
  },
  {
   "cell_type": "code",
   "execution_count": 32,
   "metadata": {},
   "outputs": [
    {
     "data": {
      "text/plain": [
       "array([-0.0845494 , -0.01110559])"
      ]
     },
     "execution_count": 32,
     "metadata": {},
     "output_type": "execute_result"
    },
    {
     "data": {
      "image/png": "[encoded data removed]",
      "text/plain": [
       "<Figure size 432x288 with 1 Axes>"
      ]
     },
     "metadata": {},
     "output_type": "display_data"
    }
   ],
   "source": [
    "center = testsections[0].shearcenter()\n",
    "t4 = testsections[0].t4_point()\n",
    "\n",
    "plot(geol[:,0], geol[:,1])\n",
    "plot(geom[:,0], geom[:,1])\n",
    "plot(geor[:,0], geor[:,1])\n",
    "plot(center[0], center[1], 'o')\n",
    "plot(t4[0], t4[1], 'x')\n",
    "axis('equal')\n",
    "center"
   ]
  },
  {
   "cell_type": "code",
   "execution_count": 33,
   "metadata": {},
   "outputs": [
    {
     "data": {
      "text/plain": [
       "array([0.00130445, 0.99999915])"
      ]
     },
     "execution_count": 33,
     "metadata": {},
     "output_type": "execute_result"
    }
   ],
   "source": [
    "Q = [0,1]\n",
    "T = 1\n",
    "Q_new = beam.transform(np.array((Q)), testsections[0].Θ)\n",
    "Q_new"
   ]
  },
  {
   "cell_type": "code",
   "execution_count": null,
   "metadata": {},
   "outputs": [],
   "source": []
  },
  {
   "cell_type": "code",
   "execution_count": null,
   "metadata": {},
   "outputs": [],
   "source": []
  },
  {
   "cell_type": "code",
   "execution_count": null,
   "metadata": {},
   "outputs": [],
   "source": []
  },
  {
   "cell_type": "code",
   "execution_count": null,
   "metadata": {},
   "outputs": [],
   "source": []
  }
 ],
 "metadata": {
  "kernelspec": {
   "display_name": "Python 3",
   "language": "python",
   "name": "python3"
  },
  "language_info": {
   "codemirror_mode": {
    "name": "ipython",
    "version": 3
   },
   "file_extension": ".py",
   "mimetype": "text/x-python",
   "name": "python",
   "nbconvert_exporter": "python",
   "pygments_lexer": "ipython3",
   "version": "3.6.5"
  }
 },
 "nbformat": 4,
 "nbformat_minor": 2
}
