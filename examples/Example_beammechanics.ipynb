{
 "cells": [
  {
   "cell_type": "code",
   "execution_count": 2,
   "metadata": {},
   "outputs": [],
   "source": [
    "import numpy as np\n",
    "from wingstructure.structure import beammechanics as beam\n",
    "%matplotlib ipympl"
   ]
  },
  {
   "cell_type": "raw",
   "metadata": {},
   "source": [
    "# Testgeometrie: Kreis\n",
    "r = 0.5\n",
    "t = np.linspace((3/2)*pi, pi/2, 50)\n",
    "geol = np.array((r*cos(t), r*sin(t))).T\n",
    "geor = np.array((abs(geol[:,0]), geol[:,1])).T\n",
    "geom = np.array((np.zeros(20), np.linspace(-0.5, 0.5, 20))).T\n",
    "geometry_section = ((geol, geom, geor))"
   ]
  },
  {
   "cell_type": "raw",
   "metadata": {},
   "source": [
    "#geometry_section = np.load('contour.npy')\n",
    "\n",
    "youngsmoduli_right = np.random.randint(1, 2, len(geometry_section[0])-1)*10**11\n",
    "youngsmoduli_middle = np.random.randint(1, 2, len(geometry_section[1])-1)*10**11\n",
    "youngsmoduli_left = np.random.randint(1, 2, len(geometry_section[2])-1)*10**11\n",
    "\n",
    "shearmoduli_right = np.random.randint(1, 2, len(geometry_section[0])-1)*3*10**10\n",
    "shearmoduli_middle = np.random.randint(1, 2, len(geometry_section[1])-1)*3*10**10\n",
    "shearmoduli_left = np.random.randint(1, 2, len(geometry_section[2])-1)*3*10**10\n",
    "\n",
    "thicknesses_right = 0.001*np.random.randint(2, 5, len(geometry_section[0])-1)\n",
    "thicknesses_middle = 0.001*np.random.randint(7, 10, len(geometry_section[1])-1)\n",
    "thicknesses_left = 0.001*np.random.randint(2, 5, len(geometry_section[2])-1)\n",
    "\n",
    "youngsmoduli_section = youngsmoduli_right, youngsmoduli_middle, youngsmoduli_left\n",
    "shearmoduli_section = shearmoduli_right, shearmoduli_middle, shearmoduli_left\n",
    "thicknesses_section = thicknesses_right, thicknesses_middle, thicknesses_left\n",
    "\n",
    "generate_testsection = lambda : beam.Crosssection(geometry_section, youngsmoduli_section, shearmoduli_section, thicknesses_section)\n",
    "testsections = [generate_testsection()]*60"
   ]
  },
  {
   "cell_type": "code",
   "execution_count": 3,
   "metadata": {},
   "outputs": [],
   "source": [
    "# creating test geometry\n",
    "# idaflieg kennwerte HT-Kohlefasergewebe mit k = 0.5\n",
    "\n",
    "geometry_section = np.load('contour.npy')\n",
    "\n",
    "youngsmoduli_left = np.ones(len(geometry_section[0])-1)*12.5*10**9 # steel\n",
    "youngsmoduli_middle = np.ones(len(geometry_section[1])-1)*12.5*10*9\n",
    "youngsmoduli_right = np.ones(len(geometry_section[2])-1)*12.5*10**9\n",
    "\n",
    "shearmoduli_left = np.ones(len(geometry_section[0])-1)*19.6*10**9 # steel\n",
    "shearmoduli_middle = np.ones(len(geometry_section[1])-1)*19.6*10**9\n",
    "shearmoduli_right = np.ones(len(geometry_section[2])-1)*19.6*10**9\n",
    "\n",
    "thicknesses_left = np.ones(len(geometry_section[0])-1)*0.003\n",
    "thicknesses_middle = np.ones(len(geometry_section[1])-1)*0.003\n",
    "thicknesses_right = np.ones(len(geometry_section[2])-1)*0.003\n",
    "\n",
    "youngsmoduli_section = youngsmoduli_left, youngsmoduli_middle, youngsmoduli_right\n",
    "shearmoduli_section = shearmoduli_left, shearmoduli_middle, shearmoduli_right\n",
    "thicknesses_section = thicknesses_left, thicknesses_middle, thicknesses_right\n",
    "\n",
    "generate_testsection = lambda : beam.Crosssection(geometry_section, youngsmoduli_section, shearmoduli_section, thicknesses_section)\n",
    "testsections = [generate_testsection()]*60"
   ]
  },
  {
   "cell_type": "code",
   "execution_count": 4,
   "metadata": {},
   "outputs": [],
   "source": [
    "import pickle as pkl\n",
    "\n",
    "with open('export.pkl', 'rb') as afile:\n",
    "\n",
    "    y, c, c_l, c_m = pkl.load(afile)\n",
    "    # position, chord of wing, lift coefficient, moment coefficient\n",
    "    \n",
    "y = y[59:119] # halfspan\n",
    "c = c[59:118]\n",
    "c_l = c_l[59:118] # last one not because of equal length with distance\n",
    "c_m = c_m[59:118] # is there a better way?\n",
    "\n",
    "ρ = 1.225\n",
    "v = 60 # random\n",
    "c = 0.632 # constant"
   ]
  },
  {
   "cell_type": "code",
   "execution_count": 6,
   "metadata": {},
   "outputs": [],
   "source": [
    "distance = []\n",
    "for i in range(0,len(y)-1):\n",
    "    distance_i = y[i+1] - y[i]\n",
    "    distance.append(distance_i)\n",
    "    \n",
    "lift = beam.lift(ρ, v, c_l, c)\n",
    "moment = beam.moment(ρ, v, c_m, c)\n",
    "\n",
    "Q = np.array((np.zeros(59), lift*distance)).T # shearforce\n",
    "T = moment*distance # torsional moment"
   ]
  },
  {
   "cell_type": "code",
   "execution_count": 8,
   "metadata": {},
   "outputs": [
    {
     "data": {
      "text/plain": [
       "0.009758503451913779"
      ]
     },
     "execution_count": 8,
     "metadata": {},
     "output_type": "execute_result"
    }
   ],
   "source": [
    "twistangle = []\n",
    "for i in range(0,len(testsections)-1):\n",
    "    twist_i = testsections[i].twist(Q[i],T[i])*distance[i]\n",
    "    twistangle.append(twist_i)\n",
    "    \n",
    "twistangle\n",
    "sum(twistangle)*180/np.pi"
   ]
  },
  {
   "cell_type": "code",
   "execution_count": 9,
   "metadata": {},
   "outputs": [],
   "source": [
    "geol = testsections[0].geometries[0]\n",
    "geom = testsections[0].geometries[1]\n",
    "geor = testsections[0].geometries[2]"
   ]
  },
  {
   "cell_type": "code",
   "execution_count": 11,
   "metadata": {},
   "outputs": [
    {
     "data": {
      "application/vnd.jupyter.widget-view+json": {
       "model_id": "6db00ec07e5e4b57994eb81300831852",
       "version_major": 2,
       "version_minor": 0
      },
      "text/plain": [
       "FigureCanvasNbAgg()"
      ]
     },
     "metadata": {},
     "output_type": "display_data"
    },
    {
     "data": {
      "text/plain": [
       "array([-0.11967728, -0.01073985])"
      ]
     },
     "execution_count": 11,
     "metadata": {},
     "output_type": "execute_result"
    }
   ],
   "source": [
    "from matplotlib import pyplot as plt\n",
    "center = testsections[0].shearcenter()\n",
    "t4 = testsections[0].t4_point()\n",
    "\n",
    "plt.plot(geol[:,0], geol[:,1])\n",
    "plt.plot(geom[:,0], geom[:,1])\n",
    "plt.plot(geor[:,0], geor[:,1])\n",
    "plt.plot(center[0], center[1], 'o')\n",
    "plt.plot(t4[0], t4[1], 'x')\n",
    "plt.axis('equal')\n",
    "center"
   ]
  },
  {
   "cell_type": "code",
   "execution_count": 12,
   "metadata": {},
   "outputs": [],
   "source": [
    "Q = [0,1]\n",
    "T = 1\n",
    "Q_new = beam.transform(np.array((Q)), testsections[0].Θ)"
   ]
  },
  {
   "cell_type": "code",
   "execution_count": 13,
   "metadata": {},
   "outputs": [],
   "source": [
    "shearflow = testsections[0].shearflow_total(Q_new, T)\n",
    "shearflow = np.array(shearflow)/30"
   ]
  },
  {
   "cell_type": "code",
   "execution_count": 17,
   "metadata": {},
   "outputs": [
    {
     "data": {
      "application/vnd.jupyter.widget-view+json": {
       "model_id": "242d20e78f6045f08d6aa396faf0ac43",
       "version_major": 2,
       "version_minor": 0
      },
      "text/plain": [
       "FigureCanvasNbAgg()"
      ]
     },
     "metadata": {},
     "output_type": "display_data"
    },
    {
     "data": {
      "text/plain": [
       "[<matplotlib.lines.Line2D at 0x7f70a6d299b0>]"
      ]
     },
     "execution_count": 17,
     "metadata": {},
     "output_type": "execute_result"
    }
   ],
   "source": [
    "plt.figure()\n",
    "shearflow_plot = testsections[0].plot_around_profil(shearflow)\n",
    "\n",
    "shearflow_plot_left = shearflow_plot[0]\n",
    "shearflow_plot_middle = shearflow_plot[1]\n",
    "shearflow_plot_right = shearflow_plot[2]\n",
    "\n",
    "plt.plot(shearflow_plot_left[:,0], shearflow_plot_left[:,1], 'orange')\n",
    "plt.plot(shearflow_plot_middle[:,0], shearflow_plot_middle[:,1], 'orange')\n",
    "plt.plot(shearflow_plot_right[:,0], shearflow_plot_right[:,1], 'orange')\n",
    "\n",
    "\n",
    "\n",
    "center = testsections[0].shearcenter()\n",
    "t4 = testsections[0].t4_point()\n",
    "\n",
    "plt.plot(geol[:,0], geol[:,1])\n",
    "plt.plot(geom[:,0], geom[:,1])\n",
    "plt.plot(geor[:,0], geor[:,1])\n",
    "plt.plot(center[0], center[1], 'o')\n",
    "plt.plot(t4[0], t4[1], 'x')\n",
    "plt.axis('equal')\n",
    "center\n",
    "\n",
    "line1 = np.array((shearflow_plot_left[0], shearflow_plot_right[0]))\n",
    "plt.plot(line1[:,0], line1[:,1], 'orange')\n",
    "\n",
    "line2 = np.array((shearflow_plot_left[-1], shearflow_plot_right[-1]))\n",
    "plt.plot(line2[:,0], line2[:,1], 'orange')"
   ]
  },
  {
   "cell_type": "code",
   "execution_count": 20,
   "metadata": {},
   "outputs": [],
   "source": [
    "def plotdistri(Qy, Qz, T):\n",
    "    \n",
    "    Q = [Qy,Qz]\n",
    "    Q_new = beam.transform(np.array((Q)), testsections[0].Θ)\n",
    "    shearflow = testsections[0].shearflow_total(Q_new, T)\n",
    "    shearflow = np.array(shearflow)/30\n",
    "    \n",
    "    plt.clf()\n",
    "    \n",
    "    shearflow_plot = testsections[0].plot_around_profil(shearflow)\n",
    "\n",
    "    shearflow_plot_left = shearflow_plot[0]\n",
    "    shearflow_plot_middle = shearflow_plot[1]\n",
    "    shearflow_plot_right = shearflow_plot[2]\n",
    "\n",
    "    plt.plot(shearflow_plot_left[:,0], shearflow_plot_left[:,1], 'orange')\n",
    "    plt.plot(shearflow_plot_middle[:,0], shearflow_plot_middle[:,1], 'orange')\n",
    "    plt.plot(shearflow_plot_right[:,0], shearflow_plot_right[:,1], 'orange')\n",
    "\n",
    "    center = testsections[0].shearcenter()\n",
    "    t4 = testsections[0].t4_point()\n",
    "\n",
    "    plt.plot(geol[:,0], geol[:,1])\n",
    "    plt.plot(geom[:,0], geom[:,1])\n",
    "    plt.plot(geor[:,0], geor[:,1])\n",
    "    plt.plot(center[0], center[1], 'o')\n",
    "    plt.plot(t4[0], t4[1], 'x')\n",
    "    plt.axis('equal')\n",
    "    center\n",
    "\n",
    "    line1 = np.array((shearflow_plot_left[0], shearflow_plot_right[0]))\n",
    "    plt.plot(line1[:,0], line1[:,1], 'orange')\n",
    "\n",
    "    line2 = np.array((shearflow_plot_left[-1], shearflow_plot_right[-1]))\n",
    "    plt.plot(line2[:,0], line2[:,1], 'orange')"
   ]
  },
  {
   "cell_type": "code",
   "execution_count": 23,
   "metadata": {},
   "outputs": [
    {
     "data": {
      "application/vnd.jupyter.widget-view+json": {
       "model_id": "ec0670215dca4c2685b4e5fe5a4f7dc3",
       "version_major": 2,
       "version_minor": 0
      },
      "text/plain": [
       "FigureCanvasNbAgg()"
      ]
     },
     "metadata": {},
     "output_type": "display_data"
    },
    {
     "data": {
      "application/vnd.jupyter.widget-view+json": {
       "model_id": "f41ec915c6bc4ba2bbfe2af7b1222f3a",
       "version_major": 2,
       "version_minor": 0
      },
      "text/plain": [
       "interactive(children=(FloatSlider(value=0.0, description='Qy', max=5.0, min=-5.0), FloatSlider(value=0.0, desc…"
      ]
     },
     "metadata": {},
     "output_type": "display_data"
    },
    {
     "data": {
      "text/plain": [
       "<function __main__.plotdistri(Qy, Qz, T)>"
      ]
     },
     "execution_count": 23,
     "metadata": {},
     "output_type": "execute_result"
    }
   ],
   "source": [
    "from ipywidgets import interact, interactive, fixed, interact_manual, FloatSlider\n",
    "import ipywidgets as widgets\n",
    "\n",
    "plt.figure()\n",
    "\n",
    "\n",
    "Q_y_slider = FloatSlider(value=0.0, min=-5, max=5)\n",
    "Q_z_slider = FloatSlider(value=0.0, min=-5, max=5)\n",
    "T_slider = FloatSlider(value=0.0, min=-5, max=5)\n",
    "\n",
    "interact(plotdistri, Qy=Q_y_slider, Qz=Q_z_slider, T=T_slider)\n",
    "#plotdistri(3,1,1)"
   ]
  },
  {
   "cell_type": "code",
   "execution_count": 28,
   "metadata": {},
   "outputs": [
    {
     "data": {
      "application/vnd.jupyter.widget-view+json": {
       "model_id": "1d3963e5546046f0b91c5cd3db94dc9f",
       "version_major": 2,
       "version_minor": 0
      },
      "text/plain": [
       "FigureCanvasNbAgg()"
      ]
     },
     "metadata": {},
     "output_type": "display_data"
    }
   ],
   "source": [
    "import matplotlib.pyplot as plt\n",
    "from mpl_toolkits.mplot3d import Axes3D\n",
    "fig = plt.figure()\n",
    "ax = fig.add_subplot(111, projection='3d')\n",
    "for i in range(0,len(y)):\n",
    "\n",
    "    a = ones(len(testsections[i].geometries[0]))*y[i]\n",
    "    #b = ones(len(testsections[i].geometries[1]))*y[i]\n",
    "    c = ones(len(testsections[i].geometries[2]))*y[i]\n",
    "\n",
    "    ax.plot(a, testsections[i].geometries[0][:,0], testsections[i].geometries[0][:,1], 'orange')\n",
    "    #ax.plot(b, testsections[i].geometries[1][:,0], testsections[i].geometries[1][:,1], 'orange')\n",
    "    ax.plot(c, testsections[i].geometries[2][:,0], testsections[i].geometries[2][:,1], 'orange')\n",
    "\n",
    "\n"
   ]
  },
  {
   "cell_type": "code",
   "execution_count": 29,
   "metadata": {},
   "outputs": [
    {
     "data": {
      "text/plain": [
       "6"
      ]
     },
     "execution_count": 29,
     "metadata": {},
     "output_type": "execute_result"
    }
   ],
   "source": [
    "len(geometry_section[1])"
   ]
  },
  {
   "cell_type": "code",
   "execution_count": 30,
   "metadata": {},
   "outputs": [
    {
     "data": {
      "text/plain": [
       "1.1732584878017311"
      ]
     },
     "execution_count": 30,
     "metadata": {},
     "output_type": "execute_result"
    }
   ],
   "source": [
    "y[6]"
   ]
  },
  {
   "cell_type": "code",
   "execution_count": null,
   "metadata": {},
   "outputs": [],
   "source": []
  }
 ],
 "metadata": {
  "kernelspec": {
   "display_name": "Python 3",
   "language": "python",
   "name": "python3"
  },
  "language_info": {
   "codemirror_mode": {
    "name": "ipython",
    "version": 3
   },
   "file_extension": ".py",
   "mimetype": "text/x-python",
   "name": "python",
   "nbconvert_exporter": "python",
   "pygments_lexer": "ipython3",
   "version": "3.6.8"
  }
 },
 "nbformat": 4,
 "nbformat_minor": 2
}
