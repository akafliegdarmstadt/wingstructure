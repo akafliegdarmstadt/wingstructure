{
 "cells": [
  {
   "cell_type": "code",
   "execution_count": 1,
   "metadata": {},
   "outputs": [],
   "source": [
    "import numpy as np\n",
    "from wingstructure.structure import beammechanics as beam\n",
    "%matplotlib ipympl"
   ]
  },
  {
   "cell_type": "code",
   "execution_count": 2,
   "metadata": {},
   "outputs": [],
   "source": [
    "# creating geometry and material data\n",
    "\n",
    "geometry_section = np.load('contour.npy')\n",
    "\n",
    "youngsmoduli_left = np.ones(len(geometry_section[0])-1)*12.5*10**9\n",
    "youngsmoduli_center = np.ones(len(geometry_section[1])-1)*12.5*10*9\n",
    "youngsmoduli_right = np.ones(len(geometry_section[2])-1)*12.5*10**9\n",
    "\n",
    "shearmoduli_left = np.ones(len(geometry_section[0])-1)*19.6*10**9\n",
    "shearmoduli_center = np.ones(len(geometry_section[1])-1)*19.6*10**9\n",
    "shearmoduli_right = np.ones(len(geometry_section[2])-1)*19.6*10**9\n",
    "\n",
    "thickness_left = np.ones(len(geometry_section[0])-1)*0.003\n",
    "thickness_center = np.ones(len(geometry_section[1])-1)*0.003\n",
    "thickness_right = np.ones(len(geometry_section[2])-1)*0.003\n",
    "\n",
    "youngsmoduli_section = youngsmoduli_left, youngsmoduli_center, youngsmoduli_right\n",
    "shearmoduli_section = shearmoduli_left, shearmoduli_center, shearmoduli_right\n",
    "thickness_section = thickness_left, thickness_center, thickness_right\n",
    "\n",
    "testsection = beam.Crosssection(geometry_section, youngsmoduli_section, shearmoduli_section, thickness_section)"
   ]
  },
  {
   "cell_type": "code",
   "execution_count": 3,
   "metadata": {},
   "outputs": [],
   "source": [
    "Q = [0,0.03] # testshearforce\n",
    "T = 0.03 # testmoment\n",
    "\n",
    "# transform shearforce into principal axis\n",
    "Q_new = beam.transform(np.array((Q)), testsection.Θ)"
   ]
  },
  {
   "cell_type": "code",
   "execution_count": 4,
   "metadata": {},
   "outputs": [],
   "source": [
    "# calculate shearflow\n",
    "\n",
    "shearflow = testsection.shearflow_total(Q_new, T)\n",
    "shearflow = np.array(shearflow)"
   ]
  },
  {
   "cell_type": "code",
   "execution_count": 5,
   "metadata": {},
   "outputs": [
    {
     "data": {
      "application/vnd.jupyter.widget-view+json": {
       "model_id": "d11d0f3c37594c34aa323dde426ba272",
       "version_major": 2,
       "version_minor": 0
      },
      "text/plain": [
       "FigureCanvasNbAgg()"
      ]
     },
     "metadata": {},
     "output_type": "display_data"
    },
    {
     "data": {
      "text/plain": [
       "[<matplotlib.lines.Line2D at 0x973c8d0>]"
      ]
     },
     "execution_count": 5,
     "metadata": {},
     "output_type": "execute_result"
    }
   ],
   "source": [
    "# plot shearflow around the profile\n",
    "\n",
    "from matplotlib import pyplot as plt\n",
    "plt.figure()\n",
    "shearflow_plot = testsection.plot_around_profil(shearflow)\n",
    "\n",
    "shearflow_plot_left = shearflow_plot[0]\n",
    "shearflow_plot_center = shearflow_plot[1]\n",
    "shearflow_plot_right = shearflow_plot[2]\n",
    "\n",
    "plt.plot(shearflow_plot_left[:,0], shearflow_plot_left[:,1], 'orange')\n",
    "plt.plot(shearflow_plot_center[:,0], shearflow_plot_center[:,1], 'orange')\n",
    "plt.plot(shearflow_plot_right[:,0], shearflow_plot_right[:,1], 'orange')\n",
    "\n",
    "\n",
    "center = testsection.shearcenter()\n",
    "c4 = testsection.c4_point()\n",
    "\n",
    "geol = testsection.geometries[0]\n",
    "geoc = testsection.geometries[1]\n",
    "geor = testsection.geometries[2]\n",
    "\n",
    "plt.plot(geol[:,0], geol[:,1])\n",
    "plt.plot(geoc[:,0], geoc[:,1])\n",
    "plt.plot(geor[:,0], geor[:,1])\n",
    "plt.plot(center[0], center[1], 'o')\n",
    "plt.plot(c4[0], c4[1], 'x')\n",
    "plt.axis('equal')\n",
    "center\n",
    "\n",
    "line1 = np.array((shearflow_plot_left[0], shearflow_plot_right[0]))\n",
    "plt.plot(line1[:,0], line1[:,1], 'orange')\n",
    "\n",
    "line2 = np.array((shearflow_plot_left[-1], shearflow_plot_right[-1]))\n",
    "plt.plot(line2[:,0], line2[:,1], 'orange')"
   ]
  },
  {
   "cell_type": "code",
   "execution_count": 6,
   "metadata": {},
   "outputs": [
    {
     "data": {
      "application/vnd.jupyter.widget-view+json": {
       "model_id": "ab1ea40053fb4cc2b7124443316c0003",
       "version_major": 2,
       "version_minor": 0
      },
      "text/plain": [
       "FigureCanvasNbAgg()"
      ]
     },
     "metadata": {},
     "output_type": "display_data"
    },
    {
     "data": {
      "application/vnd.jupyter.widget-view+json": {
       "model_id": "1ead99e98985424cb3a3d39a60d32696",
       "version_major": 2,
       "version_minor": 0
      },
      "text/plain": [
       "interactive(children=(FloatSlider(value=0.0, description='Qy', max=5.0, min=-5.0), FloatSlider(value=0.0, desc…"
      ]
     },
     "metadata": {},
     "output_type": "display_data"
    },
    {
     "data": {
      "text/plain": [
       "<function __main__.plotdistri(Qy, Qz, T)>"
      ]
     },
     "execution_count": 6,
     "metadata": {},
     "output_type": "execute_result"
    }
   ],
   "source": [
    "# plot variable shearflow around profile (for demonstration)\n",
    "\n",
    "def plotdistri(Qy, Qz, T):\n",
    "    \n",
    "    Q = [Qy,Qz]\n",
    "    Q_new = beam.transform(np.array((Q)), testsection.Θ)\n",
    "    shearflow = testsection.shearflow_total(Q_new, T)\n",
    "    shearflow = np.array(shearflow)/30\n",
    "    \n",
    "    plt.clf()\n",
    "    \n",
    "    shearflow_plot = testsection.plot_around_profil(shearflow)\n",
    "\n",
    "    shearflow_plot_left = shearflow_plot[0]\n",
    "    shearflow_plot_center = shearflow_plot[1]\n",
    "    shearflow_plot_right = shearflow_plot[2]\n",
    "    \n",
    "    center = testsection.shearcenter()\n",
    "    c4 = testsection.c4_point()\n",
    "    \n",
    "    plt.plot(geol[:,0], geol[:,1])\n",
    "    plt.plot(geoc[:,0], geoc[:,1])\n",
    "    plt.plot(geor[:,0], geor[:,1])\n",
    "    plt.plot(center[0], center[1], 'o')\n",
    "    plt.plot(c4[0], c4[1], 'x')\n",
    "    plt.axis('equal')\n",
    "    \n",
    "    \n",
    "    plt.plot(shearflow_plot_left[:,0], shearflow_plot_left[:,1], 'orange')\n",
    "    plt.plot(shearflow_plot_center[:,0], shearflow_plot_center[:,1], 'orange')\n",
    "    plt.plot(shearflow_plot_right[:,0], shearflow_plot_right[:,1], 'orange')\n",
    "\n",
    "    plt.arrow(c4[0], c4[1], 0, -Qz/10, linewidth=2, color='red')\n",
    "    plt.arrow(c4[0], c4[1], -Qy/10, 0, linewidth=2, color='red')\n",
    "\n",
    "\n",
    "\n",
    "    line1 = np.array((shearflow_plot_left[0], shearflow_plot_right[0]))\n",
    "    plt.plot(line1[:,0], line1[:,1], 'orange')\n",
    "\n",
    "    line2 = np.array((shearflow_plot_left[-1], shearflow_plot_right[-1]))\n",
    "    plt.plot(line2[:,0], line2[:,1], 'orange')\n",
    "    \n",
    "\n",
    "from ipywidgets import interact, interactive, fixed, interact_manual, FloatSlider\n",
    "import ipywidgets as widgets\n",
    "\n",
    "plt.figure()\n",
    "\n",
    "\n",
    "Q_y_slider = FloatSlider(value=0.0, min=-5, max=5)\n",
    "Q_z_slider = FloatSlider(value=0.0, min=-5, max=5)\n",
    "T_slider = FloatSlider(value=0.0, min=-5, max=5)\n",
    "\n",
    "interact(plotdistri, Qy=Q_y_slider, Qz=Q_z_slider, T=T_slider)"
   ]
  },
  {
   "cell_type": "code",
   "execution_count": 7,
   "metadata": {},
   "outputs": [
    {
     "data": {
      "text/plain": [
       "2.261141634187205e-08"
      ]
     },
     "execution_count": 7,
     "metadata": {},
     "output_type": "execute_result"
    }
   ],
   "source": [
    "# calculate twist of the section\n",
    "\n",
    "testsection.twist(Q_new, T)"
   ]
  },
  {
   "cell_type": "code",
   "execution_count": 8,
   "metadata": {},
   "outputs": [
    {
     "data": {
      "text/plain": [
       "array([1.31806274e-08, 3.30342124e-06, 1.59476867e-07])"
      ]
     },
     "execution_count": 8,
     "metadata": {},
     "output_type": "execute_result"
    }
   ],
   "source": [
    "# calculate deformation vector of the section\n",
    "\n",
    "N = 1\n",
    "M_y = 1\n",
    "M_z = 1\n",
    "testforces = ((N, M_y, M_z))\n",
    "\n",
    "testsection.deformation_vec(testforces)"
   ]
  },
  {
   "cell_type": "code",
   "execution_count": 9,
   "metadata": {},
   "outputs": [],
   "source": [
    "# calculate longitudinal deformation in every element of the section\n",
    "\n",
    "def_element = testsection.deformation_element(testforces)"
   ]
  },
  {
   "cell_type": "code",
   "execution_count": 14,
   "metadata": {},
   "outputs": [],
   "source": [
    "# calculate longitudinal stress in every element of the section\n",
    "\n",
    "stress_element = testsection.stress_element(testforces)"
   ]
  }
 ],
 "metadata": {
  "kernelspec": {
   "display_name": "Python 3",
   "language": "python",
   "name": "python3"
  },
  "language_info": {
   "codemirror_mode": {
    "name": "ipython",
    "version": 3
   },
   "file_extension": ".py",
   "mimetype": "text/x-python",
   "name": "python",
   "nbconvert_exporter": "python",
   "pygments_lexer": "ipython3",
   "version": "3.7.1"
  }
 },
 "nbformat": 4,
 "nbformat_minor": 2
}
