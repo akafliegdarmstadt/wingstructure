{
 "cells": [
  {
   "cell_type": "code",
   "execution_count": 1,
   "metadata": {},
   "outputs": [],
   "source": [
    "%matplotlib inline\n",
    "\n",
    "import numpy as np\n",
    "from matplotlib import pyplot as plt\n",
    "from wingstructure.liftingline import multhopp, _solve_multhopp\n",
    "\n",
    "π = np.pi"
   ]
  },
  {
   "cell_type": "markdown",
   "metadata": {},
   "source": [
    "# Validation Multhopp Method\n",
    "\n",
    "## Circulation Distribution\n",
    "\n",
    "Reference data taken from *H.Schlichting, E.Truckenbrodt-Aerodynamik des Flugzeugs*"
   ]
  },
  {
   "cell_type": "code",
   "execution_count": 2,
   "metadata": {},
   "outputs": [
    {
     "data": {
      "image/png": "[encoded data removed]",
      "text/plain": [
       "<Figure size 360x252 with 1 Axes>"
      ]
     },
     "metadata": {},
     "output_type": "display_data"
    }
   ],
   "source": [
    "plt.figure(figsize=(5,3.5))\n",
    "\n",
    "Λ = 6 # aspect ratio of wing\n",
    "    \n",
    "b = 15 # m span width\n",
    "cs = [b/Λ]*2 # depth of wing\n",
    "ys = [0,b/2] # section positions\n",
    "\n",
    "αs = [1]*2 # angle of attack\n",
    "dcls = [2*np.pi]*2\n",
    "\n",
    "# reference results\n",
    "ηs_ref = [0,0.3827,0.7071,0.9239,1]\n",
    "γs_ref = [0.4320,0.4192,0.3710,0.2485,0]\n",
    "\n",
    "plt.plot(ηs_ref, γs_ref, 'C3+', label='reference')\n",
    "\n",
    "# coarse calculation\n",
    "M = 7\n",
    "\n",
    "res = multhopp(αs, cs, ys, dcls, M = M, mode='gamma')\n",
    "res2 = multhopp(αs, cs, ys, dcls, M = M, mode='combined')\n",
    "res3 = multhopp(αs, cs, ys, dcls, M = 91, mode='combined')\n",
    "res4 = multhopp(αs, cs, ys, dcls, M = 191, mode='combined')\n",
    "\n",
    "plt.plot(res[0][M//2:]/b*2, res[1][M//2:], 'C1', label='present(coarse)')\n",
    "\n",
    "\n",
    "# finer calculation\n",
    "M = 91\n",
    "\n",
    "res5 = multhopp(αs, cs, ys, dcls, M = M, mode='gamma')\n",
    "\n",
    "plt.plot(res5[0][M//2:]/b*2, res5[1][M//2:], 'C2--', label='present(fine)')\n",
    "\n",
    "# layout\n",
    "plt.xlabel('η')\n",
    "plt.ylabel('γ')\n",
    "plt.grid()\n",
    "plt.legend(loc='best');\n",
    "\n",
    "plt.savefig('validation_multhopp.pdf', bbox_inches='tight')"
   ]
  },
  {
   "cell_type": "code",
   "execution_count": 3,
   "metadata": {},
   "outputs": [
    {
     "name": "stdout",
     "output_type": "stream",
     "text": [
      "Circulation is correct!\n"
     ]
    }
   ],
   "source": [
    "if np.isclose(res[0][7//2:]/(b/2), ηs_ref[:-1], atol=1e-4).all():\n",
    "    print('Circulation is correct!')"
   ]
  },
  {
   "cell_type": "code",
   "execution_count": null,
   "metadata": {},
   "outputs": [],
   "source": []
  }
 ],
 "metadata": {
  "kernelspec": {
   "display_name": "Python 3",
   "language": "python",
   "name": "python3"
  },
  "language_info": {
   "codemirror_mode": {
    "name": "ipython",
    "version": 3
   },
   "file_extension": ".py",
   "mimetype": "text/x-python",
   "name": "python",
   "nbconvert_exporter": "python",
   "pygments_lexer": "ipython3",
   "version": "3.6.6"
  }
 },
 "nbformat": 4,
 "nbformat_minor": 2
}
