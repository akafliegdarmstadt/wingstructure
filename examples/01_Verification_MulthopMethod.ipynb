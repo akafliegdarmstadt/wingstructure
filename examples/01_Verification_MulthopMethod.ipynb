{
 "cells": [
  {
   "cell_type": "code",
   "execution_count": 1,
   "metadata": {},
   "outputs": [],
   "source": [
    "%matplotlib inline\n",
    "\n",
    "import numpy as np\n",
    "from matplotlib import pyplot as plt\n",
    "from wingstructure.aero.multhop import multhop, _multhop_solve\n",
    "\n",
    "π = np.pi"
   ]
  },
  {
   "cell_type": "markdown",
   "metadata": {},
   "source": [
    "# Validation Multhopp Method\n",
    "\n",
    "## Circulation Distribution\n",
    "\n",
    "Reference data taken from *H.Schlichting, E.Truckenbrodt-Aerodynamik des Flugzeugs*"
   ]
  },
  {
   "cell_type": "code",
   "execution_count": 2,
   "metadata": {},
   "outputs": [
    {
     "name": "stdout",
     "output_type": "stream",
     "text": [
      "[0, 7.5]\n",
      "[0, 7.5]\n",
      "[0, 7.5]\n",
      "[0, 7.5]\n",
      "[0, 7.5]\n"
     ]
    },
    {
     "data": {
      "image/png": "[encoded data removed]",
      "text/plain": [
       "<Figure size 360x252 with 1 Axes>"
      ]
     },
     "metadata": {
      "needs_background": "light"
     },
     "output_type": "display_data"
    }
   ],
   "source": [
    "#from warnings import warn, simplefilter\n",
    "#simplefilter('error')\n",
    "\n",
    "plt.figure(figsize=(5,3.5))\n",
    "\n",
    "Λ = 6 # aspect ratio of wing\n",
    "\n",
    "b = 15 # m span width\n",
    "cs = [b/Λ]*2 # depth of wing\n",
    "ys = [0, b/2] # section positions\n",
    "\n",
    "S = b * cs[0]\n",
    "\n",
    "αs = [1]*2 # angle of attack\n",
    "dcls = [2*np.pi]*2\n",
    "\n",
    "# reference results\n",
    "ηs_ref = [0,0.3827,0.7071,0.9239,1]\n",
    "γs_ref = [0.4320,0.4192,0.3710,0.2485,0]\n",
    "\n",
    "plt.plot(ηs_ref, γs_ref, 'C3+', label='reference')\n",
    "\n",
    "# coarse calculation\n",
    "M = 7\n",
    "\n",
    "res = multhop(ys, αs, cs, dcls, S, b, M = M)\n",
    "res2 = multhop(ys, αs, cs, dcls, S, b, M = M)\n",
    "res3 = multhop(ys, αs, cs, dcls, S, b, M = 91)\n",
    "res4 = multhop(ys, αs, cs, dcls, S, b, M = 19)\n",
    "\n",
    "plt.plot(res.ys[M//2:]/b*2, res.γs[M//2:], 'C1', label='present(coarse)')\n",
    "\n",
    "\n",
    "# finer calculation\n",
    "M = 91\n",
    "\n",
    "res5 = multhop(ys, αs, cs, dcls, S, b, M = M)\n",
    "\n",
    "plt.plot(res5.ys[M//2:]/b*2, res5.γs[M//2:], 'C2--', label='present(fine)')\n",
    "\n",
    "# layout\n",
    "plt.xlabel('η')\n",
    "plt.ylabel('γ')\n",
    "plt.grid()\n",
    "plt.legend(loc='best');\n",
    "\n",
    "plt.savefig('validation_multhopp.pdf', bbox_inches='tight')"
   ]
  }
 ],
 "metadata": {
  "kernelspec": {
   "display_name": "Python 3",
   "language": "python",
   "name": "python3"
  },
  "language_info": {
   "codemirror_mode": {
    "name": "ipython",
    "version": 3
   },
   "file_extension": ".py",
   "mimetype": "text/x-python",
   "name": "python",
   "nbconvert_exporter": "python",
   "pygments_lexer": "ipython3",
   "version": "3.7.3"
  }
 },
 "nbformat": 4,
 "nbformat_minor": 4
}
