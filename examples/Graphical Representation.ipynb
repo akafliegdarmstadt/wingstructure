{
 "metadata": {
  "name": "",
  "signature": "sha256:100b444c97731a98791d17fba896658900b3f4e0ebde592d90c6483603113d89"
 },
 "nbformat": 3,
 "nbformat_minor": 0,
 "worksheets": [
  {
   "cells": [
    {
     "cell_type": "code",
     "collapsed": false,
     "input": [
      "%matplotlib inline\n",
      "import svgwrite\n",
      "from wingstructure import WingExt\n",
      "import numpy as np\n",
      "\n",
      "from IPython.display import SVG\n",
      "\n",
      "\n",
      "span_positions = [0, 2, 5, 7]\n",
      "chord_lengths = [1, 0.9, 0.6, 0.3]\n",
      "offsets = [0, 0.1, 0.3, 0.7]\n",
      "twists = [0]*4\n",
      "airfoils = [None]*4\n",
      "\n",
      "twists2 = [0, 0, np.deg2rad(-1), np.deg2rad(-2)]\n",
      "\n",
      "wing = WingExt.create_from_planform(span_positions, chord_lengths, offsets, twists, airfoils);\n",
      "wing.set_root_pos(0.7)\n",
      "wing.set_airbrake(1,2.3)\n",
      "\n",
      "dwg = svgwrite.Drawing()\n",
      "\n",
      "# draw contourline\n",
      "x_positions = [section.pos.x for section in wing.sections]\n",
      "y_positions = [section.pos.y for section in wing.sections]\n",
      "chord_lengths = [section.chord for section in wing.sections]\n",
      "\n",
      "leading_edge = [(x*100, y*100) for x, y in zip(x_positions, y_positions)]\n",
      "trailing_edge = [((x+c)*100, y*100) for x, y, c in zip(x_positions, y_positions, chord_lengths)]\n",
      "\n",
      "all_pts = leading_edge+trailing_edge[::-1]\n",
      "\n",
      "SVG(data=dwg.tostring())"
     ],
     "language": "python",
     "metadata": {},
     "outputs": [
      {
       "metadata": {},
       "output_type": "pyout",
       "prompt_number": 27,
       "svg": [
        "<svg baseProfile=\"full\" height=\"100%\" version=\"1.1\" width=\"100%\" xmlns=\"http://www.w3.org/2000/svg\" xmlns:ev=\"http://www.w3.org/2001/xml-events\" xmlns:xlink=\"http://www.w3.org/1999/xlink\"><defs/></svg>"
       ],
       "text": [
        "<IPython.core.display.SVG at 0x7f05db7b12e8>"
       ]
      }
     ],
     "prompt_number": 27
    },
    {
     "cell_type": "code",
     "collapsed": false,
     "input": [
      "x_positions"
     ],
     "language": "python",
     "metadata": {},
     "outputs": [
      {
       "metadata": {},
       "output_type": "pyout",
       "prompt_number": 29,
       "text": [
        "[0, 0.1, 0.3, 0.7]"
       ]
      }
     ],
     "prompt_number": 29
    },
    {
     "cell_type": "code",
     "collapsed": false,
     "input": [
      "y_positions"
     ],
     "language": "python",
     "metadata": {},
     "outputs": [
      {
       "metadata": {},
       "output_type": "pyout",
       "prompt_number": 30,
       "text": [
        "[0, 2, 5, 7]"
       ]
      }
     ],
     "prompt_number": 30
    },
    {
     "cell_type": "code",
     "collapsed": false,
     "input": [
      "chord_lengths"
     ],
     "language": "python",
     "metadata": {},
     "outputs": [
      {
       "metadata": {},
       "output_type": "pyout",
       "prompt_number": 31,
       "text": [
        "[1, 0.9, 0.6, 0.3]"
       ]
      }
     ],
     "prompt_number": 31
    },
    {
     "cell_type": "code",
     "collapsed": false,
     "input": [
      "import matplotlib.pyplot as plt, mpld3"
     ],
     "language": "python",
     "metadata": {},
     "outputs": [],
     "prompt_number": 32
    },
    {
     "cell_type": "code",
     "collapsed": false,
     "input": [
      "# draw centerline\n",
      "plt.axvline(x=0, linestyle='-.')\n",
      "# draw leading edge\n",
      "plt.plot(y_positions, -np.array(x_positions), 'b' )\n",
      "# draw trailing edge\n",
      "plt.plot(y_positions, -np.array(x_positions)-np.array(chord_lengths), 'b')\n",
      "\n",
      "\n",
      "\n",
      "# \n",
      "plt.axis('equal')\n",
      "plt.axis('off')\n"
     ],
     "language": "python",
     "metadata": {},
     "outputs": [
      {
       "metadata": {},
       "output_type": "pyout",
       "prompt_number": 39,
       "text": [
        "(0.0, 7.0, -1.0, 0.0)"
       ]
      },
      {
       "metadata": {},
       "output_type": "display_data",
       "png": "[encoded data removed]",
       "text": [
        "<matplotlib.figure.Figure at 0x7f05d5febbe0>"
       ]
      }
     ],
     "prompt_number": 39
    },
    {
     "cell_type": "code",
     "collapsed": false,
     "input": [],
     "language": "python",
     "metadata": {},
     "outputs": [],
     "prompt_number": 7
    },
    {
     "cell_type": "code",
     "collapsed": false,
     "input": [],
     "language": "python",
     "metadata": {},
     "outputs": []
    }
   ],
   "metadata": {}
  }
 ]
}