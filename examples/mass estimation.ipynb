{
 "metadata": {
  "name": "",
  "signature": "sha256:42bc2e016f0c57a10ea509ec14cde217139fb774707c3ca08c967ee3573af762"
 },
 "nbformat": 3,
 "nbformat_minor": 0,
 "worksheets": [
  {
   "cells": [
    {
     "cell_type": "code",
     "collapsed": false,
     "input": [
      "from shapely.geometry import LineString, Polygon, LinearRing, box\n",
      "from shapely.ops import cascaded_union\n",
      "from shapely import speedups\n",
      "import numpy as np\n",
      "\n",
      "if speedups.available:\n",
      "    speedups.enable()"
     ],
     "language": "python",
     "metadata": {},
     "outputs": [],
     "prompt_number": 72
    },
    {
     "cell_type": "markdown",
     "metadata": {},
     "source": [
      "## Parameterdefinition"
     ]
    },
    {
     "cell_type": "code",
     "collapsed": false,
     "input": [
      "chord_length = 1.2 #m\n",
      "shell_thickness = 2e-3 #m\n",
      "\n",
      "gurtdicke = 2e-2 #m\n",
      "stegdicke = 5e-3 #m  "
     ],
     "language": "python",
     "metadata": {},
     "outputs": [],
     "prompt_number": 119
    },
    {
     "cell_type": "markdown",
     "metadata": {},
     "source": [
      "## Fl\u00fcgel-Schale anlegen\n",
      "\n",
      "Erstellen der Fl\u00fcgelgeometrie durch Boolsche Differenz"
     ]
    },
    {
     "cell_type": "code",
     "collapsed": false,
     "input": [
      "airfoildat = np.loadtxt('naca0008.dat', skiprows=1) * chord_length\n",
      "airfoil_geom = LinearRing(airfoildat)\n",
      "airfoil_offset = airfoil_geom.parallel_offset(shell_thickness, side='left')\n",
      "\n",
      "shell = Polygon(airfoil_geom).difference(Polygon(offset))\n",
      "shell"
     ],
     "language": "python",
     "metadata": {},
     "outputs": [
      {
       "metadata": {},
       "output_type": "pyout",
       "prompt_number": 60,
       "svg": [
        "<svg xmlns=\"http://www.w3.org/2000/svg\" xmlns:xlink=\"http://www.w3.org/1999/xlink\" width=\"100.0\" height=\"100.0\" viewBox=\"-0.048 -0.09601199999999999 1.296 0.19202399999999997\" preserveAspectRatio=\"xMinYMin meet\"><g transform=\"matrix(1,0,0,-1,0,0.0)\"><path fill-rule=\"evenodd\" fill=\"#66cc99\" stroke=\"#555555\" stroke-width=\"0.025920000000000002\" opacity=\"0.6\" d=\"M 1.2,0.001008 L 1.2,-0.001008 L 1.14,-0.006443999999999999 L 1.08,-0.01158 L 0.96,-0.020987999999999996 L 0.84,-0.029316 L 0.72,-0.036516 L 0.6,-0.042348000000000004 L 0.48,-0.046428000000000004 L 0.36,-0.04801199999999999 L 0.3,-0.047532 L 0.24,-0.045899999999999996 L 0.18,-0.042767999999999994 L 0.12,-0.037452 L 0.09,-0.0336 L 0.06,-0.028428 L 0.03,-0.020916 L 0.015,-0.015156 L 0.0,0.0 L 0.015,0.015156 L 0.03,0.020916 L 0.06,0.028428 L 0.09,0.0336 L 0.12,0.037452 L 0.18,0.042767999999999994 L 0.24,0.045899999999999996 L 0.3,0.047532 L 0.36,0.04801199999999999 L 0.48,0.046428000000000004 L 0.6,0.042348000000000004 L 0.72,0.036516 L 0.84,0.029316 L 0.96,0.020987999999999996 L 1.08,0.01158 L 1.14,0.006443999999999999 L 1.2,0.001008 z M 0.0028139083413044608,0.0 L 0.016118750853715502,-0.013443212874540107 L 0.030603596301642888,-0.01900539352654421 L 0.06041336988339163,-0.026469760831414117 L 0.09029738576611701,-0.031621765169595965 L 0.12021569216257133,-0.0354632757109007 L 0.18014042935073515,-0.04077260742577202 L 0.24007933132506254,-0.04390141810883191 L 0.3000351929288415,-0.045532217544454696 L 0.35999480030968234,-0.04601189440350142 L 0.4799528156875865,-0.04442844860051309 L 0.5999174725464399,-0.04034965026731208 L 0.719891561501055,-0.03451890954411778 L 0.8398708714070097,-0.02732015094976051 L 0.9598526034140811,-0.01899341874846975 L 1.079836549647996,-0.009586677363730827 L 1.1398244803829638,-0.004451710492817557 L 1.1889603577871313,-1.3552527156068805e-19 L 1.1398244803829638,0.004451710492817557 L 1.079836549647996,0.009586677363730827 L 0.9598526034140811,0.01899341874846975 L 0.8398708714070097,0.02732015094976051 L 0.719891561501055,0.03451890954411778 L 0.5999174725464399,0.04034965026731208 L 0.4799528156875865,0.04442844860051309 L 0.35999480030968234,0.04601189440350142 L 0.3000351929288415,0.045532217544454696 L 0.24007933132506254,0.04390141810883191 L 0.18014042935073515,0.04077260742577202 L 0.12021569216257133,0.0354632757109007 L 0.09029738576611701,0.031621765169595965 L 0.06041336988339163,0.026469760831414117 L 0.030603596301642888,0.01900539352654421 L 0.016118750853715502,0.013443212874540107 L 0.0028139083413044608,0.0 z\" /></g></svg>"
       ],
       "text": [
        "<shapely.geometry.polygon.Polygon at 0x7fc6fa0c3668>"
       ]
      }
     ],
     "prompt_number": 60
    },
    {
     "cell_type": "markdown",
     "metadata": {},
     "source": [
      "Check ob Fl\u00e4chendifferenz richtig bestimmt wurde."
     ]
    },
    {
     "cell_type": "code",
     "collapsed": false,
     "input": [
      "Polygon(airfoil_geom).area- Polygon(offset).area, shell.area"
     ],
     "language": "python",
     "metadata": {},
     "outputs": [
      {
       "metadata": {},
       "output_type": "pyout",
       "prompt_number": 54,
       "text": [
        "(0.0048254388856434766, 0.0048254388856434766)"
       ]
      }
     ],
     "prompt_number": 54
    },
    {
     "cell_type": "markdown",
     "metadata": {},
     "source": [
      "## Holm anlegen\n",
      "\n",
      "zun\u00e4chst wird maximales Rechteck im gew\u00fcnschten Bereich ermittelt (f\u00fcr geraden I-Holm)"
     ]
    },
    {
     "cell_type": "code",
     "collapsed": false,
     "input": [
      "wingsparbox = Polygon(shell.interiors[0]).intersection(box(0.3*chord_length, shell.bounds[1], 0.5*chord_length, shell.bounds[3]))\n",
      "\n",
      "mid_y = (wingsparbox.bounds[1]+wingsparbox.bounds[3])/2\n",
      "wingsparbox_coords = np.array(wingsparbox.exterior.coords)\n",
      "max_y = max(wingsparbox_coords[wingsparbox_coords[:,1]>mid_y][:,1])\n",
      "min_y = min(wingsparbox_coords[wingsparbox_coords[:,1]<mid_y][:,1])\n",
      "\n",
      "min_y, mid_y, max_y"
     ],
     "language": "python",
     "metadata": {},
     "outputs": [
      {
       "metadata": {},
       "output_type": "pyout",
       "prompt_number": 112,
       "text": [
        "(-0.046011825767589228, 0.0, 0.046011825767589228)"
       ]
      }
     ],
     "prompt_number": 112
    },
    {
     "cell_type": "code",
     "collapsed": false,
     "input": [
      "oberer_gurt = box(0.3*chord_length, max_y-gurtdicke, 0.6*chord_length, max_y)\n",
      "unterer_gurt = box(0.3*chord_length, min_y, 0.6*chord_length, min_y+gurtdicke)\n",
      "mid_x = (0.3 + 0.6)/2 * chord_length\n",
      "steg = box(mid_x-stegdicke, min_y+gurtdicke, mid_x+stegdicke, max_y-gurtdicke)\n",
      "cascaded_union((oberer_gurt, unterer_gurt, steg))"
     ],
     "language": "python",
     "metadata": {},
     "outputs": [
      {
       "metadata": {},
       "output_type": "pyout",
       "prompt_number": 127,
       "svg": [
        "<svg xmlns=\"http://www.w3.org/2000/svg\" xmlns:xlink=\"http://www.w3.org/1999/xlink\" width=\"100.0\" height=\"100.0\" viewBox=\"0.34559999999999996 -0.06041182576758923 0.3888 0.12082365153517846\" preserveAspectRatio=\"xMinYMin meet\"><g transform=\"matrix(1,0,0,-1,0,0.0)\"><path fill-rule=\"evenodd\" fill=\"#66cc99\" stroke=\"#555555\" stroke-width=\"0.007776\" opacity=\"0.6\" d=\"M 0.5449999999999999,-0.026011825767589227 L 0.72,-0.026011825767589227 L 0.72,-0.04601182576758923 L 0.36,-0.04601182576758923 L 0.36,-0.026011825767589227 L 0.5349999999999999,-0.026011825767589227 L 0.5349999999999999,0.026011825767589227 L 0.36,0.026011825767589227 L 0.36,0.04601182576758923 L 0.72,0.04601182576758923 L 0.72,0.026011825767589227 L 0.5449999999999999,0.026011825767589227 L 0.5449999999999999,-0.026011825767589227 z\" /></g></svg>"
       ],
       "text": [
        "<shapely.geometry.polygon.Polygon at 0x7fc6f982a7f0>"
       ]
      }
     ],
     "prompt_number": 127
    }
   ],
   "metadata": {}
  }
 ]
}