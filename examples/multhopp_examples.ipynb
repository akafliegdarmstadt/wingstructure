{
 "cells": [
  {
   "cell_type": "markdown",
   "metadata": {},
   "source": [
    "## Import needed libraries"
   ]
  },
  {
   "cell_type": "code",
   "execution_count": 2,
   "metadata": {
    "collapsed": false
   },
   "outputs": [],
   "source": [
    "%matplotlib inline\n",
    "\n",
    "from wingstructure.multhopp import multhopp\n",
    "from matplotlib import pyplot as plt\n",
    "import numpy as np"
   ]
  },
  {
   "cell_type": "markdown",
   "metadata": {},
   "source": [
    "## Define simple wing"
   ]
  },
  {
   "cell_type": "code",
   "execution_count": 4,
   "metadata": {
    "collapsed": false
   },
   "outputs": [],
   "source": [
    "c = [1, 0.9, 0.7]\n",
    "y = [0, 6, 7]\n",
    "\n",
    "alpha = np.radians(1) # 1°\n",
    "\n",
    "res = multhopp(alpha, c, y)"
   ]
  },
  {
   "cell_type": "code",
   "execution_count": 5,
   "metadata": {
    "collapsed": false,
    "scrolled": true
   },
   "outputs": [
    {
     "data": {
      "text/plain": [
       "{'AR': 15.076923076923078,\n",
       " 'C_Di': 0.00020600106760589845,\n",
       " 'C_L': 0.094829165560535708,\n",
       " 'a_eff': array([ 0.00269751,  0.00513342,  0.00721373,  0.00892518,  0.01029223,\n",
       "         0.01135624,  0.01216223,  0.0127508 ,  0.01315449,  0.01338775,\n",
       "         0.01377887,  0.0142153 ,  0.014568  ,  0.01485684,  0.0150947 ,\n",
       "         0.01529113,  0.01545352,  0.01558754,  0.01569776,  0.01578769,\n",
       "         0.01586014,  0.01591721,  0.01596059,  0.01599131,  0.01601014,\n",
       "         0.01601709,  0.01601189,  0.01599265,  0.01595656,  0.01589194,\n",
       "         0.01595656,  0.01599265,  0.01601189,  0.01601709,  0.01601014,\n",
       "         0.01599131,  0.01596059,  0.01591721,  0.01586014,  0.01578769,\n",
       "         0.01569776,  0.01558754,  0.01545352,  0.01529113,  0.0150947 ,\n",
       "         0.01485684,  0.014568  ,  0.0142153 ,  0.01377887,  0.01338775,\n",
       "         0.01315449,  0.0127508 ,  0.01216223,  0.01135624,  0.01029223,\n",
       "         0.00892518,  0.00721373,  0.00513342,  0.00269751]),\n",
       " 'a_ind': array([ 0.01475578,  0.01231987,  0.01023956,  0.00852811,  0.00716106,\n",
       "         0.00609706,  0.00529106,  0.0047025 ,  0.0042988 ,  0.00406555,\n",
       "         0.00367443,  0.00323799,  0.00288529,  0.00259646,  0.00235859,\n",
       "         0.00216216,  0.00199978,  0.00186575,  0.00175553,  0.00166561,\n",
       "         0.00159315,  0.00153608,  0.0014927 ,  0.00146199,  0.00144315,\n",
       "         0.0014362 ,  0.0014414 ,  0.00146064,  0.00149673,  0.00156135,\n",
       "         0.00149673,  0.00146064,  0.0014414 ,  0.0014362 ,  0.00144315,\n",
       "         0.00146199,  0.0014927 ,  0.00153608,  0.00159315,  0.00166561,\n",
       "         0.00175553,  0.00186575,  0.00199978,  0.00216216,  0.00235859,\n",
       "         0.00259646,  0.00288529,  0.00323799,  0.00367443,  0.00406555,\n",
       "         0.0042988 ,  0.0047025 ,  0.00529106,  0.00609706,  0.00716106,\n",
       "         0.00852811,  0.01023956,  0.01231987,  0.01475578]),\n",
       " 'c_l': array([ 0.01694896,  0.03225425,  0.04532521,  0.05607859,  0.064668  ,\n",
       "         0.07135334,  0.07641755,  0.08011562,  0.08265211,  0.08411769,\n",
       "         0.08657517,  0.08931738,  0.09153343,  0.09334826,  0.09484282,\n",
       "         0.09607703,  0.0970973 ,  0.0979394 ,  0.09863195,  0.09919695,\n",
       "         0.0996522 ,  0.10001081,  0.10028334,  0.10047633,  0.10059468,\n",
       "         0.10063835,  0.1006057 ,  0.1004848 ,  0.10025805,  0.09985199,\n",
       "         0.10025805,  0.1004848 ,  0.1006057 ,  0.10063835,  0.10059468,\n",
       "         0.10047633,  0.10028334,  0.10001081,  0.0996522 ,  0.09919695,\n",
       "         0.09863195,  0.0979394 ,  0.0970973 ,  0.09607703,  0.09484282,\n",
       "         0.09334826,  0.09153343,  0.08931738,  0.08657517,  0.08411769,\n",
       "         0.08265211,  0.08011562,  0.07641755,  0.07135334,  0.064668  ,\n",
       "         0.05607859,  0.04532521,  0.03225425,  0.01694896]),\n",
       " 'chords': array([ 0.70191865,  0.70766935,  0.71723632,  0.73059336,  0.74770384,\n",
       "         0.76852088,  0.7929874 ,  0.82103636,  0.85259087,  0.88756443,\n",
       "         0.9021551 ,  0.90561468,  0.90933297,  0.91329977,  0.91750421,\n",
       "         0.92193476,  0.92657929,  0.93142505,  0.93645878,  0.94166667,\n",
       "         0.94703444,  0.95254739,  0.95819041,  0.96394802,  0.96980444,\n",
       "         0.97574364,  0.98174931,  0.98780501,  0.99389414,  1.        ,\n",
       "         0.99389414,  0.98780501,  0.98174931,  0.97574364,  0.96980444,\n",
       "         0.96394802,  0.95819041,  0.95254739,  0.94703444,  0.94166667,\n",
       "         0.93645878,  0.93142505,  0.92657929,  0.92193476,  0.91750421,\n",
       "         0.91329977,  0.90933297,  0.90561468,  0.9021551 ,  0.88756443,\n",
       "         0.85259087,  0.82103636,  0.7929874 ,  0.76852088,  0.74770384,\n",
       "         0.73059336,  0.71723632,  0.70766935,  0.70191865]),\n",
       " 'gamma': array([ 0.00042489,  0.00081519,  0.00116103,  0.00146324,  0.00172688,\n",
       "         0.00195845,  0.00216422,  0.00234921,  0.00251673,  0.00266642,\n",
       "         0.00278944,  0.00288883,  0.00297266,  0.00304482,  0.00310781,\n",
       "         0.00316346,  0.00321316,  0.00325797,  0.00329874,  0.00333609,\n",
       "         0.0033705 ,  0.00340232,  0.0034318 ,  0.00345907,  0.00348418,\n",
       "         0.00350704,  0.00352748,  0.00354498,  0.00355878,  0.00356614,\n",
       "         0.00355878,  0.00354498,  0.00352748,  0.00350704,  0.00348418,\n",
       "         0.00345907,  0.0034318 ,  0.00340232,  0.0033705 ,  0.00333609,\n",
       "         0.00329874,  0.00325797,  0.00321316,  0.00316346,  0.00310781,\n",
       "         0.00304482,  0.00297266,  0.00288883,  0.00278944,  0.00266642,\n",
       "         0.00251673,  0.00234921,  0.00216422,  0.00195845,  0.00172688,\n",
       "         0.00146324,  0.00116103,  0.00081519,  0.00042489]),\n",
       " 'k': 0.92161979725706078,\n",
       " 'y': array([  6.99040674e+00,   6.96165327e+00,   6.91381838e+00,\n",
       "          6.84703321e+00,   6.76148078e+00,   6.65739561e+00,\n",
       "          6.53506299e+00,   6.39481820e+00,   6.23704567e+00,\n",
       "          6.06217783e+00,   5.87069398e+00,   5.66311896e+00,\n",
       "          5.44002173e+00,   5.20201378e+00,   4.94974747e+00,\n",
       "          4.68391424e+00,   4.40524274e+00,   4.11449677e+00,\n",
       "          3.81247325e+00,   3.50000000e+00,   3.17793350e+00,\n",
       "          2.84715650e+00,   2.50857565e+00,   2.16311896e+00,\n",
       "          1.81173332e+00,   1.45538184e+00,   1.09504126e+00,\n",
       "          7.31699243e-01,   3.66351694e-01,   1.98293861e-15,\n",
       "         -3.66351694e-01,  -7.31699243e-01,  -1.09504126e+00,\n",
       "         -1.45538184e+00,  -1.81173332e+00,  -2.16311896e+00,\n",
       "         -2.50857565e+00,  -2.84715650e+00,  -3.17793350e+00,\n",
       "         -3.50000000e+00,  -3.81247325e+00,  -4.11449677e+00,\n",
       "         -4.40524274e+00,  -4.68391424e+00,  -4.94974747e+00,\n",
       "         -5.20201378e+00,  -5.44002173e+00,  -5.66311896e+00,\n",
       "         -5.87069398e+00,  -6.06217783e+00,  -6.23704567e+00,\n",
       "         -6.39481820e+00,  -6.53506299e+00,  -6.65739561e+00,\n",
       "         -6.76148078e+00,  -6.84703321e+00,  -6.91381838e+00,\n",
       "         -6.96165327e+00,  -6.99040674e+00])}"
      ]
     },
     "execution_count": 5,
     "metadata": {},
     "output_type": "execute_result"
    }
   ],
   "source": [
    "res"
   ]
  },
  {
   "cell_type": "code",
   "execution_count": 6,
   "metadata": {
    "collapsed": false
   },
   "outputs": [
    {
     "data": {
      "text/plain": [
       "[<matplotlib.lines.Line2D at 0x7f0723145390>]"
      ]
     },
     "execution_count": 6,
     "metadata": {},
     "output_type": "execute_result"
    },
    {
     "data": {
      "image/png": "[encoded data removed]",
      "text/plain": [
       "<matplotlib.figure.Figure at 0x7f07231b8630>"
      ]
     },
     "metadata": {},
     "output_type": "display_data"
    }
   ],
   "source": [
    "plt.plot(res['y'], res['c_l'])"
   ]
  },
  {
   "cell_type": "code",
   "execution_count": null,
   "metadata": {
    "collapsed": true
   },
   "outputs": [],
   "source": []
  }
 ],
 "metadata": {
  "kernelspec": {
   "display_name": "Python 3",
   "language": "python",
   "name": "python3"
  },
  "language_info": {
   "codemirror_mode": {
    "name": "ipython",
    "version": 3
   },
   "file_extension": ".py",
   "mimetype": "text/x-python",
   "name": "python",
   "nbconvert_exporter": "python",
   "pygments_lexer": "ipython3",
   "version": "3.5.2"
  }
 },
 "nbformat": 4,
 "nbformat_minor": 2
}
