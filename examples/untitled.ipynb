{
 "cells": [
  {
   "cell_type": "code",
   "execution_count": 1,
   "metadata": {},
   "outputs": [
    {
     "name": "stdout",
     "output_type": "stream",
     "text": [
      "Populating the interactive namespace from numpy and matplotlib\n"
     ]
    }
   ],
   "source": [
    "import numpy as np\n",
    "%pylab inline"
   ]
  },
  {
   "cell_type": "markdown",
   "metadata": {},
   "source": [
    "# Schubfluss infolge Querkraft\n",
    "## Modell: Zweizelliges dünnwandiges Profil mit in Umfangsrichtung veränderlichen E-Moduln, Schubmoduln und Wandstärken\n",
    "Autor: Simeon \"Moni\" Gubernator"
   ]
  },
  {
   "cell_type": "markdown",
   "metadata": {},
   "source": [
    "## Bemerkungen\n",
    "Laufvariablen für den Schubfluss des offenen Profils starten alle im unteren Schnittpunkt, d.h. sR läuft gegen den Uhrzeigersinn, sL mit dem Uhrzeigersinn und sM nach oben\n",
    "\n",
    "Laufvariablen für den konstanten Schubfluss in den Zellen laufen beide gegen den Uhrzeigersinn"
   ]
  },
  {
   "cell_type": "markdown",
   "metadata": {},
   "source": [
    "## 0. Formeln und Funktionen definieren"
   ]
  },
  {
   "cell_type": "markdown",
   "metadata": {},
   "source": [
    "### 0.0 Literatur:\n",
    "\n",
    "Francke, Wolfgang/Friemann, Harald. Schub und Torsion in geraden Stäben. Grundlagen - Berechnungsbeispiele, Wiesbaden 2005."
   ]
  },
  {
   "cell_type": "markdown",
   "metadata": {},
   "source": [
    "### 0.1 Bestimme NC (normal center)\n",
    "\n",
    "$ \\bar y_{NC} = \\frac{E S_\\bar y}{E A} $\n",
    "\n",
    "$ \\bar z_{NC} = \\frac{E S_\\bar z}{E A} $"
   ]
  },
  {
   "cell_type": "code",
   "execution_count": 3,
   "metadata": {},
   "outputs": [],
   "source": [
    "def normal_center(ES, EA):\n",
    "\n",
    "    NC = ES/EA\n",
    "    NC = np.flip(NC, 0)\n",
    "    return NC"
   ]
  },
  {
   "cell_type": "markdown",
   "metadata": {},
   "source": [
    "### 0.2 EA, ES, EI für Linienmodell"
   ]
  },
  {
   "cell_type": "code",
   "execution_count": 4,
   "metadata": {},
   "outputs": [],
   "source": [
    "def EA_linienmodell(polygon, E, t):\n",
    "\n",
    "    EA = 0\n",
    "    for i in range(0,len(polygon)-1):\n",
    "        a = np.array(polygon[i])\n",
    "        b = np.array(polygon[i+1])\n",
    "        E_i = E[i]\n",
    "        t_i = t[i]\n",
    "        Δs = np.linalg.norm(a-b)\n",
    "        \n",
    "        EA += E_i*Δs*t_i\n",
    "    \n",
    "    return EA\n",
    "\n",
    "\n",
    "def ES_linienmodell(polygon, E, t):\n",
    "\n",
    "    ES_y = 0\n",
    "    ES_z = 0\n",
    "    \n",
    "    for i in range(0,len(polygon)-1):\n",
    "        a = np.array(polygon[i])\n",
    "        b = np.array(polygon[i+1])\n",
    "        E_i = E[i]\n",
    "        t_i = t[i]\n",
    "        Δs = np.linalg.norm(a-b)\n",
    "        abstand = (a+b)/2\n",
    "        Δy = abstand[0]\n",
    "        Δz = abstand[1]\n",
    "    \n",
    "        ES_y += E_i*Δz*Δs*t_i\n",
    "        ES_z += E_i*Δy*Δs*t_i\n",
    "        \n",
    "    return ES_y, ES_z\n",
    "\n",
    "\n",
    "def ES_linienmodell_umlaufend(polygon_bzgl_NC, E, t):\n",
    "\n",
    "    ES_y = 0\n",
    "    ES_z = 0\n",
    "    thesum_y = []\n",
    "    thesum_z = []\n",
    "    \n",
    "    for i in range(0,len(polygon_bzgl_NC)-1):\n",
    "        a = np.array(polygon_bzgl_NC[i])\n",
    "        b = np.array(polygon_bzgl_NC[i+1])\n",
    "        E_i = E[i]\n",
    "        t_i = t[i]\n",
    "        Δs = np.linalg.norm(a-b)\n",
    "        abstand = (a+b)/2\n",
    "        Δy = abstand[0]\n",
    "        Δz = abstand[1]\n",
    "        \n",
    "        ES_y += E_i*Δz*Δs*t_i\n",
    "        ES_z += E_i*Δy*Δs*t_i\n",
    "        \n",
    "        thesum_y.append(np.array(ES_y))\n",
    "        thesum_z.append(np.array(ES_z))\n",
    "    \n",
    "    return thesum_y, thesum_z\n",
    "\n",
    "\n",
    "def EI_linienmodell_bzgl_NC(polygon_bzgl_NC, E, t):\n",
    "\n",
    "    EI_y = 0\n",
    "    EI_z = 0\n",
    "    EI_yz = 0\n",
    "    for i in range(0,len(polygon_bzgl_NC)-1):\n",
    "        a = np.array(polygon_bzgl_NC[i])\n",
    "        b = np.array(polygon_bzgl_NC[i+1])\n",
    "        E_i = E[i]\n",
    "        t_i = t[i]\n",
    "        Δs = np.linalg.norm(a-b)\n",
    "        abstand = (a+b)/2\n",
    "        Δy = abstand[0]\n",
    "        Δz = abstand[1]\n",
    "        \n",
    "        EI_y += E_i*Δz**2*Δs*t_i\n",
    "        EI_z += E_i*Δy**2*Δs*t_i\n",
    "        EI_yz += -E_i*Δy*Δz*Δs*t_i\n",
    "    \n",
    "    return EI_y, EI_z, EI_yz"
   ]
  },
  {
   "cell_type": "markdown",
   "metadata": {},
   "source": [
    "### 0.4 Formeln für Berechnung des konstanten Schubflusses in den geschlossenen Zellen"
   ]
  },
  {
   "cell_type": "code",
   "execution_count": 5,
   "metadata": {},
   "outputs": [],
   "source": [
    "def integral_Δs_durch_G_t(polygon_zelle_oder_rand_in_hauptachsen, schubmoduln_zelle_oder_rand, t_zelle_oder_rand):\n",
    "\n",
    "    integral_Δs_durch_G_t = 0\n",
    "    \n",
    "    for i in range(0,len(polygon_zelle_oder_rand_in_hauptachsen)-1):\n",
    "        a = np.array(polygon_zelle_oder_rand_in_hauptachsen[i])\n",
    "        b = np.array(polygon_zelle_oder_rand_in_hauptachsen[i+1])\n",
    "      \n",
    "        Δs_i = np.linalg.norm(a-b)\n",
    "        \n",
    "        integral_Δs_durch_G_t += Δs_i/(schubmoduln_zelle_oder_rand[i]*t_zelle_oder_rand[i])\n",
    "        \n",
    "    return integral_Δs_durch_G_t\n",
    "\n",
    "\n",
    "def integral_n_xSQ_Δs_durch_G_t(polygon_zelle_in_hauptachsen, schubmoduln_zelle, t_zelle, n_xSQ_zelle):\n",
    "\n",
    "    integral_n_xSQ_Δs_durch_G_t = 0\n",
    "    \n",
    "    for i in range(0,len(polygon_zelle_in_hauptachsen)-1):\n",
    "        a = np.array(polygon_zelle_in_hauptachsen[i])\n",
    "        b = np.array(polygon_zelle_in_hauptachsen[i+1])\n",
    "      \n",
    "        Δs_i = np.linalg.norm(a-b)\n",
    "        \n",
    "        integral_n_xSQ_Δs_durch_G_t += (n_xSQ_zelle[i]*Δs_i)/(schubmoduln_zelle[i]*t_zelle[i])\n",
    "    \n",
    "    return integral_n_xSQ_Δs_durch_G_t"
   ]
  },
  {
   "cell_type": "markdown",
   "metadata": {},
   "source": [
    "### 0.6 Eingeschlossene Fläche einer Zelle (Polygon) für Torsionsschub"
   ]
  },
  {
   "cell_type": "code",
   "execution_count": 6,
   "metadata": {},
   "outputs": [],
   "source": [
    "def eingeschlossene_fläche_polygon(polygon):\n",
    "\n",
    "    A = 0\n",
    "\n",
    "    for i in range(0,len(polygon)-1):\n",
    "        a = polygon[i]\n",
    "        b = polygon[i+1]\n",
    "    \n",
    "        A += 1/2 * (b[1]*a[0] - a[1]*b[0])\n",
    "    \n",
    "    return A"
   ]
  },
  {
   "cell_type": "code",
   "execution_count": 7,
   "metadata": {},
   "outputs": [],
   "source": [
    "def normal_center_linienmodell(profilgeometrie, emoduln, wandstärken):\n",
    "    \n",
    "    ES_links = ES_linienmodell(profilgeometrie[0], emoduln[0], wandstärken[0])\n",
    "    ES_mitte = ES_linienmodell(profilgeometrie[1], emoduln[1], wandstärken[1])\n",
    "    ES_rechts = ES_linienmodell(profilgeometrie[2], emoduln[2], wandstärken[2])\n",
    "    \n",
    "    EA_links = EA_linienmodell(profilgeometrie[0], emoduln[0], wandstärken[0])\n",
    "    EA_mitte = EA_linienmodell(profilgeometrie[1], emoduln[1], wandstärken[1])\n",
    "    EA_rechts = EA_linienmodell(profilgeometrie[2], emoduln[2], wandstärken[2])\n",
    "    \n",
    "    ES_ges = np.array((ES_links)) + np.array((ES_mitte)) + np.array((ES_rechts))\n",
    "    EA_ges = EA_links + EA_mitte + EA_rechts\n",
    "    \n",
    "    NC = normal_center(ES_ges, EA_ges)\n",
    "    \n",
    "    return NC"
   ]
  },
  {
   "cell_type": "code",
   "execution_count": 8,
   "metadata": {},
   "outputs": [],
   "source": [
    "def profilgeometrie_bzgl_NC(profilgeometrie, NC_profil):\n",
    "    \n",
    "    linke_seite_bzgl_NC = profilgeometrie[0] - NC_profil\n",
    "    mitte_bzgl_NC = profilgeometrie[1] - NC_profil\n",
    "    rechte_seite_bzgl_NC = profilgeometrie[2] - NC_profil\n",
    "    \n",
    "    profilgeometrie_bzgl_NC = linke_seite_bzgl_NC, mitte_bzgl_NC, rechte_seite_bzgl_NC\n",
    "    \n",
    "    return profilgeometrie_bzgl_NC"
   ]
  },
  {
   "cell_type": "code",
   "execution_count": 9,
   "metadata": {},
   "outputs": [],
   "source": [
    "def profilgeometrie_in_hauptachsen_bzgl_NC(profilgeometrie_bzgl_NC, emoduln, wandstärken):\n",
    "        \n",
    "    EI_links = EI_linienmodell_bzgl_NC(profilgeometrie_bzgl_NC[0], emoduln[0], wandstärken[0])\n",
    "    EI_mitte = EI_linienmodell_bzgl_NC(profilgeometrie_bzgl_NC[1], emoduln[1], wandstärken[1])\n",
    "    EI_rechts = EI_linienmodell_bzgl_NC(profilgeometrie_bzgl_NC[2], emoduln[2], wandstärken[2])\n",
    "    \n",
    "    EI_ges = np.array((EI_links)) + np.array((EI_mitte)) + np.array((EI_rechts))\n",
    "    \n",
    "    [EI_y, EI_z, EI_yz] = EI_ges\n",
    "\n",
    "    θ = -0.5*arctan(2*EI_yz/(EI_y - EI_z)) # aus TM2 Buch; hier mit Minus, da nicht das KS gedreht wird sondern die Geometrie\n",
    "\n",
    "    rotMatrix = np.array([[np.cos(θ), -np.sin(θ)],\n",
    "                          [np.sin(θ),  np.cos(θ)]])\n",
    "\n",
    "\n",
    "    linke_seite_in_hauptachsen_bzgl_NC = np.matmul(rotMatrix, np.matrix.transpose(profilgeometrie_bzgl_NC[0])).T\n",
    "\n",
    "    mitte_in_hauptachsen_bzgl_NC = np.matmul(rotMatrix, np.matrix.transpose(profilgeometrie_bzgl_NC[1])).T\n",
    "    \n",
    "    rechte_seite_in_hauptachsen_bzgl_NC = np.matmul(rotMatrix, np.matrix.transpose(profilgeometrie_bzgl_NC[2])).T\n",
    "\n",
    "    profilgeometrie_in_hauptachsen_bzgl_NC = linke_seite_in_hauptachsen_bzgl_NC, mitte_in_hauptachsen_bzgl_NC, rechte_seite_in_hauptachsen_bzgl_NC\n",
    "\n",
    "    return profilgeometrie_in_hauptachsen_bzgl_NC"
   ]
  },
  {
   "cell_type": "code",
   "execution_count": 10,
   "metadata": {},
   "outputs": [],
   "source": [
    "def schubfluss_profil_geöffnet_infolge_Q(profilgeometrie_in_hauptachsen_bzgl_NC, emoduln, wandstärken, querkraft):\n",
    "    \n",
    "    ES_umlaufend_links = ES_linienmodell_umlaufend(profilgeometrie_in_hauptachsen_bzgl_NC[0], emoduln[0], wandstärken[0])\n",
    "    ES_umlaufend_mitte = ES_linienmodell_umlaufend(profilgeometrie_in_hauptachsen_bzgl_NC[1], emoduln[1], wandstärken[1])\n",
    "    ES_umlaufend_rechts = ES_linienmodell_umlaufend(profilgeometrie_in_hauptachsen_bzgl_NC[2], emoduln[2], wandstärken[2])\n",
    "\n",
    "    EI_hauptachsen_links = EI_linienmodell_bzgl_NC(profilgeometrie_in_hauptachsen_bzgl_NC[0], emoduln[0], wandstärken[0])\n",
    "    EI_hauptachsen_mitte = EI_linienmodell_bzgl_NC(profilgeometrie_in_hauptachsen_bzgl_NC[1], emoduln[1], wandstärken[1])\n",
    "    EI_hauptachsen_rechts = EI_linienmodell_bzgl_NC(profilgeometrie_in_hauptachsen_bzgl_NC[2], emoduln[2], wandstärken[2])\n",
    "    \n",
    "    EI_hauptachsen_ges = np.array((EI_hauptachsen_links)) + np.array((EI_hauptachsen_mitte)) + np.array((EI_hauptachsen_rechts))\n",
    "\n",
    "    \n",
    "    ES_y_links = np.array(ES_umlaufend_links[0])\n",
    "    ES_y_mitte = np.array(ES_umlaufend_mitte[0])\n",
    "    ES_y_rechts = np.array(ES_umlaufend_rechts[0])\n",
    "    \n",
    "    EI_y_gesamt = EI_hauptachsen_ges[0]\n",
    "\n",
    "    Q_z = querkraft[1]\n",
    "    \n",
    "    n_xSQz_links = -(Q_z/EI_y_gesamt)*ES_y_links\n",
    "    n_xSQz_mitte = -(Q_z/EI_y_gesamt)*ES_y_mitte\n",
    "    n_xSQz_rechts = -(Q_z/EI_y_gesamt)*ES_y_rechts\n",
    "\n",
    "    \n",
    "    ES_z_links = np.array(ES_umlaufend_links[1])\n",
    "    ES_z_mitte = np.array(ES_umlaufend_mitte[1])\n",
    "    ES_z_rechts = np.array(ES_umlaufend_rechts[1])\n",
    "    \n",
    "    EI_z_gesamt = EI_hauptachsen_ges[1]\n",
    "\n",
    "    Q_y = querkraft[0]\n",
    "    \n",
    "    n_xSQy_links = -(Q_y/EI_z_gesamt)*ES_z_links\n",
    "    n_xSQy_mitte = -(Q_y/EI_z_gesamt)*ES_z_mitte\n",
    "    n_xSQy_rechts = -(Q_y/EI_z_gesamt)*ES_z_rechts\n",
    "    \n",
    "    return n_xSQz_links, n_xSQz_mitte, n_xSQz_rechts, n_xSQy_links, n_xSQy_mitte, n_xSQy_rechts"
   ]
  },
  {
   "cell_type": "code",
   "execution_count": 11,
   "metadata": {},
   "outputs": [],
   "source": [
    "def profildaten_in_entgegengesetzte_richtung(profildaten):\n",
    "    \n",
    "    profildaten_linke_seite_gegen = np.flip(profildaten[0], 0)\n",
    "    profildaten_mitte_gegen = np.flip(profildaten[1], 0)\n",
    "    profildaten_rechte_seite_gegen = np.flip(profildaten[2], 0)\n",
    "    \n",
    "    return profildaten_linke_seite_gegen, profildaten_mitte_gegen, profildaten_rechte_seite_gegen"
   ]
  },
  {
   "cell_type": "code",
   "execution_count": 12,
   "metadata": {},
   "outputs": [],
   "source": [
    "def profildaten_für_zellen(profildaten):\n",
    "    \n",
    "    profildaten_linke_seite_gegen = np.flip(profildaten[0], 0)\n",
    "    profildaten_mitte_gegen = np.flip(profildaten[1], 0)\n",
    "    profildaten_rechte_seite_gegen = np.flip(profildaten[2], 0)\n",
    "    \n",
    "    profildaten_zelle_links = np.concatenate((profildaten_linke_seite_gegen, profildaten[1]))\n",
    "    profildaten_zelle_rechts = np.concatenate((profildaten[2], profildaten_mitte_gegen))\n",
    "\n",
    "    return profildaten_zelle_links, profildaten_zelle_rechts"
   ]
  },
  {
   "cell_type": "code",
   "execution_count": 13,
   "metadata": {},
   "outputs": [],
   "source": [
    "def konstanter_schubfluss_in_zellen_infolge_Q(profilgeometrie_in_hauptachsen_bzgl_NC, schubmoduln, wandstärken, schubfluss_profil_geöffnet_infolge_Q):\n",
    "    \n",
    "    # berechne nötige Integrale   \n",
    "    \n",
    "    integral_Δs_durch_G_t_linke_seite = integral_Δs_durch_G_t(profilgeometrie_in_hauptachsen_bzgl_NC[0], schubmoduln[0], wandstärken[0])\n",
    "    \n",
    "    integral_Δs_durch_G_t_mitte = integral_Δs_durch_G_t(profilgeometrie_in_hauptachsen_bzgl_NC[1], schubmoduln[1], wandstärken[1])\n",
    "    \n",
    "    integral_Δs_durch_G_t_rechte_seite = integral_Δs_durch_G_t(profilgeometrie_in_hauptachsen_bzgl_NC[2], schubmoduln[2], wandstärken[2])\n",
    "\n",
    "    \n",
    "    integral_Δs_durch_G_t_zelle_links = integral_Δs_durch_G_t_linke_seite + integral_Δs_durch_G_t_mitte\n",
    "    integral_Δs_durch_G_t_zelle_rechts = integral_Δs_durch_G_t_rechte_seite + integral_Δs_durch_G_t_mitte\n",
    "    integral_Δs_durch_G_t_rand = integral_Δs_durch_G_t_mitte\n",
    "\n",
    "    integral_n_xSQz_Δs_durch_G_t_linke_seite = integral_n_xSQ_Δs_durch_G_t(profilgeometrie_in_hauptachsen_bzgl_NC[0], schubmoduln[0], wandstärken[0], schubfluss_profil_geöffnet_infolge_Q[0])\n",
    "\n",
    "    integral_n_xSQz_Δs_durch_G_t_mitte = integral_n_xSQ_Δs_durch_G_t(profilgeometrie_in_hauptachsen_bzgl_NC[1], schubmoduln[1], wandstärken[1], schubfluss_profil_geöffnet_infolge_Q[1])\n",
    "\n",
    "    integral_n_xSQz_Δs_durch_G_t_rechte_seite = integral_n_xSQ_Δs_durch_G_t(profilgeometrie_in_hauptachsen_bzgl_NC[2], schubmoduln[2], wandstärken[2], schubfluss_profil_geöffnet_infolge_Q[2])\n",
    "\n",
    "    \n",
    "    integral_n_xSQy_Δs_durch_G_t_linke_seite = integral_n_xSQ_Δs_durch_G_t(profilgeometrie_in_hauptachsen_bzgl_NC[0], schubmoduln[0], wandstärken[0], schubfluss_profil_geöffnet_infolge_Q[3])\n",
    "\n",
    "    integral_n_xSQy_Δs_durch_G_t_mitte = integral_n_xSQ_Δs_durch_G_t(profilgeometrie_in_hauptachsen_bzgl_NC[1], schubmoduln[1], wandstärken[1], schubfluss_profil_geöffnet_infolge_Q[4])\n",
    "\n",
    "    integral_n_xSQy_Δs_durch_G_t_rechte_seite = integral_n_xSQ_Δs_durch_G_t(profilgeometrie_in_hauptachsen_bzgl_NC[2], schubmoduln[2], wandstärken[2], schubfluss_profil_geöffnet_infolge_Q[5])\n",
    "    \n",
    "    # die Vorzeichen in der Matrix und im Lösungsvektor orientieren sich an \"Schub und Torsion in geraden Stäben\"\n",
    "    # sie sind so definiert, da die Laufvariable des konstanten Schubflusses in den Zellen gegen den Uhrzeigersinn läuft\n",
    "    # die Vorzeichen in y ergeben sich dadurch, dass die Werte in jedem Teilabschnitt positiv in U_i eingehen, wenn die Laufvariable des konstanten Schubflusses T_i mit der des Schubflusses im offenen Profil übereinstimmen - sonst negativ\n",
    "\n",
    "    a = integral_Δs_durch_G_t_zelle_links\n",
    "    d = integral_Δs_durch_G_t_zelle_rechts\n",
    "    b = -integral_Δs_durch_G_t_rand\n",
    "    c = -integral_Δs_durch_G_t_rand\n",
    "\n",
    "    e = -(-integral_n_xSQz_Δs_durch_G_t_linke_seite + integral_n_xSQz_Δs_durch_G_t_mitte)\n",
    "    f = -(integral_n_xSQz_Δs_durch_G_t_rechte_seite - integral_n_xSQz_Δs_durch_G_t_mitte)\n",
    "\n",
    "    g = -(-integral_n_xSQy_Δs_durch_G_t_linke_seite + integral_n_xSQy_Δs_durch_G_t_mitte)\n",
    "    h = -(integral_n_xSQy_Δs_durch_G_t_rechte_seite - integral_n_xSQy_Δs_durch_G_t_mitte)\n",
    "\n",
    "    A = np.matrix([[a, b], [c, d]])\n",
    "    y = np.array([e,f]).T\n",
    "    z = np.array([g,h]).T\n",
    "\n",
    "    n_xS0_links_infolge_Qz, n_xS0_rechts_infolge_Qz = np.linalg.solve(A, y)\n",
    "    n_xS0_links_infolge_Qy, n_xS0_rechts_infolge_Qy = np.linalg.solve(A, z)\n",
    "\n",
    "\n",
    "    return n_xS0_links_infolge_Qz, n_xS0_rechts_infolge_Qz, n_xS0_links_infolge_Qy, n_xS0_rechts_infolge_Qy"
   ]
  },
  {
   "cell_type": "code",
   "execution_count": 14,
   "metadata": {},
   "outputs": [],
   "source": [
    "def schubfluss_gesamt_infolge_Q(schubfluss_profil_geöffnet_infolge_Q, konstanter_schubfluss_in_zellen_infolge_Q):\n",
    "    \n",
    "    n_xSQz_links = schubfluss_profil_geöffnet_infolge_Q[0]\n",
    "    n_xSQz_mitte = schubfluss_profil_geöffnet_infolge_Q[1]\n",
    "    n_xSQz_rechts = schubfluss_profil_geöffnet_infolge_Q[2]\n",
    "    \n",
    "    n_xSQy_links = schubfluss_profil_geöffnet_infolge_Q[3]\n",
    "    n_xSQy_mitte = schubfluss_profil_geöffnet_infolge_Q[4]\n",
    "    n_xSQy_rechts = schubfluss_profil_geöffnet_infolge_Q[5]\n",
    "    \n",
    "    n_xS0_links_infolge_Qz = konstanter_schubfluss_in_zellen_infolge_Q[0]\n",
    "    n_xS0_rechts_infolge_Qz = konstanter_schubfluss_in_zellen_infolge_Q[1]\n",
    "    \n",
    "    n_xS0_links_infolge_Qy = konstanter_schubfluss_in_zellen_infolge_Q[2]\n",
    "    n_xS0_rechts_infolge_Qy = konstanter_schubfluss_in_zellen_infolge_Q[3]\n",
    "    \n",
    "    # Werte werden addiert, wenn Laufrichtungen von n_xSQ mit n_xS0 übereinstimmen, ansonsten wird n_xS0 subtrahiert\n",
    "    \n",
    "    n_xSQz_ges_links = n_xSQz_links - n_xS0_links_infolge_Qz\n",
    "    n_xSQz_ges_mitte = n_xSQz_mitte - n_xS0_rechts_infolge_Qz + n_xS0_links_infolge_Qz\n",
    "    n_xSQz_ges_rechts = n_xSQz_rechts + n_xS0_rechts_infolge_Qz\n",
    "    \n",
    "    n_xSQy_ges_links = n_xSQy_links - n_xS0_links_infolge_Qy\n",
    "    n_xSQy_ges_mitte = n_xSQy_mitte - n_xS0_rechts_infolge_Qy + n_xS0_links_infolge_Qy\n",
    "    n_xSQy_ges_rechts = n_xSQy_rechts + n_xS0_rechts_infolge_Qy   \n",
    "    \n",
    "    return n_xSQz_ges_links, n_xSQz_ges_mitte, n_xSQz_ges_rechts, n_xSQy_ges_links, n_xSQy_ges_mitte, n_xSQy_ges_rechts"
   ]
  },
  {
   "cell_type": "code",
   "execution_count": 15,
   "metadata": {},
   "outputs": [],
   "source": [
    "def schubfluss_gesamt_infolge_Q_überlagert(schubfluss_gesamt_infolge_Q):\n",
    "    \n",
    "    n_xSQz_ges_links = schubfluss_gesamt_infolge_Q[0]\n",
    "    n_xSQz_ges_mitte = schubfluss_gesamt_infolge_Q[1]\n",
    "    n_xSQz_ges_rechts = schubfluss_gesamt_infolge_Q[2]\n",
    "    n_xSQy_ges_links = schubfluss_gesamt_infolge_Q[3]\n",
    "    n_xSQy_ges_mitte = schubfluss_gesamt_infolge_Q[4]\n",
    "    n_xSQy_ges_rechts = schubfluss_gesamt_infolge_Q[5]\n",
    "    \n",
    "    n_xSQ_ges_links = n_xSQz_ges_links + n_xSQy_ges_links\n",
    "    n_xSQ_ges_mitte = n_xSQz_ges_mitte + n_xSQy_ges_mitte\n",
    "    n_xSQ_ges_rechts = n_xSQz_ges_rechts + n_xSQy_ges_rechts\n",
    "    \n",
    "    return n_xSQ_ges_links, n_xSQ_ges_mitte, n_xSQ_ges_rechts"
   ]
  },
  {
   "cell_type": "code",
   "execution_count": 16,
   "metadata": {},
   "outputs": [],
   "source": [
    "def schubfluss_für_plot_über_profil(profilgeometrie, schubfluss):\n",
    "    \n",
    "    profil_links = profilgeometrie[0]\n",
    "    profil_mitte = profilgeometrie[1]\n",
    "    profil_rechts = profilgeometrie[2]\n",
    "    \n",
    "    schubfluss_ges_links = schubfluss[0]\n",
    "    schubfluss_ges_mitte = schubfluss[1]\n",
    "    schubfluss_ges_rechts = schubfluss[2]\n",
    "       \n",
    "    punkt_am_profil_links = []\n",
    "    punkt_am_profil_mitte = []\n",
    "    punkt_am_profil_rechts = []\n",
    "    \n",
    "    \n",
    "    for i in range(0,len(profil_links)-1):\n",
    "        a = np.array(profil_links[i])\n",
    "        b = np.array(profil_links[i+1])\n",
    "        \n",
    "        m = (a+b)/2\n",
    "        n = b-a\n",
    "    \n",
    "        normalenvektor = [n[1], -n[0]]/np.linalg.norm(n)\n",
    "        \n",
    "        punkt_am_profil_links_i = normalenvektor*schubfluss_ges_links[i] + m\n",
    "        punkt_am_profil_links.append(punkt_am_profil_links_i)\n",
    "    \n",
    "    \n",
    "    for i in range(0,len(profil_mitte)-1):\n",
    "        a = np.array(profil_mitte[i])\n",
    "        b = np.array(profil_mitte[i+1])\n",
    "        \n",
    "        m = (a+b)/2\n",
    "        n = b-a\n",
    "    \n",
    "        normalenvektor = [n[1], -n[0]]/np.linalg.norm(n)\n",
    "        \n",
    "        punkt_am_profil_mitte_i = normalenvektor*schubfluss_ges_mitte[i] + m\n",
    "        punkt_am_profil_mitte.append(punkt_am_profil_mitte_i)\n",
    "        \n",
    "    \n",
    "    for i in range(0,len(profil_rechts)-1):\n",
    "        a = np.array(profil_rechts[i])\n",
    "        b = np.array(profil_rechts[i+1])\n",
    "        \n",
    "        m = (a+b)/2\n",
    "        n = b-a\n",
    "    \n",
    "        normalenvektor = [n[1], -n[0]]/np.linalg.norm(n)\n",
    "        \n",
    "        punkt_am_profil_rechts_i = normalenvektor*schubfluss_ges_rechts[i] + m\n",
    "        punkt_am_profil_rechts.append(punkt_am_profil_rechts_i)\n",
    "        \n",
    "        \n",
    "    return np.array(punkt_am_profil_links), np.array(punkt_am_profil_mitte), np.array(punkt_am_profil_rechts)"
   ]
  },
  {
   "cell_type": "code",
   "execution_count": 17,
   "metadata": {},
   "outputs": [],
   "source": [
    "def profildaten_aneinanderreihen(profildaten):\n",
    "    \n",
    "    profildaten_aneinander = np.concatenate((profildaten[0], profildaten[1], profildaten[2]))\n",
    "    \n",
    "    return np.array(profildaten_aneinander)"
   ]
  },
  {
   "cell_type": "code",
   "execution_count": 18,
   "metadata": {},
   "outputs": [],
   "source": [
    "def momente_durch_schubfluss(profilgeometrie_in_hauptachsen_bzgl_NC, schubfluss_gesamt_infolge_Q):\n",
    "    \n",
    "    profil_links = profilgeometrie_in_hauptachsen_bzgl_NC[0]\n",
    "    profil_mitte = profilgeometrie_in_hauptachsen_bzgl_NC[1]\n",
    "    profil_rechts = profilgeometrie_in_hauptachsen_bzgl_NC[2]\n",
    "    \n",
    "    n_xSQz_ges_links = schubfluss_gesamt_infolge_Q[0]\n",
    "    n_xSQz_ges_mitte = schubfluss_gesamt_infolge_Q[1]\n",
    "    n_xSQz_ges_rechts = schubfluss_gesamt_infolge_Q[2]\n",
    "    n_xSQy_ges_links = schubfluss_gesamt_infolge_Q[3]\n",
    "    n_xSQy_ges_mitte = schubfluss_gesamt_infolge_Q[4]\n",
    "    n_xSQy_ges_rechts = schubfluss_gesamt_infolge_Q[5]\n",
    "    \n",
    "    \n",
    "    moment_links_infolge_Qz = 0\n",
    "    moment_mitte_infolge_Qz = 0\n",
    "    moment_rechts_infolge_Qz = 0\n",
    "    \n",
    "    moment_links_infolge_Qy = 0\n",
    "    moment_mitte_infolge_Qy = 0\n",
    "    moment_rechts_infolge_Qy = 0\n",
    "    \n",
    "    \n",
    "    for i in range(0,len(profil_links)-1):\n",
    "        a = np.array(profil_links[i])\n",
    "        b = np.array(profil_links[i+1])\n",
    "        \n",
    "        m = (a+b)/2\n",
    "        n = b-a\n",
    "    \n",
    "        r_senkrecht_mal_norm_n_i = abs(np.cross(m,n))\n",
    "        \n",
    "        moment_links_infolge_Qz += r_senkrecht_mal_norm_n_i*n_xSQz_ges_links[i]\n",
    "        moment_links_infolge_Qy += r_senkrecht_mal_norm_n_i*n_xSQy_ges_links[i]\n",
    "        \n",
    "        \n",
    "    for i in range(0,len(profil_mitte)-1):\n",
    "        a = np.array(profil_mitte[i])\n",
    "        b = np.array(profil_mitte[i+1])\n",
    "        \n",
    "        m = (a+b)/2\n",
    "        n = b-a\n",
    "    \n",
    "        r_senkrecht_mal_norm_n_i = abs(np.cross(m,n))\n",
    "        \n",
    "        moment_mitte_infolge_Qz += r_senkrecht_mal_norm_n_i*n_xSQz_ges_mitte[i]\n",
    "        moment_mitte_infolge_Qy += r_senkrecht_mal_norm_n_i*n_xSQy_ges_mitte[i]\n",
    "        \n",
    "        \n",
    "    for i in range(0,len(profil_rechts)-1):\n",
    "        a = np.array(profil_rechts[i])\n",
    "        b = np.array(profil_rechts[i+1])\n",
    "        \n",
    "        m = (a+b)/2\n",
    "        n = b-a\n",
    "    \n",
    "        r_senkrecht_mal_norm_n_i = abs(np.cross(m,n))\n",
    "        \n",
    "        moment_rechts_infolge_Qz += r_senkrecht_mal_norm_n_i*n_xSQz_ges_rechts[i]\n",
    "        moment_rechts_infolge_Qy += r_senkrecht_mal_norm_n_i*n_xSQy_ges_rechts[i]\n",
    "    \n",
    "       \n",
    "    return moment_links_infolge_Qz, moment_mitte_infolge_Qz, moment_rechts_infolge_Qz, moment_links_infolge_Qy, moment_mitte_infolge_Qy, moment_rechts_infolge_Qy"
   ]
  },
  {
   "cell_type": "code",
   "execution_count": 19,
   "metadata": {},
   "outputs": [],
   "source": [
    "def schubmittelpunkt_in_hauptachsen_bzgl_NC(momente_durch_schubfluss, querkraft):\n",
    "    \n",
    "    moment_links_infolge_Qz = momente_durch_schubfluss[0]\n",
    "    moment_mitte_infolge_Qz = momente_durch_schubfluss[1]\n",
    "    moment_rechts_infolge_Qz = momente_durch_schubfluss[2]\n",
    "    moment_links_infolge_Qy = momente_durch_schubfluss[3]\n",
    "    moment_mitte_infolge_Qy = momente_durch_schubfluss[4]\n",
    "    moment_rechts_infolge_Qy = momente_durch_schubfluss[5]\n",
    "    \n",
    "    Q_y = querkraft[0]\n",
    "    Q_z = querkraft[1]\n",
    "\n",
    "    # linksdrehend positiv\n",
    "    moment_infolge_Qz_ges = -moment_links_infolge_Qz - moment_mitte_infolge_Qz + moment_rechts_infolge_Qz\n",
    "    moment_infolge_Qy_ges = -moment_links_infolge_Qy - moment_mitte_infolge_Qy + moment_rechts_infolge_Qy\n",
    "\n",
    "    if Q_z == 0:\n",
    "        y_SMP_bzgl_NC = 0\n",
    "    else:\n",
    "        y_SMP_bzgl_NC = moment_infolge_Qz_ges/Q_z\n",
    "    \n",
    "    \n",
    "    if Q_y == 0:\n",
    "        z_SMP_bzgl_NC = 0\n",
    "    else:\n",
    "        z_SMP_bzgl_NC = moment_infolge_Qy_ges/Q_y\n",
    "    \n",
    "\n",
    "    return y_SMP_bzgl_NC, z_SMP_bzgl_NC"
   ]
  },
  {
   "cell_type": "markdown",
   "metadata": {},
   "source": [
    "### Input Geometrie: profilgeometrie = linke_seite, mitte, rechte_seite\n",
    "3 numpy arrays.\n",
    "\n",
    "rechte_seite beginnt unten und läuft gegen den Uhrzeigersinn.\n",
    "\n",
    "linke_seite beginnt unten und läuft im Uhrzeigersinn.\n",
    "\n",
    "mitte beginnt unten und läuft nach oben."
   ]
  },
  {
   "cell_type": "code",
   "execution_count": 20,
   "metadata": {},
   "outputs": [],
   "source": [
    "unten_rechts = np.transpose(np.outer(np.array(((3),(0))), np.linspace(0,1,300)))\n",
    "unten_rechts = unten_rechts + np.array((1*ones(len(unten_rechts)), zeros(len(unten_rechts)))).T\n",
    "\n",
    "rechts = np.transpose(np.outer(np.array(((0),(1))), np.linspace(0,1,100)))\n",
    "rechts = rechts + np.array((4*ones(len(rechts)), zeros(len(rechts)))).T\n",
    "\n",
    "ecke_rechts = np.transpose(np.outer(np.array(((2),(-1))), np.linspace(1,0,224)))\n",
    "ecke_rechts = ecke_rechts + np.array((2*ones(len(ecke_rechts)), 2*ones(len(ecke_rechts)))).T\n",
    "\n",
    "oben_rechts = np.transpose(np.outer(np.array(((1),(0))), np.linspace(1,0,100)))\n",
    "oben_rechts = oben_rechts + np.array((1*ones(len(oben_rechts)), 2*ones(len(oben_rechts)))).T\n",
    "\n",
    "rechte_seite = np.vstack((unten_rechts, rechts[1:,:], ecke_rechts[1:,:], oben_rechts[1:,:]))\n",
    "\n",
    "unten_links = np.transpose(np.outer(np.array(((1),(0))), np.linspace(1,0,100)))\n",
    "\n",
    "links = np.transpose(np.outer(np.array(((0),(2))), np.linspace(0,1,200)))\n",
    "\n",
    "oben_links = np.transpose(np.outer(np.array(((1),(0))), np.linspace(0,1,100)))\n",
    "oben_links = oben_links + np.array((zeros(len(oben_links)), 2*ones(len(oben_links)))).T\n",
    "\n",
    "linke_seite = np.vstack((unten_links, links[1:,:], oben_links[1:,:]))\n",
    "\n",
    "mitte = np.transpose(np.outer(np.array(((0),(2))), np.linspace(0,1,200)))\n",
    "mitte = mitte + np.array((1*ones(len(mitte)), zeros(len(mitte)))).T\n",
    "\n",
    "\n",
    "profilgeometrie_an_stützstelle = linke_seite, mitte, rechte_seite"
   ]
  },
  {
   "cell_type": "markdown",
   "metadata": {},
   "source": [
    "### Input: Querkraft, Wandstärken, E-Moduln und Schubmoduln\n",
    "\n",
    "Laufrichtungen von t, E und G entsprechen den Laufrichtungen der Geometrie."
   ]
  },
  {
   "cell_type": "raw",
   "metadata": {},
   "source": [
    "querkraft_an_stützstelle = [1000,1000]\n",
    "\n",
    "wandstärken_rechts = 0.001*np.random.randint(2, 7, len(rechte_seite)-1)\n",
    "wandstärken_links = 0.001*np.random.randint(2, 7, len(linke_seite)-1)\n",
    "wandstärken_mitte = 0.001*np.random.randint(5, 10, len(mitte)-1)\n",
    "\n",
    "emoduln_rechts = np.random.randint(2, 5, len(rechte_seite)-1)\n",
    "emoduln_links = np.random.randint(2, 5, len(linke_seite)-1)\n",
    "emoduln_mitte = np.random.randint(2, 5, len(mitte)-1)\n",
    "\n",
    "schubmoduln_rechts = np.random.randint(2, 5, len(rechte_seite)-1)\n",
    "schubmoduln_links = np.random.randint(2, 5, len(linke_seite)-1)\n",
    "schubmoduln_mitte = np.random.randint(2, 5, len(mitte)-1)\n",
    "\n",
    "wandstärken_an_stützstelle = wandstärken_links, wandstärken_mitte, wandstärken_rechts\n",
    "emoduln_an_stützstelle = emoduln_links, emoduln_mitte, emoduln_rechts\n",
    "schubmoduln_an_stützstelle = schubmoduln_links, schubmoduln_mitte, schubmoduln_rechts"
   ]
  },
  {
   "cell_type": "code",
   "execution_count": 21,
   "metadata": {},
   "outputs": [],
   "source": [
    "querkraft_an_stützstelle = [1000,1000]\n",
    "\n",
    "wandstärken_rechts = 0.001*np.ones(len(rechte_seite)-1)\n",
    "wandstärken_links = 0.001*np.ones(len(linke_seite)-1)\n",
    "wandstärken_mitte = 0.001*np.ones(len(mitte)-1)\n",
    "\n",
    "emoduln_rechts = np.ones(len(rechte_seite)-1)\n",
    "emoduln_links = np.ones(len(linke_seite)-1)\n",
    "emoduln_mitte = np.ones(len(mitte)-1)\n",
    "\n",
    "schubmoduln_rechts = np.ones(len(rechte_seite)-1)\n",
    "schubmoduln_links = np.ones(len(linke_seite)-1)\n",
    "schubmoduln_mitte = np.ones(len(mitte)-1)\n",
    "\n",
    "wandstärken_an_stützstelle = wandstärken_links, wandstärken_mitte, wandstärken_rechts\n",
    "emoduln_an_stützstelle = emoduln_links, emoduln_mitte, emoduln_rechts\n",
    "schubmoduln_an_stützstelle = schubmoduln_links, schubmoduln_mitte, schubmoduln_rechts"
   ]
  },
  {
   "cell_type": "code",
   "execution_count": null,
   "metadata": {},
   "outputs": [],
   "source": []
  },
  {
   "cell_type": "code",
   "execution_count": 22,
   "metadata": {},
   "outputs": [],
   "source": [
    "# Berechnung NC_profil\n",
    "\n",
    "NC_profil_an_stützstelle = normal_center_linienmodell(profilgeometrie_an_stützstelle, emoduln_an_stützstelle, wandstärken_an_stützstelle)\n",
    "\n",
    "\n",
    "# profilgeometrie auf NC_profil beziehen\n",
    "\n",
    "profilgeometrie_an_stützstelle_bzgl_NC = profilgeometrie_bzgl_NC(profilgeometrie_an_stützstelle, NC_profil_an_stützstelle)\n",
    "\n",
    "\n",
    "# profilgeometrie ins Hauptachsensystem drehen\n",
    "\n",
    "profilgeometrie_an_stützstelle_in_hauptachsen_bzgl_NC = profilgeometrie_in_hauptachsen_bzgl_NC(profilgeometrie_an_stützstelle_bzgl_NC, emoduln_an_stützstelle, wandstärken_an_stützstelle)\n",
    "\n",
    "\n",
    "# Schubfluss Profil geöffnet infolge Q\n",
    "\n",
    "schubfluss_an_stützstelle_profil_geöffnet_infolge_Q = schubfluss_profil_geöffnet_infolge_Q(profilgeometrie_an_stützstelle_in_hauptachsen_bzgl_NC, emoduln_an_stützstelle, wandstärken_an_stützstelle, querkraft_an_stützstelle)\n",
    "\n",
    "\n",
    "# Konstante Schubflüsse in den Zellen infolge Q\n",
    "\n",
    "konstanter_schubfluss_an_stützstelle_in_zellen_infolge_Q = konstanter_schubfluss_in_zellen_infolge_Q(profilgeometrie_an_stützstelle_in_hauptachsen_bzgl_NC, schubmoduln_an_stützstelle, wandstärken_an_stützstelle, schubfluss_an_stützstelle_profil_geöffnet_infolge_Q)\n",
    "\n",
    "\n",
    "# Gesamtschubfluss im zweizelligen Profil\n",
    "\n",
    "schubfluss_gesamt_an_stützstelle_infolge_Q = schubfluss_gesamt_infolge_Q(schubfluss_an_stützstelle_profil_geöffnet_infolge_Q, konstanter_schubfluss_an_stützstelle_in_zellen_infolge_Q)\n",
    "\n",
    "\n",
    "# Gesamtschubfluss im zweizelligen Profil überlagert\n",
    "\n",
    "schubfluss_gesamt_an_stützstelle_infolge_Q_überlagert = schubfluss_gesamt_infolge_Q_überlagert(schubfluss_gesamt_an_stützstelle_infolge_Q)\n",
    "\n",
    "\n",
    "# Durch Schubfluss hervorgerufene Momente\n",
    "\n",
    "momente_durch_schubfluss_an_stützstelle = momente_durch_schubfluss(profilgeometrie_an_stützstelle_in_hauptachsen_bzgl_NC, schubfluss_gesamt_an_stützstelle_infolge_Q)\n",
    "\n",
    "\n",
    "# Schubmittelpunkt\n",
    "\n",
    "schubmittelpunkt_an_stützstelle_in_hauptachsen_bzgl_NC = schubmittelpunkt_in_hauptachsen_bzgl_NC(momente_durch_schubfluss_an_stützstelle, querkraft_an_stützstelle)"
   ]
  },
  {
   "cell_type": "code",
   "execution_count": 23,
   "metadata": {},
   "outputs": [
    {
     "data": {
      "text/plain": [
       "(-0.2791859348649149, -0.08350258431067166)"
      ]
     },
     "execution_count": 23,
     "metadata": {},
     "output_type": "execute_result"
    }
   ],
   "source": [
    "schubmittelpunkt_an_stützstelle_in_hauptachsen_bzgl_NC"
   ]
  },
  {
   "cell_type": "code",
   "execution_count": 24,
   "metadata": {},
   "outputs": [
    {
     "data": {
      "text/plain": [
       "[<matplotlib.lines.Line2D at 0x7e8ba20>]"
      ]
     },
     "execution_count": 24,
     "metadata": {},
     "output_type": "execute_result"
    },
    {
     "data": {
      "image/png": "[encoded data removed]",
      "text/plain": [
       "<Figure size 432x288 with 1 Axes>"
      ]
     },
     "metadata": {},
     "output_type": "display_data"
    }
   ],
   "source": [
    "links = schubfluss_an_stützstelle_profil_geöffnet_infolge_Q[0]\n",
    "mitte =  schubfluss_an_stützstelle_profil_geöffnet_infolge_Q[1]\n",
    "rechts =  schubfluss_an_stützstelle_profil_geöffnet_infolge_Q[2]\n",
    "\n",
    "n_xSQ_ges = np.concatenate((links, mitte, rechts))\n",
    "\n",
    "plot(n_xSQ_ges)"
   ]
  },
  {
   "cell_type": "code",
   "execution_count": 25,
   "metadata": {},
   "outputs": [
    {
     "data": {
      "text/plain": [
       "array([1.71563065, 0.89559089])"
      ]
     },
     "execution_count": 25,
     "metadata": {},
     "output_type": "execute_result"
    }
   ],
   "source": [
    "NC_profil_an_stützstelle"
   ]
  },
  {
   "cell_type": "markdown",
   "metadata": {},
   "source": [
    "### Plot Schubfluss gesamt infolge Q überlagert"
   ]
  },
  {
   "cell_type": "code",
   "execution_count": 26,
   "metadata": {
    "scrolled": false
   },
   "outputs": [
    {
     "data": {
      "text/plain": [
       "[<matplotlib.lines.Line2D at 0x7f2a0b8>]"
      ]
     },
     "execution_count": 26,
     "metadata": {},
     "output_type": "execute_result"
    },
    {
     "data": {
      "image/png": "[encoded data removed]",
      "text/plain": [
       "<Figure size 432x288 with 1 Axes>"
      ]
     },
     "metadata": {},
     "output_type": "display_data"
    }
   ],
   "source": [
    "n_xSQ_ges_links = schubfluss_gesamt_an_stützstelle_infolge_Q_überlagert[0]\n",
    "n_xSQ_ges_mitte = schubfluss_gesamt_an_stützstelle_infolge_Q_überlagert[1]\n",
    "n_xSQ_ges_rechts = schubfluss_gesamt_an_stützstelle_infolge_Q_überlagert[2]\n",
    "\n",
    "n_xSQ_ges = np.concatenate((n_xSQ_ges_links, n_xSQ_ges_mitte, n_xSQ_ges_rechts))\n",
    "\n",
    "plot(n_xSQ_ges)"
   ]
  },
  {
   "cell_type": "markdown",
   "metadata": {},
   "source": [
    "### Plot Schubfluss gesamt infolge Q überlagert über Profil"
   ]
  },
  {
   "cell_type": "code",
   "execution_count": 27,
   "metadata": {},
   "outputs": [
    {
     "data": {
      "text/plain": [
       "[<matplotlib.lines.Line2D at 0x7f96908>]"
      ]
     },
     "execution_count": 27,
     "metadata": {},
     "output_type": "execute_result"
    },
    {
     "data": {
      "image/png": "[encoded data removed]",
      "text/plain": [
       "<Figure size 432x288 with 1 Axes>"
      ]
     },
     "metadata": {},
     "output_type": "display_data"
    }
   ],
   "source": [
    "schubfluss_für_plot = schubfluss_für_plot_über_profil(profilgeometrie_an_stützstelle_in_hauptachsen_bzgl_NC, schubfluss_gesamt_an_stützstelle_infolge_Q_überlagert)\n",
    "\n",
    "schubfluss_für_plot_links = schubfluss_für_plot[0]\n",
    "schubfluss_für_plot_mitte = schubfluss_für_plot[1]\n",
    "schubfluss_für_plot_rechts = schubfluss_für_plot[2]\n",
    "\n",
    "gesamtprofil = profildaten_aneinanderreihen(profilgeometrie_an_stützstelle_in_hauptachsen_bzgl_NC)\n",
    "\n",
    "SMP = schubmittelpunkt_an_stützstelle_in_hauptachsen_bzgl_NC\n",
    "\n",
    "plot(gesamtprofil[:,0], gesamtprofil[:,1])\n",
    "plot(0,0, 'x')\n",
    "plot(SMP[0], SMP[1], 'o')\n",
    "plot(schubfluss_für_plot_links[:,0], schubfluss_für_plot_links[:,1], 'orange')\n",
    "plot(schubfluss_für_plot_mitte[:,0], schubfluss_für_plot_mitte[:,1], 'orange')\n",
    "plot(schubfluss_für_plot_rechts[:,0], schubfluss_für_plot_rechts[:,1], 'orange')"
   ]
  },
  {
   "cell_type": "markdown",
   "metadata": {},
   "source": [
    "### Prüfe: Integral des Gesamtschubflusses muss Q ergeben"
   ]
  },
  {
   "cell_type": "code",
   "execution_count": 28,
   "metadata": {},
   "outputs": [
    {
     "data": {
      "text/plain": [
       "array([1001.7633393 , 1000.31278467])"
      ]
     },
     "execution_count": 28,
     "metadata": {},
     "output_type": "execute_result"
    }
   ],
   "source": [
    "def integral_n_xSQ_ges_Δs(profilgeometrie_in_hauptachsen_bzgl_NC, schubfluss_gesamt_infolge_Q_überlagert):\n",
    "\n",
    "    \n",
    "    profil_links = profilgeometrie_in_hauptachsen_bzgl_NC[0]\n",
    "    profil_mitte = profilgeometrie_in_hauptachsen_bzgl_NC[1]\n",
    "    profil_rechts = profilgeometrie_in_hauptachsen_bzgl_NC[2]\n",
    "    \n",
    "    n_xSQ_ges_links = schubfluss_gesamt_infolge_Q_überlagert[0]\n",
    "    n_xSQ_ges_mitte = schubfluss_gesamt_infolge_Q_überlagert[1]\n",
    "    n_xSQ_ges_rechts = schubfluss_gesamt_infolge_Q_überlagert[2]\n",
    "    \n",
    "    \n",
    "    integral_n_xSQ_ges_Δs_links = 0\n",
    "    integral_n_xSQ_ges_Δs_mitte = 0\n",
    "    integral_n_xSQ_ges_Δs_rechts = 0\n",
    "    \n",
    "    \n",
    "    for i in range(0,len(profil_links)-1):\n",
    "        a = np.array(profil_links[i])\n",
    "        b = np.array(profil_links[i+1])\n",
    "        \n",
    "        integral_n_xSQ_ges_Δs_links += n_xSQ_ges_links[i]*(b-a)\n",
    "        \n",
    "    for i in range(0,len(profil_mitte)-1):\n",
    "        a = np.array(profil_mitte[i])\n",
    "        b = np.array(profil_mitte[i+1])\n",
    "        \n",
    "        integral_n_xSQ_ges_Δs_mitte += n_xSQ_ges_mitte[i]*(b-a)\n",
    "        \n",
    "    for i in range(0,len(profil_rechts)-1):\n",
    "        a = np.array(profil_rechts[i])\n",
    "        b = np.array(profil_rechts[i+1])\n",
    "        \n",
    "        integral_n_xSQ_ges_Δs_rechts += n_xSQ_ges_rechts[i]*(b-a)\n",
    "        \n",
    "    integral_n_xSQ_ges_Δs = integral_n_xSQ_ges_Δs_links + integral_n_xSQ_ges_Δs_mitte + integral_n_xSQ_ges_Δs_rechts\n",
    "    \n",
    "    return integral_n_xSQ_ges_Δs\n",
    "\n",
    "\n",
    "integral_n_xSQ_ges_Δs(profilgeometrie_an_stützstelle_in_hauptachsen_bzgl_NC, schubfluss_gesamt_an_stützstelle_infolge_Q_überlagert)"
   ]
  },
  {
   "cell_type": "markdown",
   "metadata": {},
   "source": [
    "### Prüfe Kontinuitätsbedingung"
   ]
  },
  {
   "cell_type": "code",
   "execution_count": 29,
   "metadata": {},
   "outputs": [
    {
     "data": {
      "text/plain": [
       "(5.820766091346741e-11, 9.89530235528946e-10)"
      ]
     },
     "execution_count": 29,
     "metadata": {},
     "output_type": "execute_result"
    }
   ],
   "source": [
    "def kontinuitätsbedingung_schubfluss(profilgeometrie_in_hauptachsen_bzgl_NC, schubmoduln, wandstärken, schubfluss_gesamt):\n",
    "    \n",
    "    integral_n_xSQ_ges_Δs_durch_G_t_linke_seite = 0\n",
    "    integral_n_xSQ_ges_Δs_durch_G_t_mitte = 0\n",
    "    integral_n_xSQ_ges_Δs_durch_G_t_rechte_seite = 0\n",
    "       \n",
    "    profil_links = profilgeometrie_in_hauptachsen_bzgl_NC[0]\n",
    "    profil_mitte = profilgeometrie_in_hauptachsen_bzgl_NC[1]\n",
    "    profil_rechts = profilgeometrie_in_hauptachsen_bzgl_NC[2]\n",
    "    \n",
    "    n_xSQ_ges_links = schubfluss_gesamt[0]\n",
    "    n_xSQ_ges_mitte = schubfluss_gesamt[1]\n",
    "    n_xSQ_ges_rechts = schubfluss_gesamt[2]\n",
    "    \n",
    "    schubmoduln_links = schubmoduln[0]\n",
    "    schubmoduln_mitte = schubmoduln[1]\n",
    "    schubmoduln_rechts = schubmoduln[2]\n",
    "    \n",
    "    wandstärken_links = wandstärken[0]\n",
    "    wandstärken_mitte = wandstärken[1]\n",
    "    wandstärken_rechts = wandstärken[2]\n",
    "    \n",
    "    \n",
    "    for i in range(0,len(profil_links)-1):\n",
    "        a = np.array(profil_links[i])\n",
    "        b = np.array(profil_links[i+1])\n",
    "      \n",
    "        Δs_i = np.linalg.norm(a-b)\n",
    "        \n",
    "        integral_n_xSQ_ges_Δs_durch_G_t_linke_seite += (n_xSQ_ges_links[i]*Δs_i)/(schubmoduln_links[i]*wandstärken_links[i])\n",
    "\n",
    "        \n",
    "    for i in range(0,len(profil_mitte)-1):\n",
    "        a = np.array(profil_mitte[i])\n",
    "        b = np.array(profil_mitte[i+1])\n",
    "      \n",
    "        Δs_i = np.linalg.norm(a-b)\n",
    "        \n",
    "        integral_n_xSQ_ges_Δs_durch_G_t_mitte += (n_xSQ_ges_mitte[i]*Δs_i)/(schubmoduln_mitte[i]*wandstärken_mitte[i])\n",
    "\n",
    "        \n",
    "    for i in range(0,len(profil_rechts)-1):\n",
    "        a = np.array(profil_rechts[i])\n",
    "        b = np.array(profil_rechts[i+1])\n",
    "      \n",
    "        Δs_i = np.linalg.norm(a-b)\n",
    "        \n",
    "        integral_n_xSQ_ges_Δs_durch_G_t_rechte_seite += (n_xSQ_ges_rechts[i]*Δs_i)/(schubmoduln_rechts[i]*wandstärken_rechts[i])\n",
    "        \n",
    "        \n",
    "    integral_n_xSQ_ges_Δs_durch_G_t_zelle_links = integral_n_xSQ_ges_Δs_durch_G_t_linke_seite - integral_n_xSQ_ges_Δs_durch_G_t_mitte\n",
    "    integral_n_xSQ_ges_Δs_durch_G_t_zelle_rechts = integral_n_xSQ_ges_Δs_durch_G_t_rechte_seite - integral_n_xSQ_ges_Δs_durch_G_t_mitte\n",
    "\n",
    "    \n",
    "    return integral_n_xSQ_ges_Δs_durch_G_t_zelle_links, integral_n_xSQ_ges_Δs_durch_G_t_zelle_rechts\n",
    "\n",
    "\n",
    "kontinuitätsbedingung_schubfluss(profilgeometrie_an_stützstelle_in_hauptachsen_bzgl_NC, schubmoduln_an_stützstelle, wandstärken_an_stützstelle, schubfluss_gesamt_an_stützstelle_infolge_Q_überlagert)"
   ]
  },
  {
   "cell_type": "markdown",
   "metadata": {},
   "source": [
    "## Schubfluss infolge Torsion\n",
    "nach Schürmann, Helmut: Konstruktiver Leichtbau I (Kapitel 3.5)"
   ]
  },
  {
   "cell_type": "code",
   "execution_count": 30,
   "metadata": {},
   "outputs": [],
   "source": [
    "def schubfluss_infolge_torsion(profilgeometrie_in_hauptachsen_bzgl_NC, schubmoduln, wandstärken, torsionsmoment):\n",
    "\n",
    "    profil_links = profilgeometrie_in_hauptachsen_bzgl_NC[0]\n",
    "    profil_mitte = profilgeometrie_in_hauptachsen_bzgl_NC[1]\n",
    "    profil_rechts = profilgeometrie_in_hauptachsen_bzgl_NC[2]\n",
    "    \n",
    "    schubmoduln_links = schubmoduln[0]\n",
    "    schubmoduln_mitte = schubmoduln[1]\n",
    "    schubmoduln_rechts = schubmoduln[2]\n",
    "    \n",
    "    wandstärken_links = wandstärken[0]\n",
    "    wandstärken_mitte = wandstärken[1]\n",
    "    wandstärken_rechts = wandstärken[2]\n",
    "        \n",
    "    \n",
    "    a = integral_Δs_durch_G_t_linke_seite = integral_Δs_durch_G_t(profil_links, schubmoduln_links, wandstärken_links)\n",
    "    b = integral_Δs_durch_G_t_mitte = integral_Δs_durch_G_t(profil_mitte, schubmoduln_mitte, wandstärken_mitte)\n",
    "    c = integral_Δs_durch_G_t_rechte_seite = integral_Δs_durch_G_t(profil_rechts, schubmoduln_rechts, wandstärken_rechts)\n",
    "    \n",
    "    zellen_in_hauptachsen_bzgl_NC = profildaten_für_zellen(profilgeometrie_in_hauptachsen_bzgl_NC)\n",
    "    \n",
    "    polygon_zelle_links = zellen_in_hauptachsen_bzgl_NC[0]\n",
    "    polygon_zelle_rechts = zellen_in_hauptachsen_bzgl_NC[1]\n",
    "\n",
    "    Am_links = eingeschlossene_fläche_polygon(polygon_zelle_links)\n",
    "    Am_rechts = eingeschlossene_fläche_polygon(polygon_zelle_rechts)\n",
    "\n",
    "    u = a/Am_links + b/Am_links + b/Am_rechts\n",
    "    v = c/Am_rechts + b/Am_rechts + b/Am_links\n",
    "    w = 1 + (Am_rechts/Am_links)*(u/v)\n",
    "\n",
    "    n_xS_links = torsionsmoment/(2*Am_links)*(1/w)\n",
    "\n",
    "    n_xS_rechts = n_xS_links*(u/v)\n",
    "\n",
    "    return n_xS_links, n_xS_rechts"
   ]
  },
  {
   "cell_type": "code",
   "execution_count": 31,
   "metadata": {},
   "outputs": [
    {
     "data": {
      "text/plain": [
       "(0.06272935579156441, 0.07490825768337436)"
      ]
     },
     "execution_count": 31,
     "metadata": {},
     "output_type": "execute_result"
    }
   ],
   "source": [
    "M_T = 1\n",
    "\n",
    "schubfluss_infolge_torsion(profilgeometrie_an_stützstelle_in_hauptachsen_bzgl_NC, schubmoduln_an_stützstelle, wandstärken_an_stützstelle, M_T)"
   ]
  },
  {
   "cell_type": "markdown",
   "metadata": {},
   "source": [
    "## Dehnungen und Spannungen infolge N und M"
   ]
  },
  {
   "cell_type": "code",
   "execution_count": 32,
   "metadata": {},
   "outputs": [],
   "source": [
    "def deformation_vec(forces, EA, EI):\n",
    "\n",
    "    EI_y = EI[0]\n",
    "    EI_z = EI[1]\n",
    "    EI_yz = EI[2]\n",
    "    \n",
    "    matrix = np.matrix([[EA, 0, 0], [0, EI_y, EI_yz], [0, EI_yz, EI_z]])\n",
    "    \n",
    "    deformations = np.linalg.solve(matrix, forces) # ϵ, κ_x, κ_y\n",
    "    \n",
    "    return deformations"
   ]
  },
  {
   "cell_type": "code",
   "execution_count": 33,
   "metadata": {},
   "outputs": [
    {
     "data": {
      "text/plain": [
       "array([ 75.55113813, 127.68575459,  41.07287088])"
      ]
     },
     "execution_count": 33,
     "metadata": {},
     "output_type": "execute_result"
    }
   ],
   "source": [
    "N = 1\n",
    "M_y = 1\n",
    "M_z = 1\n",
    "\n",
    "forces_schnitt = np.array([N, M_y, M_z]).T\n",
    "\n",
    "\n",
    "\n",
    "def EI_gesamtprofil(profilgeometrie_in_hauptachsen_bzgl_NC, emoduln, wandstärken):\n",
    "\n",
    "    EI_hauptachsen_links = EI_linienmodell_bzgl_NC(profilgeometrie_in_hauptachsen_bzgl_NC[0], emoduln[0], wandstärken[0])\n",
    "    EI_hauptachsen_mitte = EI_linienmodell_bzgl_NC(profilgeometrie_in_hauptachsen_bzgl_NC[1], emoduln[1], wandstärken[1])\n",
    "    EI_hauptachsen_rechts = EI_linienmodell_bzgl_NC(profilgeometrie_in_hauptachsen_bzgl_NC[2], emoduln[2], wandstärken[2])\n",
    "    \n",
    "    EI_hauptachsen_ges = np.array((EI_hauptachsen_links)) + np.array((EI_hauptachsen_mitte)) + np.array((EI_hauptachsen_rechts))\n",
    "    \n",
    "    return EI_hauptachsen_ges\n",
    "\n",
    "\n",
    "def EA_gesamtprofil(profilgeometrie_in_hauptachsen_bzgl_NC, emoduln, wandstärken):\n",
    "\n",
    "    EA_links = EA_linienmodell(profilgeometrie_in_hauptachsen_bzgl_NC[0], emoduln[0], wandstärken[0])\n",
    "    EA_mitte = EA_linienmodell(profilgeometrie_in_hauptachsen_bzgl_NC[1], emoduln[1], wandstärken[1])\n",
    "    EA_rechts = EA_linienmodell(profilgeometrie_in_hauptachsen_bzgl_NC[2], emoduln[2], wandstärken[2])\n",
    "    \n",
    "    EA_gesamt = EA_links + EA_mitte + EA_rechts\n",
    "    \n",
    "    return EA_gesamt\n",
    "    \n",
    "\n",
    "EA = EA_gesamtprofil(profilgeometrie_an_stützstelle_in_hauptachsen_bzgl_NC, emoduln_an_stützstelle, wandstärken_an_stützstelle)\n",
    "\n",
    "EI = EI_gesamtprofil(profilgeometrie_an_stützstelle_in_hauptachsen_bzgl_NC, emoduln_an_stützstelle, wandstärken_an_stützstelle)\n",
    "\n",
    "deformation_vec_schnitt = deformation_vec(forces_schnitt, EA, EI)\n",
    "deformation_vec_schnitt"
   ]
  },
  {
   "cell_type": "code",
   "execution_count": 34,
   "metadata": {},
   "outputs": [],
   "source": [
    "def dehnung_in_jedem_element_im_schnitt(profilgeometrie_in_hauptachsen_bzgl_NC, deformation_vec):\n",
    "    # dehnung in x richtung\n",
    "    \n",
    "    profil_links = profilgeometrie_in_hauptachsen_bzgl_NC[0]\n",
    "    profil_mitte = profilgeometrie_in_hauptachsen_bzgl_NC[1]\n",
    "    profil_rechts = profilgeometrie_in_hauptachsen_bzgl_NC[2]\n",
    "    \n",
    "    ϵ = deformation_vec[0]\n",
    "    κ_y = deformation_vec[1]\n",
    "    κ_z = deformation_vec[2]\n",
    "    \n",
    "    dehnungen_links = []\n",
    "    dehnungen_mitte = []\n",
    "    dehnungen_rechts = []\n",
    "      \n",
    "    for i in range(0,len(profil_links)-1):\n",
    "        a = np.array(profil_links[i])\n",
    "        b = np.array(profil_links[i+1])\n",
    "        abstand = (a+b)/2\n",
    "        Δy = abstand[0]\n",
    "        Δz = abstand[1]\n",
    "        dehnung_links_i = ϵ + Δy*κ_y + Δz*κ_z\n",
    "        dehnungen_links.append(dehnung_links_i)\n",
    "        \n",
    "    for i in range(0,len(profil_mitte)-1):\n",
    "        a = np.array(profil_mitte[i])\n",
    "        b = np.array(profil_mitte[i+1])\n",
    "        abstand = (a+b)/2\n",
    "        Δy = abstand[0]\n",
    "        Δz = abstand[1]\n",
    "        dehnung_mitte_i = ϵ + Δy*κ_y + Δz*κ_z\n",
    "        dehnungen_mitte.append(dehnung_mitte_i)\n",
    "\n",
    "    for i in range(0,len(profil_rechts)-1):\n",
    "        a = np.array(profil_rechts[i])\n",
    "        b = np.array(profil_rechts[i+1])\n",
    "        abstand = (a+b)/2\n",
    "        Δy = abstand[0]\n",
    "        Δz = abstand[1]\n",
    "        dehnung_rechts_i = ϵ + Δy*κ_y + Δz*κ_z\n",
    "        dehnungen_rechts.append(dehnung_rechts_i)\n",
    "        \n",
    "    return dehnungen_links, dehnungen_mitte, dehnungen_rechts"
   ]
  },
  {
   "cell_type": "code",
   "execution_count": 35,
   "metadata": {},
   "outputs": [],
   "source": [
    "dehnungen_in_x = dehnung_in_jedem_element_im_schnitt(profilgeometrie_an_stützstelle_in_hauptachsen_bzgl_NC, deformation_vec_schnitt)"
   ]
  },
  {
   "cell_type": "code",
   "execution_count": 36,
   "metadata": {},
   "outputs": [],
   "source": [
    "def spannungen_im_element(dehnung_im_element, emoduln):\n",
    "    \n",
    "    dehnungen_links = dehnung_im_element[0]\n",
    "    dehnungen_mitte = dehnung_im_element[1]\n",
    "    dehnungen_rechts = dehnung_im_element[2]\n",
    "    \n",
    "    E_links = emoduln[0]\n",
    "    E_mitte = emoduln[1]\n",
    "    E_rechts = emoduln[2]\n",
    "    \n",
    "    spannungen_links = []\n",
    "    spannungen_mitte = []\n",
    "    spannungen_rechts = []\n",
    "    \n",
    "    for i in range(0,len(E_links)-1):\n",
    "        spannung_l = dehnungen_links[i]*E_links[i]\n",
    "        spannungen_links.append(spannung_l)\n",
    "        \n",
    "    for i in range(0,len(E_mitte)):\n",
    "        spannung_m = dehnungen_mitte[i]*E_mitte[i]\n",
    "        spannungen_mitte.append(spannung_m)\n",
    "        \n",
    "    for i in range(0,len(E_rechts)):\n",
    "        spannung_r = dehnungen_rechts[i]*E_rechts[i]\n",
    "        spannungen_rechts.append(spannung_r)\n",
    "        \n",
    "    return spannungen_links, spannungen_mitte, spannungen_rechts"
   ]
  },
  {
   "cell_type": "code",
   "execution_count": 37,
   "metadata": {},
   "outputs": [],
   "source": [
    "spannungen_pro_element = spannungen_im_element(dehnungen_in_x, emoduln_an_stützstelle)"
   ]
  },
  {
   "cell_type": "code",
   "execution_count": null,
   "metadata": {},
   "outputs": [],
   "source": []
  },
  {
   "cell_type": "code",
   "execution_count": null,
   "metadata": {},
   "outputs": [],
   "source": []
  },
  {
   "cell_type": "code",
   "execution_count": null,
   "metadata": {},
   "outputs": [],
   "source": []
  }
 ],
 "metadata": {
  "kernelspec": {
   "display_name": "Python 3",
   "language": "python",
   "name": "python3"
  },
  "language_info": {
   "codemirror_mode": {
    "name": "ipython",
    "version": 3
   },
   "file_extension": ".py",
   "mimetype": "text/x-python",
   "name": "python",
   "nbconvert_exporter": "python",
   "pygments_lexer": "ipython3",
   "version": "3.6.8"
  }
 },
 "nbformat": 4,
 "nbformat_minor": 2
}
